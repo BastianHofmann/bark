{
 "cells": [
  {
   "cell_type": "markdown",
   "metadata": {},
   "source": [
    "# Development of Behavior Models\n",
    "\n",
    "This notebook demonstrates how to develop a simple behavior model."
   ]
  },
  {
   "cell_type": "code",
   "execution_count": 5,
   "metadata": {},
   "outputs": [],
   "source": [
    "import bark"
   ]
  },
  {
   "cell_type": "markdown",
   "metadata": {},
   "source": [
    "Besides the dynamic and execution models, BARK requires for an agent to have a BehaviorModel that defines its behavior (planner). This model receives an observed world and ouputs a trajectory for the agent for a pre-defined planning horiozon.\n",
    "\n",
    "This class has three virtual functions that can be overloaded: Plan, Clone, and ActionToBehavior.The latter is only required if the action of the behavior model should be set externally.\n",
    "\n",
    "The Plan() function is the main functionality that needs to be implemented. It returns a trajectory and stores the trajectory internally in the behavior model.\n",
    "\n",
    "\n",
    "A basic derived behavior model class could look something like this:"
   ]
  },
  {
   "cell_type": "code",
   "execution_count": 6,
   "metadata": {},
   "outputs": [],
   "source": [
    "import numpy as np\n",
    "from bark.core.models.behavior import BehaviorModel\n",
    "\n",
    "class DerivedBehaviorModel(BehaviorModel):\n",
    "    def __init__(self,\n",
    "                 params=None):\n",
    "        BehaviorModel.__init__(self, params)\n",
    "\n",
    "    def Plan(self, step_time, observed_world):\n",
    "        pass\n",
    "\n",
    "    def Clone(self):\n",
    "        return self\n",
    "    \n",
    "    def ActionToBehavior(self, action):\n",
    "        pass"
   ]
  },
  {
   "cell_type": "markdown",
   "metadata": {},
   "source": [
    "However, this would not be a valid behavior model as the Plan function does not return or set a trajectory. \n",
    "\n",
    "To implement a valid behavior model, let us modify the Plan function:"
   ]
  },
  {
   "cell_type": "code",
   "execution_count": 7,
   "metadata": {},
   "outputs": [],
   "source": [
    "import numpy as np\n",
    "from bark.core.models.behavior import BehaviorModel\n",
    "\n",
    "class DerivedBehaviorModel(BehaviorModel):\n",
    "    def __init__(self,\n",
    "                 params=None):\n",
    "        BehaviorModel.__init__(self, params)\n",
    "\n",
    "    def Plan(self, step_time, observed_world):\n",
    "        trajectory_points = 10\n",
    "        start_time = observed_world.GetWorldTime()\n",
    "        ego_vehicle_state = observed_world.CurrentEgoState()\n",
    "        trajectory_time = np.linspace(\n",
    "        start_time, start_time + step_time, trajectory_points)\n",
    "        \n",
    "        # 10 time steps x (time, x, y, theta and velocity)\n",
    "        trajectory = np.zeros(shape=(trajectory_points, 5))\n",
    "        trajectory[:, 0] = trajectory_time\n",
    "        trajectory[:, 1:4] = ego_vehicle_state\n",
    "        \n",
    "        # store the trajectory and return it\n",
    "        super().SetTrajectory(trajectory)\n",
    "        return trajectory\n",
    "\n",
    "    def Clone(self):\n",
    "        return self\n",
    "    \n",
    "    def ActionToBehavior(self, action):\n",
    "        pass"
   ]
  },
  {
   "cell_type": "markdown",
   "metadata": {},
   "source": [
    "This now poses a fully functional behavior model that can be passed into and used by the BARK simulation framework.\n",
    "Although, it does not do much besides standing on a single point.\n",
    "\n",
    "To ease development of novel behavior models further, BARK offers an abstraction layer for the OpenDrive Maps and a wide variety of geometry functions (such as collision checks, distance functions, etc.)"
   ]
  },
  {
   "cell_type": "code",
   "execution_count": null,
   "metadata": {},
   "outputs": [],
   "source": []
  }
 ],
 "metadata": {
  "kernelspec": {
   "display_name": "Python 3",
   "language": "python",
   "name": "python3"
  },
  "language_info": {
   "codemirror_mode": {
    "name": "ipython",
    "version": 3
   },
   "file_extension": ".py",
   "mimetype": "text/x-python",
   "name": "python",
   "nbconvert_exporter": "python",
   "pygments_lexer": "ipython3",
   "version": "3.7.8rc1+"
  }
 },
 "nbformat": 4,
 "nbformat_minor": 4
}
