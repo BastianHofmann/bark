{
 "cells": [
  {
   "cell_type": "markdown",
   "metadata": {},
   "source": [
    "# Maps in BARK\n",
    "\n",
    "This notebook provides a short introduction to the map-format used in BARK.\n",
    "First, we will go into detail of the OpenDrive format, then we will give an overview how to import and analyze the maps and, finally, how to efficiently use them within BARK.\n",
    "\n",
    "BARK, therefore, extends the OpenDrive format using Road- and Lane-Corridors.\n",
    "These are routing based road and lane abstractions that provide an easy-to-use interface for any agent/planner.\n",
    "\n"
   ]
  },
  {
   "cell_type": "markdown",
   "metadata": {},
   "source": [
    "## OpenDrive Format\n",
    "\n",
    "We outline the most important aspects of the OpenDrive format here.\n",
    "Each map-file is represented in a XML-format in which roads, junctions and lanes are defined.\n",
    "As BARK does not support signals (e.g. traffic lights), these are omitted in the following discussion.\n",
    "\n",
    "Each road in the OpenDrive format has a PlanView that provides a geometric definition of the road.\n",
    "```xml\n",
    "<planView>\n",
    "   <geometry s=\"0\" x=\"0\" y=\"0\" hdg=\"1.5707963267987366e+00\" length=\"100\">\n",
    "      <line/>\n",
    "   </geometry>\n",
    "</planView>\n",
    "```\n",
    "The geometries within the PlanView can be lines, arcs or spirals.\n",
    "\n",
    "And each road has LaneSections that define a certain length of the road.\n",
    "Within a lane section the number of lanes is constant.\n",
    "Thus, by using LaneSections it is possible to change the number of lanes in a single lane.\n",
    "A LaneSection has one or multiple lanes that are derived from the PlanViews geometry and then iteratively from the inner lane's geometry.\n",
    "```xml\n",
    "<laneSection s=\"0.0000000000000000e+00\">\n",
    "   <lane id=\"3\" type=\"sidewalk\" level= \"false\">\n",
    "      <link>\n",
    "         <predecessor id=\"-1\"/>\n",
    "         <successor id=\"-1\"/>\n",
    "      </link>\n",
    "      <width sOffset=\"0\" a=\"1.5\" b=\"0\" c=\"0\" d=-0\"/>\n",
    "   </lane>\n",
    "</laneSection>\n",
    "```\n",
    "\n",
    "Each lane and road can have predecessors and successors defined.\n",
    "Additionally, for more complex linking, such as intersections junctions can be used.\n",
    "Junctions are defined as\n",
    "```xml\n",
    "<junction name=\"\" id=\"2\">\n",
    "   <connection id=\"0\" incomingRoad=\"8\" connectingRoad=\"4\" contactPoint=\"start\">\n",
    "      <laneLink from=\"1\" to=\"-1\"/>\n",
    "      <laneLink from=\"2\" to=\"-2\"/>\n",
    "      <laneLink from=\"3\" to=\"-3\"/>\n",
    "   </connection>\n",
    "</junction>\n",
    "```\n",
    "having lane-links and connections for the roads.\n",
    "\n",
    "BARK initially stores the map in exactly the same structure as the OpenDrive format in c++.\n",
    "These c++ files can be found in the folder `modules/world/opendrive/':\n",
    "\n",
    "```\n",
    "BUILD                   junction.hpp            lane_section.cpp        odrSpiral.hpp           plan_view.hpp\n",
    "commons.hpp             lane.cpp                lane_section.hpp        opendrive.hpp           road.cpp\n",
    "helpers.hpp             lane.hpp                odrSpiral.cpp           plan_view.cpp           road.hpp\n",
    "```\n",
    "\n",
    "For a more detailed specification visit the OpenDrive website at http://www.opendrive.org."
   ]
  },
  {
   "cell_type": "markdown",
   "metadata": {},
   "source": [
    "## BARK-specific Maps\n",
    "\n",
    "Additionally to the OpenDrive structure BARK creates a *RoadGraph*, that includes all lanes and their connections. The RoadGraph, therefore, provides an abstraction layer and easy-to-use interface to query the OpenDrive format -- e.g. it can be used for routing. The implementation of the RoadGraph can be found in `modules/world/map/roadgraph.hpp'.\n",
    "\n",
    "The *MapInterface* implements functions, such as a routing function and other utility functions.\n",
    "It also generates routing specific RoadCorridors and LaneCorridors.\n",
    "Each agent in BARK has at least one RoadCorridor that it is following.\n",
    "\n",
    "The *RoadCorridor* can be seen as a route specific OpenDrive road that the agent is following.\n",
    "Each agent can act within its RoadCorridor, such as following the lane or changing the lanes within it.\n",
    "The agent can e.g. query the RoadCorridor on which lane it currently is and if there are neighboring lanes that it can change to.\n",
    "\n",
    "A RoadCorridor has additonally *LaneCorridors*. These are consecutive concatenated lanes within the RoadCorridor that provide additonal utility functions.\n",
    "\n",
    "All these definitions can be found within the `modules/world/map/' folder."
   ]
  },
  {
   "cell_type": "markdown",
   "metadata": {},
   "source": [
    "## Importing an OpenDrive Map\n",
    "\n",
    "In the folowing, we will load the example intersection map provided on the OpenDrive website.\n",
    "Therefore, we use the *XodrParser* of BARK.\n",
    "The XodrParser parses the OpenDrive xml-file and converts it to the c++ OpenDrive structure."
   ]
  },
  {
   "cell_type": "code",
   "execution_count": 1,
   "metadata": {},
   "outputs": [
    {
     "output_type": "error",
     "ename": "ModuleNotFoundError",
     "evalue": "No module named 'bark'",
     "traceback": [
      "\u001b[0;31m---------------------------------------------------------------------------\u001b[0m",
      "\u001b[0;31mModuleNotFoundError\u001b[0m                       Traceback (most recent call last)",
      "\u001b[0;32m<ipython-input-1-afcc853b94c7>\u001b[0m in \u001b[0;36m<module>\u001b[0;34m\u001b[0m\n\u001b[0;32m----> 1\u001b[0;31m \u001b[0;32mimport\u001b[0m \u001b[0mbark\u001b[0m\u001b[0;34m\u001b[0m\u001b[0m\n\u001b[0m\u001b[1;32m      2\u001b[0m \u001b[0;32mfrom\u001b[0m \u001b[0mmodules\u001b[0m\u001b[0;34m.\u001b[0m\u001b[0mruntime\u001b[0m\u001b[0;34m.\u001b[0m\u001b[0mcommons\u001b[0m\u001b[0;34m.\u001b[0m\u001b[0mxodr_parser\u001b[0m \u001b[0;32mimport\u001b[0m \u001b[0mXodrParser\u001b[0m\u001b[0;34m\u001b[0m\u001b[0m\n\u001b[1;32m      3\u001b[0m \u001b[0mxodr_parser\u001b[0m \u001b[0;34m=\u001b[0m \u001b[0mXodrParser\u001b[0m\u001b[0;34m(\u001b[0m\u001b[0;34m\"modules/runtime/tests/data/Crossing8Course.xodr\"\u001b[0m\u001b[0;34m)\u001b[0m\u001b[0;34m\u001b[0m\u001b[0m\n",
      "\u001b[0;31mModuleNotFoundError\u001b[0m: No module named 'bark'"
     ]
    }
   ],
   "source": [
    "import bark\n",
    "from modules.runtime.commons.xodr_parser import XodrParser\n",
    "xodr_parser = XodrParser(\"modules/runtime/tests/data/Crossing8Course.xodr\")\n",
    ""
   ]
  },
  {
   "cell_type": "markdown",
   "metadata": {},
   "source": [
    "## MapInterface\n",
    "In this step, we create the MapInterface that provides an easy-to-use interface for the OpenDrive structure.\n",
    "As above-mentioned, the MapInterface provides a wide range of ulitity- and handling functions for the map.\n"
   ]
  },
  {
   "cell_type": "code",
   "execution_count": null,
   "metadata": {},
   "outputs": [],
   "source": [
    "from modules.runtime.commons.parameters import ParameterServer\n",
    "from bark.world import World\n",
    "from bark.world.map import MapInterface\n",
    "\n",
    "params = ParameterServer()\n",
    "world = World(params)\n",
    "# create the MapInterface using the parsed OpenDrive file\n",
    "map_interface = MapInterface()\n",
    "map_interface.SetOpenDriveMap(xodr_parser.map)\n",
    "world.SetMap(map_interface)\n",
    "\n",
    "# to access the original OpenDrive map\n",
    "open_drive_map = world.map.GetOpenDriveMap()"
   ]
  },
  {
   "cell_type": "markdown",
   "metadata": {},
   "source": [
    "As a next step, we now can visualize the parsed map and ensure it has been created properly."
   ]
  },
  {
   "cell_type": "code",
   "execution_count": null,
   "metadata": {},
   "outputs": [],
   "source": [
    "from modules.runtime.viewer.matplotlib_viewer import MPViewer\n",
    "viewer = MPViewer(params=params,\n",
    "                  use_world_bounds=True)\n",
    "viewer.drawWorld(world)\n",
    "viewer.show()\n",
    "viewer.clear()"
   ]
  },
  {
   "cell_type": "markdown",
   "metadata": {},
   "source": [
    "The entire OpenDrive structure can also be plotted iteratively:"
   ]
  },
  {
   "cell_type": "code",
   "execution_count": null,
   "metadata": {},
   "outputs": [],
   "source": [
    "for idx_r, road in open_drive_map.GetRoads().items():\n",
    "  for idx_ls, lane_section in enumerate(road.lane_sections):\n",
    "    for idx_l, lane in lane_section.GetLanes().items():\n",
    "      viewer.drawXodrLane(lane)\n",
    "viewer.show()\n",
    "viewer.clear()\n"
   ]
  },
  {
   "cell_type": "markdown",
   "metadata": {},
   "source": [
    "The RoadGraph can be used for querying the OpenDrive structure:"
   ]
  },
  {
   "cell_type": "code",
   "execution_count": null,
   "metadata": {},
   "outputs": [],
   "source": [
    "roadgraph = map_interface.GetRoadgraph()\n",
    "# output the graph in dot-file\n",
    "# roadgraph.PrintGraph(output_dir + \"/\" + map_name)\n",
    "lane_ids = roadgraph.GetAllLaneids()\n",
    "\n",
    "for lane_id in lane_ids:\n",
    "  lane_polygon = roadgraph.GetLanePolygonForLaneId(lane_id)\n",
    "  road_id = roadgraph.GetRoadForLaneId(lane_id)\n",
    "  road = map_interface.GetOpenDriveMap().GetRoad(road_id)\n",
    "  plan_view_reference = road.plan_view.GetReferenceLine()\n",
    "  viewer.drawXodrRoad(road)\n",
    "viewer.show()\n",
    "viewer.clear()"
   ]
  },
  {
   "cell_type": "markdown",
   "metadata": {},
   "source": [
    "A RoadCorridor can be computed by:"
   ]
  },
  {
   "cell_type": "code",
   "execution_count": null,
   "metadata": {},
   "outputs": [],
   "source": [
    "from bark.world.opendrive import *\n",
    "road_corridor = map_interface.GenerateRoadCorridor(self._road_ids, XodrDrivingDirection.forward)\n",
    "viewer.drawDrivingCorridor(road_corridor)\n",
    "\n",
    "# map through LaneCorridors\n",
    "viewer.show()\n",
    "viewer.clear()\n"
   ]
  }
 ],
 "metadata": {
  "kernelspec": {
   "display_name": "Python 3",
   "language": "python",
   "name": "python3"
  },
  "language_info": {
   "codemirror_mode": {
    "name": "ipython",
    "version": 3
   },
   "file_extension": ".py",
   "mimetype": "text/x-python",
   "name": "python",
   "nbconvert_exporter": "python",
   "pygments_lexer": "ipython3",
   "version": "3.6.6-candidate"
  }
 },
 "nbformat": 4,
 "nbformat_minor": 4
}