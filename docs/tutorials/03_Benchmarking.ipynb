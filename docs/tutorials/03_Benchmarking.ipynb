{
 "cells": [
  {
   "cell_type": "markdown",
   "metadata": {},
   "source": [
    "# Benchmarking Behavior Planners in BARK\n",
    "\n",
    "This notebook the benchmarking workflow of BARK.\n",
    "\n",
    "Systematically benchmarking behavior consists of\n",
    "1. A reproducable set of scenarios (we call it **BenchmarkDatabase**)\n",
    "2. Metrics, which you use to study the performance (we call it **Evaluators**)\n",
    "3. The behavior model(s) under test\n",
    "\n",
    "Our **BenchmarkRunner** can then run the benchmark and produce the results."
   ]
  },
  {
   "cell_type": "code",
   "execution_count": 6,
   "metadata": {},
   "outputs": [],
   "source": [
    "import os\n",
    "import matplotlib.pyplot as plt\n",
    "from IPython.display import Video\n",
    "\n",
    "from load.benchmark_database import BenchmarkDatabase\n",
    "from serialization.database_serializer import DatabaseSerializer\n",
    "from modules.benchmark.benchmark_runner import BenchmarkRunner, BenchmarkConfig, BenchmarkResult\n",
    "from modules.benchmark.benchmark_analyzer import BenchmarkAnalyzer\n",
    "\n",
    "from modules.runtime.commons.parameters import ParameterServer\n",
    "\n",
    "from modules.runtime.viewer.matplotlib_viewer import MPViewer\n",
    "from modules.runtime.viewer.video_renderer import VideoRenderer\n",
    "\n",
    "\n",
    "from bark.models.behavior import BehaviorIDMClassic, BehaviorConstantVelocity"
   ]
  },
  {
   "cell_type": "markdown",
   "metadata": {},
   "source": [
    "# Database\n",
    "The benchmark database provides a reproducable set of scenarios.\n",
    "A scenario get's created by a ScenarioGenerator (we have a couple of them). The scenarios are serialized into binary files (ending `.bark_scenarios`) and packed together with the map file and the parameter files into a `.zip`-archive. We call this zipped archive a relase, which can be published at Github, or processed locally.\n",
    "\n",
    "## We will first start with the DatabaseSerializer\n",
    "\n",
    "The **DatabaseSerializer** recursively serializes all scenario param files sets\n",
    " within a folder."
   ]
  },
  {
   "cell_type": "markdown",
   "metadata": {},
   "source": [
    "process the database directory"
   ]
  },
  {
   "cell_type": "code",
   "execution_count": 7,
   "metadata": {},
   "outputs": [
    {
     "name": "stderr",
     "output_type": "stream",
     "text": [
      "INFO:root:Testing 40per_variation with seed 2000 from generator ConfigurableScenarioGeneration\n",
      "INFO:root:Running scenario 0 of 1 in set 40per_variation\n",
      "INFO:root:Testing 20per_variation with seed 2000 from generator ConfigurableScenarioGeneration\n",
      "INFO:root:Running scenario 0 of 1 in set 20per_variation\n",
      "WARNING:root:Do not set down the number of serialized scenarios in a release                     -> set serialized_scenarios=None\n",
      "INFO:root:The following list of files will be released:\n",
      "INFO:root:/maps/city_highway_straight.xodr/city_highway_straight.xodr\n",
      "INFO:root:/scenario_sets/highway_merging/set_info_40per_variation/set_info_40per_variation\n",
      "INFO:root:/scenario_sets/highway_merging/40per_variation.json/40per_variation.json\n",
      "INFO:root:/scenario_sets/highway_merging/20per_variation_scenarios1_seed2000.bark_scenarios/20per_variation_scenarios1_seed2000.bark_scenarios\n",
      "INFO:root:/scenario_sets/highway_merging/40per_variation_scenarios1_seed2000.bark_scenarios/40per_variation_scenarios1_seed2000.bark_scenarios\n",
      "INFO:root:/scenario_sets/highway_merging/set_info_20per_variation/set_info_20per_variation\n",
      "INFO:root:/scenario_sets/highway_merging/20per_variation.json/20per_variation.json\n",
      "INFO:root:Packed release file /home/esterle/.cache/bazel/_bazel_esterle/d337abac8c371120c1b9affa1049fa7e/execroot/bark_project/bazel-out/k8-fastbuild/bin/docs/tutorials/run.runfiles/benchmark_database/data/benchmark_database_tutorial.zip\n",
      "INFO:root:Assuming local release as you did not provide a github token.\n"
     ]
    },
    {
     "name": "stdout",
     "output_type": "stream",
     "text": [
      "Filename: ../../../benchmark_database/data/benchmark_database_tutorial.zip\n"
     ]
    }
   ],
   "source": [
    "#dbs = DatabaseSerializer(test_scenarios=4, test_world_steps=5, num_serialize_scenarios=10)\n",
    "dbs = DatabaseSerializer(test_scenarios=1, test_world_steps=10, num_serialize_scenarios=1)\n",
    "dbs.process(\"../../../benchmark_database/data/database1\")\n",
    "local_release_filename = dbs.release(version=\"tutorial\")\n",
    "\n",
    "print('Filename:', local_release_filename)"
   ]
  },
  {
   "cell_type": "markdown",
   "metadata": {},
   "source": [
    "Then reload to test correct parsing"
   ]
  },
  {
   "cell_type": "code",
   "execution_count": 8,
   "metadata": {},
   "outputs": [
    {
     "name": "stderr",
     "output_type": "stream",
     "text": [
      "INFO:root:extracting zipped-database ../../../benchmark_database/data/benchmark_database_tutorial.zip to temporary directory /tmp/bark_extracted_databases/fe8e0a06-a114-414c-bdc6-c8d3e8634fb4\n",
      "INFO:root:Found info dict set_info_40per_variation\n",
      "INFO:root:Found info dict set_info_20per_variation\n",
      "INFO:root:The following scenario sets are available\n",
      "INFO:root:\n",
      "                    GeneratorName  NumScenarios                                             Params    Seed                                         Serialized          SetName\n",
      "0  ConfigurableScenarioGeneration           1.0  scenario_sets/highway_merging/40per_variation....  2000.0  scenario_sets/highway_merging/40per_variation_...  40per_variation\n",
      "1  ConfigurableScenarioGeneration           1.0  scenario_sets/highway_merging/20per_variation....  2000.0  scenario_sets/highway_merging/20per_variation_...  20per_variation\n"
     ]
    },
    {
     "name": "stdout",
     "output_type": "stream",
     "text": [
      "Scenario:  <modules.runtime.scenario.scenario_generation.scenario_generation.ScenarioGeneration object at 0x7f1f4fdd8590>\n",
      "Scenario:  <modules.runtime.scenario.scenario_generation.scenario_generation.ScenarioGeneration object at 0x7f1f5903c090>\n"
     ]
    }
   ],
   "source": [
    "db = BenchmarkDatabase(database_root=local_release_filename)\n",
    "scenario_generation, _ = db.get_scenario_generator(scenario_set_id=0)\n",
    "\n",
    "for scenario_generation, _ in db:\n",
    "  print('Scenario: ', scenario_generation)"
   ]
  },
  {
   "cell_type": "markdown",
   "metadata": {},
   "source": [
    "## Evaluators\n",
    "\n",
    "Evaluators allow to calculate a boolean, integer or real-valued metric based on the current simulation world state.\n",
    "\n",
    "The current evaluators available in BARK are:\n",
    "- StepCount: returns the step count the scenario is at.\n",
    "- GoalReached: checks if a controlled agent’s Goal Definitionis satisfied.\n",
    "- DrivableArea: checks whether the agent is inside its RoadCorridor.\n",
    "- Collision(ControlledAgent): checks whether any agent or only the currently controlled agent collided\n",
    "\n",
    "Let's now map those evaluators to some symbols, that are easier to interpret."
   ]
  },
  {
   "cell_type": "code",
   "execution_count": 9,
   "metadata": {},
   "outputs": [],
   "source": [
    "evaluators = {\"success\" : \"EvaluatorGoalReached\", \\\n",
    "              \"collision\" : \"EvaluatorCollisionEgoAgent\", \\\n",
    "              \"max_steps\": \"EvaluatorStepCount\"}"
   ]
  },
  {
   "cell_type": "markdown",
   "metadata": {},
   "source": [
    "We will now define the terminal conditions of our benchmark. We state that a scenario ends, if\n",
    "- a collision occured\n",
    "- the number of time steps exceeds the limit\n",
    "- the definition of success becomes true (which we defined to reaching the goal, using EvaluatorGoalReached)"
   ]
  },
  {
   "cell_type": "code",
   "execution_count": 10,
   "metadata": {},
   "outputs": [],
   "source": [
    "terminal_when = {\"collision\" :lambda x: x, \\\n",
    "                 \"max_steps\": lambda x : x>10, \\\n",
    "                 \"success\" : lambda x: x}"
   ]
  },
  {
   "cell_type": "markdown",
   "metadata": {},
   "source": [
    "# Behaviors Under Test\n",
    "Let's now define the Behaviors we want to compare. We will compare IDM with Constant Velocity, but we could also compare two different parameter sets for IDM. "
   ]
  },
  {
   "cell_type": "code",
   "execution_count": 11,
   "metadata": {},
   "outputs": [],
   "source": [
    "params = ParameterServer() \n",
    "behaviors_tested = {\"IDM\": BehaviorIDMClassic(params), \"Const\" : BehaviorConstantVelocity(params)}"
   ]
  },
  {
   "cell_type": "markdown",
   "metadata": {},
   "source": [
    "# Benchmark Runner\n",
    "\n",
    "The BenchmarkRunner allows to evaluate behavior models with different parameter configurations over the entire benchmarking database."
   ]
  },
  {
   "cell_type": "code",
   "execution_count": 12,
   "metadata": {},
   "outputs": [
    {
     "name": "stderr",
     "output_type": "stream",
     "text": [
      "INFO:BenchmarkRunner:Running config idx 0/3: Scenario 0 of set \"40per_variation\" for behavior \"IDM\"\n",
      "INFO:BenchmarkRunner:Running config idx 1/3: Scenario 0 of set \"20per_variation\" for behavior \"IDM\"\n",
      "INFO:BenchmarkRunner:Running config idx 2/3: Scenario 0 of set \"40per_variation\" for behavior \"Const\"\n",
      "INFO:BenchmarkRunner:Running config idx 3/3: Scenario 0 of set \"20per_variation\" for behavior \"Const\"\n"
     ]
    }
   ],
   "source": [
    "benchmark_runner = BenchmarkRunner(benchmark_database=db,\\\n",
    "                                   evaluators=evaluators,\\\n",
    "                                   terminal_when=terminal_when,\\\n",
    "                                   behaviors=behaviors_tested,\\\n",
    "                                   log_eval_avg_every=10)\n",
    "\n",
    "result = benchmark_runner.run(maintain_history=True)"
   ]
  },
  {
   "cell_type": "markdown",
   "metadata": {},
   "source": [
    "We will now dump the files, to allow them to be postprocessed later."
   ]
  },
  {
   "cell_type": "code",
   "execution_count": 13,
   "metadata": {},
   "outputs": [
    {
     "name": "stderr",
     "output_type": "stream",
     "text": [
      "INFO:root:Saved BenchmarkResult to /tmp/bark_extracted_databases/fe8e0a06-a114-414c-bdc6-c8d3e8634fb4/benchmark_results.pickle\n"
     ]
    }
   ],
   "source": [
    "result.dump(os.path.join(\"./benchmark_results.pickle\"))\n"
   ]
  },
  {
   "cell_type": "markdown",
   "metadata": {},
   "source": [
    "# Benchmark Results\n",
    "\n",
    "Benchmark results contain\n",
    "- the evaluated metrics of each simulation run, as a Panda Dataframe\n",
    "- the world state of every simulation (optional)"
   ]
  },
  {
   "cell_type": "code",
   "execution_count": 14,
   "metadata": {},
   "outputs": [],
   "source": [
    "result_loaded = BenchmarkResult.load(os.path.join(\"./benchmark_results.pickle\"))"
   ]
  },
  {
   "cell_type": "markdown",
   "metadata": {},
   "source": [
    "We will now first analyze the dataframe."
   ]
  },
  {
   "cell_type": "code",
   "execution_count": 21,
   "metadata": {},
   "outputs": [
    {
     "data": {
      "text/html": [
       "<div>\n",
       "<style scoped>\n",
       "    .dataframe tbody tr th:only-of-type {\n",
       "        vertical-align: middle;\n",
       "    }\n",
       "\n",
       "    .dataframe tbody tr th {\n",
       "        vertical-align: top;\n",
       "    }\n",
       "\n",
       "    .dataframe thead th {\n",
       "        text-align: right;\n",
       "    }\n",
       "</style>\n",
       "<table border=\"1\" class=\"dataframe\">\n",
       "  <thead>\n",
       "    <tr style=\"text-align: right;\">\n",
       "      <th></th>\n",
       "      <th>Terminal</th>\n",
       "      <th>behavior</th>\n",
       "      <th>collision</th>\n",
       "      <th>config_idx</th>\n",
       "      <th>max_steps</th>\n",
       "      <th>scen_idx</th>\n",
       "      <th>scen_set</th>\n",
       "      <th>step</th>\n",
       "      <th>success</th>\n",
       "    </tr>\n",
       "  </thead>\n",
       "  <tbody>\n",
       "    <tr>\n",
       "      <th>0</th>\n",
       "      <td>[max_steps]</td>\n",
       "      <td>IDM</td>\n",
       "      <td>False</td>\n",
       "      <td>0</td>\n",
       "      <td>11</td>\n",
       "      <td>0</td>\n",
       "      <td>40per_variation</td>\n",
       "      <td>10</td>\n",
       "      <td>False</td>\n",
       "    </tr>\n",
       "    <tr>\n",
       "      <th>1</th>\n",
       "      <td>[max_steps]</td>\n",
       "      <td>IDM</td>\n",
       "      <td>False</td>\n",
       "      <td>1</td>\n",
       "      <td>11</td>\n",
       "      <td>0</td>\n",
       "      <td>20per_variation</td>\n",
       "      <td>10</td>\n",
       "      <td>False</td>\n",
       "    </tr>\n",
       "    <tr>\n",
       "      <th>2</th>\n",
       "      <td>[max_steps]</td>\n",
       "      <td>Const</td>\n",
       "      <td>False</td>\n",
       "      <td>2</td>\n",
       "      <td>11</td>\n",
       "      <td>0</td>\n",
       "      <td>40per_variation</td>\n",
       "      <td>10</td>\n",
       "      <td>False</td>\n",
       "    </tr>\n",
       "    <tr>\n",
       "      <th>3</th>\n",
       "      <td>[max_steps]</td>\n",
       "      <td>Const</td>\n",
       "      <td>False</td>\n",
       "      <td>3</td>\n",
       "      <td>11</td>\n",
       "      <td>0</td>\n",
       "      <td>20per_variation</td>\n",
       "      <td>10</td>\n",
       "      <td>False</td>\n",
       "    </tr>\n",
       "  </tbody>\n",
       "</table>\n",
       "</div>"
      ],
      "text/plain": [
       "      Terminal behavior  collision  config_idx  max_steps  scen_idx  \\\n",
       "0  [max_steps]      IDM      False           0         11         0   \n",
       "1  [max_steps]      IDM      False           1         11         0   \n",
       "2  [max_steps]    Const      False           2         11         0   \n",
       "3  [max_steps]    Const      False           3         11         0   \n",
       "\n",
       "          scen_set  step  success  \n",
       "0  40per_variation    10    False  \n",
       "1  20per_variation    10    False  \n",
       "2  40per_variation    10    False  \n",
       "3  20per_variation    10    False  "
      ]
     },
     "execution_count": 21,
     "metadata": {},
     "output_type": "execute_result"
    }
   ],
   "source": [
    "df = result_loaded.get_data_frame()\n",
    "\n",
    "df.head()"
   ]
  },
  {
   "cell_type": "markdown",
   "metadata": {},
   "source": [
    "# Benchmark Analyzer\n",
    "\n",
    "The benchmark analyzer allows to filter the results to show visualize what really happened. These filters can be set via a dictionary with lambda functions specifying the evaluation criteria which must be fullfilled.\n",
    "\n",
    "A config is basically a simulation run, where step size, controlled agent, terminal conditions and metrics have been defined.\n",
    "\n",
    "Let us first load the results into the BenchmarkAnalyzer and then filter the results."
   ]
  },
  {
   "cell_type": "code",
   "execution_count": 16,
   "metadata": {},
   "outputs": [],
   "source": [
    "analyzer = BenchmarkAnalyzer(benchmark_result=result_loaded)\n",
    "\n",
    "\n",
    "configs_idm = analyzer.find_configs(criteria={\"behavior\": lambda x: x==\"IDM\", \"success\": lambda x : not x})\n",
    "configs_const = analyzer.find_configs(criteria={\"behavior\": lambda x: x==\"Const\", \"success\": lambda x : not x})"
   ]
  },
  {
   "cell_type": "markdown",
   "metadata": {},
   "source": [
    "We will now create a video from them. We will use Matplotlib Viewer and render everything to a video."
   ]
  },
  {
   "cell_type": "code",
   "execution_count": 17,
   "metadata": {},
   "outputs": [
    {
     "data": {
      "image/png": "[encoded data removed]",
      "text/plain": [
       "<Figure size 720x720 with 1 Axes>"
      ]
     },
     "metadata": {
      "needs_background": "light"
     },
     "output_type": "display_data"
    },
    {
     "data": {
      "text/plain": [
       "<Figure size 432x288 with 0 Axes>"
      ]
     },
     "metadata": {},
     "output_type": "display_data"
    },
    {
     "data": {
      "text/plain": [
       "<Figure size 432x288 with 0 Axes>"
      ]
     },
     "metadata": {},
     "output_type": "display_data"
    },
    {
     "data": {
      "text/plain": [
       "<Figure size 432x288 with 0 Axes>"
      ]
     },
     "metadata": {},
     "output_type": "display_data"
    },
    {
     "data": {
      "text/plain": [
       "<Figure size 432x288 with 0 Axes>"
      ]
     },
     "metadata": {},
     "output_type": "display_data"
    },
    {
     "data": {
      "text/plain": [
       "<Figure size 432x288 with 0 Axes>"
      ]
     },
     "metadata": {},
     "output_type": "display_data"
    },
    {
     "data": {
      "text/plain": [
       "<Figure size 432x288 with 0 Axes>"
      ]
     },
     "metadata": {},
     "output_type": "display_data"
    },
    {
     "data": {
      "text/plain": [
       "<Figure size 432x288 with 0 Axes>"
      ]
     },
     "metadata": {},
     "output_type": "display_data"
    },
    {
     "data": {
      "text/plain": [
       "<Figure size 432x288 with 0 Axes>"
      ]
     },
     "metadata": {},
     "output_type": "display_data"
    },
    {
     "data": {
      "text/plain": [
       "<Figure size 432x288 with 0 Axes>"
      ]
     },
     "metadata": {},
     "output_type": "display_data"
    },
    {
     "data": {
      "text/plain": [
       "<Figure size 432x288 with 0 Axes>"
      ]
     },
     "metadata": {},
     "output_type": "display_data"
    }
   ],
   "source": [
    "sim_step_time=5\n",
    "\n",
    "params2 = ParameterServer()\n",
    "\n",
    "fig = plt.figure(figsize=[10, 10])\n",
    "viewer = MPViewer(params=params2, y_length = 80, enforce_y_length=True, enforce_x_length=False,\\\n",
    "                  follow_agent_id=True, axis=fig.gca())\n",
    "video_exporter = VideoRenderer(renderer=viewer, world_step_time=sim_step_time)\n",
    "\n",
    "analyzer.visualize(viewer = video_exporter, configs_idx_list=configs_idm[1:3], \\\n",
    "                  real_time_factor=10, fontsize=6)\n",
    "                   \n",
    "video_exporter.export_video(filename=\"./tutorial_video\")\n"
   ]
  },
  {
   "cell_type": "code",
   "execution_count": 18,
   "metadata": {},
   "outputs": [
    {
     "data": {
      "text/html": [
       "<video src=\"./tutorial_video.mp4\" controls  >\n",
       "      Your browser does not support the <code>video</code> element.\n",
       "    </video>"
      ],
      "text/plain": [
       "<IPython.core.display.Video object>"
      ]
     },
     "execution_count": 18,
     "metadata": {},
     "output_type": "execute_result"
    }
   ],
   "source": [
    "Video(\"./tutorial_video.mp4\")"
   ]
  },
  {
   "cell_type": "code",
   "execution_count": null,
   "metadata": {},
   "outputs": [],
   "source": []
  }
 ],
 "metadata": {
  "kernelspec": {
   "display_name": "Python 3",
   "language": "python",
   "name": "python3"
  },
  "language_info": {
   "codemirror_mode": {
    "name": "ipython",
    "version": 3
   },
   "file_extension": ".py",
   "mimetype": "text/x-python",
   "name": "python",
   "nbconvert_exporter": "python",
   "pygments_lexer": "ipython3",
   "version": "3.7.5"
  }
 },
 "nbformat": 4,
 "nbformat_minor": 4
}
