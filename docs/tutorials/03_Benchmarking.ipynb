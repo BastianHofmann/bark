{
 "cells": [
  {
   "cell_type": "markdown",
   "metadata": {},
   "source": [
    "# Benchmarking Behavior Planners in BARK\n",
    "\n",
    "This notebook the benchmarking workflow of BARK.\n",
    "\n",
    "Systematically benchmarking behavior consists of\n",
    "1. A reproducable set of scenarios (we call it **BenchmarkDatabase**)\n",
    "2. Metrics, which you use to study the performance (we call it **Evaluators**)\n",
    "3. The behavior model(s) under test\n",
    "\n",
    "Our **BenchmarkRunner** can then run the benchmark and produce the results."
   ]
  },
  {
   "cell_type": "markdown",
   "metadata": {},
   "source": [
    "TODO\n",
    "\n",
    "Explain BenchmarkDatabase and runner\n",
    "run benchmark\n",
    "small evaluation\n",
    "\n",
    "use the example python agent of previous tutorial to benchmark and compare it against idm model (python system test behavior model + benchmark runner test) (Klemens)"
   ]
  },
  {
   "cell_type": "code",
   "execution_count": 10,
   "metadata": {},
   "outputs": [],
   "source": [
    "import os\n",
    "import matplotlib.pyplot as plt\n",
    "\n",
    "from load.benchmark_database import BenchmarkDatabase\n",
    "from serialization.database_serializer import DatabaseSerializer\n",
    "from modules.benchmark.benchmark_runner import BenchmarkRunner, BenchmarkConfig, BenchmarkResult\n",
    "from modules.benchmark.benchmark_analyzer import BenchmarkAnalyzer\n",
    "\n",
    "from modules.runtime.commons.parameters import ParameterServer\n",
    "\n",
    "from modules.runtime.viewer.matplotlib_viewer import MPViewer\n",
    "\n",
    "from bark.models.behavior import BehaviorIDMClassic, BehaviorConstantVelocity"
   ]
  },
  {
   "cell_type": "markdown",
   "metadata": {},
   "source": [
    "# Database\n",
    "The benchmark database provides a reproducable set of scenarios.\n",
    "A scenario get's created by a ScenarioGenerator (we have a couple of them). The scenarios are serialized into binary files (ending `.bark_scenarios`) and packed together with the map file and the parameter files into a `.zip`-archive. We call this zipped archive a relase, which can be published at Github, or processed locally.\n",
    "\n",
    "## We will first start with the DatabaseSerializer\n",
    "\n",
    "The **DatabaseSerializer** recursively serializes all scenario param files sets\n",
    " within a folder."
   ]
  },
  {
   "cell_type": "code",
   "execution_count": 2,
   "metadata": {},
   "outputs": [
    {
     "data": {
      "text/plain": [
       "['database', 'serialization', '__init__.py', 'load']"
      ]
     },
     "execution_count": 2,
     "metadata": {},
     "output_type": "execute_result"
    }
   ],
   "source": [
    "os.chdir(\"../../../benchmark_database/\")\n",
    "os.listdir()"
   ]
  },
  {
   "cell_type": "markdown",
   "metadata": {},
   "source": [
    "process the database directory"
   ]
  },
  {
   "cell_type": "code",
   "execution_count": 3,
   "metadata": {},
   "outputs": [
    {
     "name": "stderr",
     "output_type": "stream",
     "text": [
      "INFO:root:Testing test_1 with seed 1000 from generator ConfigurableScenarioGeneration\n",
      "INFO:root:Running scenario 9 of 10 in set test_1\n",
      "INFO:root:Running scenario 8 of 10 in set test_1\n",
      "INFO:root:Running scenario 0 of 10 in set test_1\n",
      "INFO:root:Running scenario 8 of 10 in set test_1\n",
      "WARNING:root:Do not set down the number of serialized scenarios in a release                     -> set serialized_scenarios=None\n",
      "INFO:root:The following list of files will be released:\n",
      "INFO:root:database/maps/city_highway_straight.xodr\n",
      "INFO:root:database/scenario_sets/highway_merging/test_1_scenarios10_seed1000.bark_scenarios\n",
      "INFO:root:database/scenario_sets/highway_merging/test_1.json\n",
      "INFO:root:database/scenario_sets/highway_merging/test_2.json\n",
      "INFO:root:database/scenario_sets/highway_merging/set_info_test_1\n",
      "INFO:root:Packed release file /home/esterle/.cache/bazel/_bazel_esterle/d337abac8c371120c1b9affa1049fa7e/execroot/bark_project/bazel-out/k8-fastbuild/bin/docs/tutorials/run.runfiles/benchmark_database/database/benchmark_database_tutorial.zip\n",
      "INFO:root:Assuming local release as you did not provide a github token.\n"
     ]
    },
    {
     "name": "stdout",
     "output_type": "stream",
     "text": [
      "Filename: database/benchmark_database_tutorial.zip\n"
     ]
    }
   ],
   "source": [
    "dbs = DatabaseSerializer(test_scenarios=4, test_world_steps=5, num_serialize_scenarios=10)\n",
    "dbs.process(\"database\")\n",
    "local_release_filename = dbs.release(version=\"tutorial\")\n",
    "\n",
    "print('Filename:', local_release_filename)"
   ]
  },
  {
   "cell_type": "markdown",
   "metadata": {},
   "source": [
    "Then reload to test correct parsing"
   ]
  },
  {
   "cell_type": "code",
   "execution_count": 4,
   "metadata": {},
   "outputs": [
    {
     "name": "stderr",
     "output_type": "stream",
     "text": [
      "INFO:root:extracting zipped-database database/benchmark_database_tutorial.zip to temporary directory /tmp/database\n",
      "INFO:root:Found info dict set_info_test_1\n",
      "INFO:root:The following scenario sets are available\n",
      "INFO:root:\n",
      "                    GeneratorName  NumScenarios                                             Params    Seed                                         Serialized SetName\n",
      "0  ConfigurableScenarioGeneration          10.0  database/scenario_sets/highway_merging/test_1....  1000.0  database/scenario_sets/highway_merging/test_1_...  test_1\n"
     ]
    },
    {
     "name": "stdout",
     "output_type": "stream",
     "text": [
      "Scenario:  <modules.runtime.scenario.scenario_generation.scenario_generation.ScenarioGeneration object at 0x7f55cbdb00d0>\n"
     ]
    }
   ],
   "source": [
    "db = BenchmarkDatabase(database_root=local_release_filename)\n",
    "scenario_generation, _ = db.get_scenario_generator(scenario_set_id=0)\n",
    "\n",
    "for scenario_generation, _ in db:\n",
    "  print('Scenario: ', scenario_generation)"
   ]
  },
  {
   "cell_type": "markdown",
   "metadata": {},
   "source": [
    "## Evaluators\n",
    "\n",
    "Evaluators allow to calculate a boolean, integer or real-valued metric based on the current simulation world state.\n",
    "\n",
    "The current evaluators available in BARK are:\n",
    "- StepCount: returns the step count the scenario is at.\n",
    "- GoalReached: checks if a controlled agent’s Goal Definitionis satisfied.\n",
    "- DrivableArea: checks whether the agent is inside its RoadCorridor.\n",
    "- Collision(ControlledAgent): checks whether any agent or only the currently controlled agent collided\n",
    "\n",
    "Let's now map those evaluators to some symbols, that are easier to interpret."
   ]
  },
  {
   "cell_type": "code",
   "execution_count": 5,
   "metadata": {},
   "outputs": [],
   "source": [
    "evaluators = {\"success\" : \"EvaluatorGoalReached\", \\\n",
    "              \"collision\" : \"EvaluatorCollisionEgoAgent\", \\\n",
    "              \"max_steps\": \"EvaluatorStepCount\"}"
   ]
  },
  {
   "cell_type": "markdown",
   "metadata": {},
   "source": [
    "We will now define the terminal conditions of our benchmark. We state that a scenario ends, if\n",
    "- a collision occured\n",
    "- the number of time steps exceeds the limit\n",
    "- the definition of success becomes true (which we defined to reaching the goal, using EvaluatorGoalReached)"
   ]
  },
  {
   "cell_type": "code",
   "execution_count": 19,
   "metadata": {},
   "outputs": [],
   "source": [
    "terminal_when = {\"collision\" :lambda x: x, \\\n",
    "                 \"max_steps\": lambda x : x>100, \\\n",
    "                 \"success\" : lambda x: x}"
   ]
  },
  {
   "cell_type": "markdown",
   "metadata": {},
   "source": [
    "# Behaviors Under Test\n",
    "Let's now define the Behaviors we want to compare. We will compare IDM with Constant Velocity, but we could also compare two different parameter sets for IDM. "
   ]
  },
  {
   "cell_type": "code",
   "execution_count": 20,
   "metadata": {},
   "outputs": [],
   "source": [
    "params = ParameterServer() \n",
    "behaviors_tested = {\"IDM\": BehaviorIDMClassic(params), \"Const\" : BehaviorConstantVelocity(params)}"
   ]
  },
  {
   "cell_type": "markdown",
   "metadata": {},
   "source": [
    "# Benchmark Runner\n",
    "\n",
    "The BenchmarkRunner allows to evaluate behavior models with different parameter configurations over the entire benchmarking database."
   ]
  },
  {
   "cell_type": "code",
   "execution_count": 21,
   "metadata": {},
   "outputs": [
    {
     "name": "stderr",
     "output_type": "stream",
     "text": [
      "INFO:BenchmarkRunner:Running config idx 0/19: Scenario 0 of set \"test_1\" for behavior \"IDM\"\n",
      "INFO:BenchmarkRunner:Running config idx 1/19: Scenario 1 of set \"test_1\" for behavior \"IDM\"\n",
      "INFO:BenchmarkRunner:Running config idx 2/19: Scenario 2 of set \"test_1\" for behavior \"IDM\"\n",
      "INFO:BenchmarkRunner:Running config idx 3/19: Scenario 3 of set \"test_1\" for behavior \"IDM\"\n",
      "INFO:BenchmarkRunner:Running config idx 4/19: Scenario 4 of set \"test_1\" for behavior \"IDM\"\n",
      "INFO:BenchmarkRunner:Running config idx 5/19: Scenario 5 of set \"test_1\" for behavior \"IDM\"\n",
      "INFO:BenchmarkRunner:Running config idx 6/19: Scenario 6 of set \"test_1\" for behavior \"IDM\"\n",
      "INFO:BenchmarkRunner:Running config idx 7/19: Scenario 7 of set \"test_1\" for behavior \"IDM\"\n",
      "INFO:BenchmarkRunner:Running config idx 8/19: Scenario 8 of set \"test_1\" for behavior \"IDM\"\n",
      "INFO:BenchmarkRunner:Running config idx 9/19: Scenario 9 of set \"test_1\" for behavior \"IDM\"\n",
      "INFO:BenchmarkRunner:\n",
      "------------------- Current Evaluation Results ---------------------- \n",
      " Num. Results:10\n",
      "                    success  collision  max_steps   step\n",
      "scen_set behavior                                      \n",
      "test_1   IDM         False      False      101.0  100.0 \n",
      " ---------------------------------------------------------------------\n",
      "INFO:BenchmarkRunner:Running config idx 10/19: Scenario 0 of set \"test_1\" for behavior \"Const\"\n",
      "INFO:BenchmarkRunner:Running config idx 11/19: Scenario 1 of set \"test_1\" for behavior \"Const\"\n",
      "INFO:BenchmarkRunner:Running config idx 12/19: Scenario 2 of set \"test_1\" for behavior \"Const\"\n",
      "INFO:BenchmarkRunner:Running config idx 13/19: Scenario 3 of set \"test_1\" for behavior \"Const\"\n",
      "INFO:BenchmarkRunner:Running config idx 14/19: Scenario 4 of set \"test_1\" for behavior \"Const\"\n",
      "INFO:BenchmarkRunner:Running config idx 15/19: Scenario 5 of set \"test_1\" for behavior \"Const\"\n",
      "INFO:BenchmarkRunner:Running config idx 16/19: Scenario 6 of set \"test_1\" for behavior \"Const\"\n",
      "INFO:BenchmarkRunner:Running config idx 17/19: Scenario 7 of set \"test_1\" for behavior \"Const\"\n",
      "INFO:BenchmarkRunner:Running config idx 18/19: Scenario 8 of set \"test_1\" for behavior \"Const\"\n",
      "INFO:BenchmarkRunner:Running config idx 19/19: Scenario 9 of set \"test_1\" for behavior \"Const\"\n",
      "INFO:BenchmarkRunner:\n",
      "------------------- Current Evaluation Results ---------------------- \n",
      " Num. Results:20\n",
      "                    success  collision  max_steps   step\n",
      "scen_set behavior                                      \n",
      "test_1   Const         0.0        0.2       83.5   82.5\n",
      "         IDM           0.0        0.0      101.0  100.0 \n",
      " ---------------------------------------------------------------------\n"
     ]
    }
   ],
   "source": [
    "benchmark_runner = BenchmarkRunner(benchmark_database=db,\\\n",
    "                                   evaluators=evaluators,\\\n",
    "                                   terminal_when=terminal_when,\\\n",
    "                                   behaviors=behaviors_tested,\\\n",
    "                                   log_eval_avg_every=10)\n",
    "\n",
    "result = benchmark_runner.run()"
   ]
  },
  {
   "cell_type": "markdown",
   "metadata": {},
   "source": [
    "We will now dump the files, to allow them to be postprocessed later."
   ]
  },
  {
   "cell_type": "code",
   "execution_count": 22,
   "metadata": {},
   "outputs": [
    {
     "name": "stderr",
     "output_type": "stream",
     "text": [
      "INFO:root:Saved BenchmarkResult to /tmp/database/benchmark_results.pickle\n"
     ]
    }
   ],
   "source": [
    "result.dump(os.path.join(\"./benchmark_results.pickle\"))\n",
    "result_loaded = BenchmarkResult.load(os.path.join(\"./benchmark_results.pickle\"))"
   ]
  },
  {
   "cell_type": "code",
   "execution_count": 27,
   "metadata": {},
   "outputs": [
    {
     "name": "stderr",
     "output_type": "stream",
     "text": [
      "INFO:root:No histories for config idx 0. Skipping....\n",
      "WARNING:root:Simulation step time not privided for config 0. Using default 0.2s\n",
      "INFO:root:No histories for config idx 1. Skipping....\n",
      "WARNING:root:Simulation step time not privided for config 1. Using default 0.2s\n",
      "INFO:root:No histories for config idx 2. Skipping....\n",
      "WARNING:root:Simulation step time not privided for config 2. Using default 0.2s\n",
      "INFO:root:No histories for config idx 3. Skipping....\n",
      "WARNING:root:Simulation step time not privided for config 3. Using default 0.2s\n",
      "INFO:root:No histories for config idx 4. Skipping....\n",
      "WARNING:root:Simulation step time not privided for config 4. Using default 0.2s\n",
      "INFO:root:No histories for config idx 5. Skipping....\n",
      "WARNING:root:Simulation step time not privided for config 5. Using default 0.2s\n",
      "INFO:root:No histories for config idx 6. Skipping....\n",
      "WARNING:root:Simulation step time not privided for config 6. Using default 0.2s\n",
      "INFO:root:No histories for config idx 7. Skipping....\n",
      "WARNING:root:Simulation step time not privided for config 7. Using default 0.2s\n",
      "INFO:root:No histories for config idx 8. Skipping....\n",
      "WARNING:root:Simulation step time not privided for config 8. Using default 0.2s\n",
      "INFO:root:No histories for config idx 9. Skipping....\n",
      "WARNING:root:Simulation step time not privided for config 9. Using default 0.2s\n"
     ]
    },
    {
     "data": {
      "image/png": "[encoded data removed]",
      "text/plain": [
       "<Figure size 720x720 with 1 Axes>"
      ]
     },
     "metadata": {
      "needs_background": "light"
     },
     "output_type": "display_data"
    }
   ],
   "source": [
    "params2 = ParameterServer()\n",
    "\n",
    "fig = plt.figure(figsize=[10, 10])\n",
    "viewer = MPViewer(params=params2, center=[5112, 5165], y_length = 120,enforce_y_length=True, axis = fig.gca())\n",
    "analyzer = BenchmarkAnalyzer(benchmark_result=result_loaded)\n",
    "configs = analyzer.find_configs(criteria={\"behavior\": lambda x: x==\"IDM\", \"success\": lambda x : not x})\n",
    "configs_const = analyzer.find_configs(criteria={\"behavior\": lambda x: x==\"Const\", \"success\": lambda x : not x})\n",
    "\n",
    "analyzer.visualize(configs_idx_list = configs, viewer = viewer, real_time_factor=10, fontsize=12)\n",
    "                   \n",
    "#fig, (ax1, ax2) = plt.subplots(1, 2)\n",
    "        \n",
    "#viewer1 = MPViewer(params=params2, center=[5112, 5165], y_length = 120, enforce_y_length=True, axis = ax1)\n",
    "#viewer2 = MPViewer(params=params2, center=[5112, 5165], y_length = 120, enforce_y_length=True, axis = ax2)\n",
    "#analyzer.visualize(configs_idx_list = [configs[1:3], configs_const[1:3]], viewer = [viewer1, viewer2], viewer_names=[\"IDM\", \"ConstVelocity\"], real_time_factor=1, fontsize=12)\n"
   ]
  },
  {
   "cell_type": "code",
   "execution_count": null,
   "metadata": {},
   "outputs": [],
   "source": []
  }
 ],
 "metadata": {
  "kernelspec": {
   "display_name": "Python 3",
   "language": "python",
   "name": "python3"
  },
  "language_info": {
   "codemirror_mode": {
    "name": "ipython",
    "version": 3
   },
   "file_extension": ".py",
   "mimetype": "text/x-python",
   "name": "python",
   "nbconvert_exporter": "python",
   "pygments_lexer": "ipython3",
   "version": "3.7.5"
  }
 },
 "nbformat": 4,
 "nbformat_minor": 4
}
