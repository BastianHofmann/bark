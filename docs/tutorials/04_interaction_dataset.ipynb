{
 "cells": [
  {
   "cell_type": "markdown",
   "metadata": {},
   "source": [
    "# Replaying the Interaction Dataset\n",
    "\n",
    "This notebook shows how to use the interaction dataset in bark. \n",
    "\n",
    "For details on the dataset visit http://interaction-dataset.com/ or read there paper https://arxiv.org/abs/1910.03088\n",
    "\n",
    "For viewing the data we highly recommend the provided tools: https://github.com/interaction-dataset/interaction-dataset"
   ]
  },
  {
   "cell_type": "code",
   "execution_count": 21,
   "metadata": {},
   "outputs": [
    {
     "ename": "ValueError",
     "evalue": "'gtk' is not a valid value for backend; supported values are ['GTK3Agg', 'GTK3Cairo', 'MacOSX', 'nbAgg', 'Qt4Agg', 'Qt4Cairo', 'Qt5Agg', 'Qt5Cairo', 'TkAgg', 'TkCairo', 'WebAgg', 'WX', 'WXAgg', 'WXCairo', 'agg', 'cairo', 'pdf', 'pgf', 'ps', 'svg', 'template']",
     "output_type": "error",
     "traceback": [
      "\u001b[0;31m---------------------------------------------------------------------------\u001b[0m",
      "\u001b[0;31mValueError\u001b[0m                                Traceback (most recent call last)",
      "\u001b[0;32m<ipython-input-21-9bb4739778a4>\u001b[0m in \u001b[0;36m<module>\u001b[0;34m\u001b[0m\n\u001b[1;32m      1\u001b[0m \u001b[0;32mimport\u001b[0m \u001b[0mmatplotlib\u001b[0m\u001b[0;34m\u001b[0m\u001b[0;34m\u001b[0m\u001b[0m\n\u001b[0;32m----> 2\u001b[0;31m \u001b[0mmatplotlib\u001b[0m\u001b[0;34m.\u001b[0m\u001b[0muse\u001b[0m\u001b[0;34m(\u001b[0m\u001b[0;34m'GTK'\u001b[0m\u001b[0;34m)\u001b[0m\u001b[0;34m\u001b[0m\u001b[0;34m\u001b[0m\u001b[0m\n\u001b[0m\u001b[1;32m      3\u001b[0m \u001b[0;34m\u001b[0m\u001b[0m\n\u001b[1;32m      4\u001b[0m \u001b[0;32mfrom\u001b[0m \u001b[0mbark\u001b[0m\u001b[0;34m.\u001b[0m\u001b[0mruntime\u001b[0m\u001b[0;34m.\u001b[0m\u001b[0mscenario\u001b[0m\u001b[0;34m.\u001b[0m\u001b[0mscenario_generation\u001b[0m\u001b[0;34m.\u001b[0m\u001b[0minteraction_dataset_scenario_generation\u001b[0m \u001b[0;32mimport\u001b[0m\u001b[0;31m \u001b[0m\u001b[0;31m\\\u001b[0m\u001b[0;34m\u001b[0m\u001b[0;34m\u001b[0m\u001b[0m\n\u001b[1;32m      5\u001b[0m     \u001b[0mInteractionDatasetScenarioGeneration\u001b[0m\u001b[0;34m\u001b[0m\u001b[0;34m\u001b[0m\u001b[0m\n",
      "\u001b[0;32m~/bark_master/bark/bark/python_wrapper/venv/lib/python3.7/site-packages/matplotlib/__init__.py\u001b[0m in \u001b[0;36muse\u001b[0;34m(backend, force)\u001b[0m\n\u001b[1;32m   1143\u001b[0m     \u001b[0mmatplotlib\u001b[0m\u001b[0;34m.\u001b[0m\u001b[0mget_backend\u001b[0m\u001b[0;34m\u001b[0m\u001b[0;34m\u001b[0m\u001b[0m\n\u001b[1;32m   1144\u001b[0m     \"\"\"\n\u001b[0;32m-> 1145\u001b[0;31m     \u001b[0mname\u001b[0m \u001b[0;34m=\u001b[0m \u001b[0mvalidate_backend\u001b[0m\u001b[0;34m(\u001b[0m\u001b[0mbackend\u001b[0m\u001b[0;34m)\u001b[0m\u001b[0;34m\u001b[0m\u001b[0;34m\u001b[0m\u001b[0m\n\u001b[0m\u001b[1;32m   1146\u001b[0m     \u001b[0;31m# we need to use the base-class method here to avoid (prematurely)\u001b[0m\u001b[0;34m\u001b[0m\u001b[0;34m\u001b[0m\u001b[0;34m\u001b[0m\u001b[0m\n\u001b[1;32m   1147\u001b[0m     \u001b[0;31m# resolving the \"auto\" backend setting\u001b[0m\u001b[0;34m\u001b[0m\u001b[0;34m\u001b[0m\u001b[0;34m\u001b[0m\u001b[0m\n",
      "\u001b[0;32m~/bark_master/bark/bark/python_wrapper/venv/lib/python3.7/site-packages/matplotlib/rcsetup.py\u001b[0m in \u001b[0;36mvalidate_backend\u001b[0;34m(s)\u001b[0m\n\u001b[1;32m    293\u001b[0m     backend = (\n\u001b[1;32m    294\u001b[0m         \u001b[0ms\u001b[0m \u001b[0;32mif\u001b[0m \u001b[0ms\u001b[0m \u001b[0;32mis\u001b[0m \u001b[0m_auto_backend_sentinel\u001b[0m \u001b[0;32mor\u001b[0m \u001b[0ms\u001b[0m\u001b[0;34m.\u001b[0m\u001b[0mstartswith\u001b[0m\u001b[0;34m(\u001b[0m\u001b[0;34m\"module://\"\u001b[0m\u001b[0;34m)\u001b[0m\u001b[0;34m\u001b[0m\u001b[0;34m\u001b[0m\u001b[0m\n\u001b[0;32m--> 295\u001b[0;31m         else _validate_standard_backends(s))\n\u001b[0m\u001b[1;32m    296\u001b[0m     \u001b[0;32mreturn\u001b[0m \u001b[0mbackend\u001b[0m\u001b[0;34m\u001b[0m\u001b[0;34m\u001b[0m\u001b[0m\n\u001b[1;32m    297\u001b[0m \u001b[0;34m\u001b[0m\u001b[0m\n",
      "\u001b[0;32m~/bark_master/bark/bark/python_wrapper/venv/lib/python3.7/site-packages/matplotlib/rcsetup.py\u001b[0m in \u001b[0;36m__call__\u001b[0;34m(self, s)\u001b[0m\n\u001b[1;32m     79\u001b[0m                 and s[1:-1] in self.valid):\n\u001b[1;32m     80\u001b[0m             \u001b[0mmsg\u001b[0m \u001b[0;34m+=\u001b[0m \u001b[0;34m\"; remove quotes surrounding your string\"\u001b[0m\u001b[0;34m\u001b[0m\u001b[0;34m\u001b[0m\u001b[0m\n\u001b[0;32m---> 81\u001b[0;31m         \u001b[0;32mraise\u001b[0m \u001b[0mValueError\u001b[0m\u001b[0;34m(\u001b[0m\u001b[0mmsg\u001b[0m\u001b[0;34m)\u001b[0m\u001b[0;34m\u001b[0m\u001b[0;34m\u001b[0m\u001b[0m\n\u001b[0m\u001b[1;32m     82\u001b[0m \u001b[0;34m\u001b[0m\u001b[0m\n\u001b[1;32m     83\u001b[0m \u001b[0;34m\u001b[0m\u001b[0m\n",
      "\u001b[0;31mValueError\u001b[0m: 'gtk' is not a valid value for backend; supported values are ['GTK3Agg', 'GTK3Cairo', 'MacOSX', 'nbAgg', 'Qt4Agg', 'Qt4Cairo', 'Qt5Agg', 'Qt5Cairo', 'TkAgg', 'TkCairo', 'WebAgg', 'WX', 'WXAgg', 'WXCairo', 'agg', 'cairo', 'pdf', 'pgf', 'ps', 'svg', 'template']"
     ]
    }
   ],
   "source": [
    "from bark.runtime.scenario.scenario_generation.interaction_dataset_scenario_generation import \\\n",
    "    InteractionDatasetScenarioGeneration\n",
    "from bark.runtime.commons.parameters import ParameterServer\n",
    "from bark.runtime.viewer.matplotlib_viewer import MPViewer\n",
    "from bark.runtime.viewer.video_renderer import VideoRenderer\n",
    "import os\n",
    "import os.path\n",
    "import argparse\n",
    "import matplotlib.pyplot as plt"
   ]
  },
  {
   "cell_type": "markdown",
   "metadata": {},
   "source": [
    "Make sure you have access to the dataset. For licencing reasons, it is not enclosed with bark!\n",
    "\n",
    "We recommend to place the data into a seperate git repository. In this case, in the top level WORKSPACE file, change the following lines accordingly:\n",
    "\n",
    "\n",
    "```\n",
    "git_repository(\n",
    " name = \"interaction_dataset_fortiss_internal\",\n",
    " commit = \"4152cdddcb04efa9a54524f9d737d1e89b1eafad\",\n",
    " remote = \"https://git.fortiss.org/autosim/interaction_dataset\"\n",
    ")\n",
    "```\n",
    "\n",
    "\n",
    "\n",
    "Then, start the notebook server with `bazel run docs/tutorials:run --define interaction_dataset_present=true`"
   ]
  },
  {
   "cell_type": "markdown",
   "metadata": {},
   "source": [
    "Here, we specify which slize of the dataset shall be loaded. **Note that the files have to exist!** The dataset itself is not included in bark! We here specify the parameters:\n",
    "- The map: \"MapFilename\"\n",
    "- The vehicle trajectories: \"TrackFilename\"\n",
    "- Which vehicles: \"TrackIds\"\n",
    "- Start time: \"StartTs\"\n",
    "- End Time: \"EndTs\"\n",
    "- Who's treated as ego agent (aka. where are metrics evaluated): \"EgoTrackId\"\n"
   ]
  },
  {
   "cell_type": "markdown",
   "metadata": {},
   "source": [
    "## Let's Do a Scenario Replay\n",
    "\n",
    "We take out one slice of the dataset as starting and in the rist step just do a dump replay. For this we create a parameter server specifying which slice in time we want to simulate and which agents:"
   ]
  },
  {
   "cell_type": "code",
   "execution_count": 17,
   "metadata": {},
   "outputs": [],
   "source": [
    "# Setup parameter server\n",
    "param_server = ParameterServer()\n",
    "param_server[\"Scenario\"][\"Generation\"][\"InteractionDatasetScenarioGeneration\"][\"MapFilename\"] = os.path.expanduser('~') +\"/bark/interaction_dataset/DR_DEU_Merging_MT/map/DR_DEU_Merging_MT_v01_shifted.xodr\"\n",
    "param_server[\"Scenario\"][\"Generation\"][\"InteractionDatasetScenarioGeneration\"][\"TrackFilename\"] = os.path.expanduser('~') +\"/bark/interaction_dataset/DR_DEU_Merging_MT/tracks/vehicle_tracks_013.csv\"\n",
    "param_server[\"Scenario\"][\"Generation\"][\"InteractionDatasetScenarioGeneration\"][\"TrackIds\"] = [63,64,65,66,67,68]\n",
    "param_server[\"Scenario\"][\"Generation\"][\"InteractionDatasetScenarioGeneration\"][\"StartTs\"] = 232000\n",
    "param_server[\"Scenario\"][\"Generation\"][\"InteractionDatasetScenarioGeneration\"][\"EndTs\"] = 259000\n",
    "param_server[\"Scenario\"][\"Generation\"][\"InteractionDatasetScenarioGeneration\"][\"EgoTrackId\"] = 65\n",
    "param_server[\"simulation\"][\"step_time\"] = 0.1 # has to match the prerecorded traces! "
   ]
  },
  {
   "cell_type": "markdown",
   "metadata": {},
   "source": [
    "The class InteractionDatasetScenarioGeneration wraps all functionalities to generate a runnable scenario from the dataset, you just have to..."
   ]
  },
  {
   "cell_type": "code",
   "execution_count": 18,
   "metadata": {},
   "outputs": [
    {
     "name": "stderr",
     "output_type": "stream",
     "text": [
      "/home/kessler/.cache/bazel/_bazel_kessler/6ba317d7828f21aa2067abd006e869d3/execroot/bark_project/bazel-out/k8-fastbuild/bin/docs/tutorials/run.runfiles/bark_project/bark/runtime/commons/xodr_parser.py:108: FutureWarning: The behavior of this method will change in future versions. Use specific 'len(elem)' or 'elem is not None' test instead.\n",
      "  if lane.find(\"userData\"):\n"
     ]
    }
   ],
   "source": [
    "#...create the scenario\n",
    "scenario_generation = InteractionDatasetScenarioGeneration(num_scenarios=1, random_seed=0, params=param_server)\n",
    "scenario = scenario_generation.create_scenarios(param_server, 1)[0]"
   ]
  },
  {
   "cell_type": "code",
   "execution_count": 20,
   "metadata": {},
   "outputs": [
    {
     "name": "stderr",
     "output_type": "stream",
     "text": [
      "/home/kessler/.cache/bazel/_bazel_kessler/6ba317d7828f21aa2067abd006e869d3/execroot/bark_project/bazel-out/k8-fastbuild/bin/docs/tutorials/run.runfiles/bark_project/bark/runtime/viewer/matplotlib_viewer.py:49: MatplotlibDeprecationWarning: Case-insensitive properties were deprecated in 3.3 and support will be removed two minor releases later\n",
      "  linewidth=linewidth)\n",
      "/home/kessler/.cache/bazel/_bazel_kessler/6ba317d7828f21aa2067abd006e869d3/execroot/bark_project/bazel-out/k8-fastbuild/bin/docs/tutorials/run.runfiles/bark_project/bark/runtime/viewer/matplotlib_viewer.py:49: MatplotlibDeprecationWarning: Case-insensitive properties were deprecated in 3.3 and support will be removed two minor releases later\n",
      "  linewidth=linewidth)\n",
      "/home/kessler/.cache/bazel/_bazel_kessler/6ba317d7828f21aa2067abd006e869d3/execroot/bark_project/bazel-out/k8-fastbuild/bin/docs/tutorials/run.runfiles/bark_project/bark/runtime/viewer/matplotlib_viewer.py:49: MatplotlibDeprecationWarning: Case-insensitive properties were deprecated in 3.3 and support will be removed two minor releases later\n",
      "  linewidth=linewidth)\n",
      "/home/kessler/.cache/bazel/_bazel_kessler/6ba317d7828f21aa2067abd006e869d3/execroot/bark_project/bazel-out/k8-fastbuild/bin/docs/tutorials/run.runfiles/bark_project/bark/runtime/viewer/matplotlib_viewer.py:49: MatplotlibDeprecationWarning: Case-insensitive properties were deprecated in 3.3 and support will be removed two minor releases later\n",
      "  linewidth=linewidth)\n",
      "/home/kessler/.cache/bazel/_bazel_kessler/6ba317d7828f21aa2067abd006e869d3/execroot/bark_project/bazel-out/k8-fastbuild/bin/docs/tutorials/run.runfiles/bark_project/bark/runtime/viewer/matplotlib_viewer.py:49: MatplotlibDeprecationWarning: Case-insensitive properties were deprecated in 3.3 and support will be removed two minor releases later\n",
      "  linewidth=linewidth)\n",
      "/home/kessler/.cache/bazel/_bazel_kessler/6ba317d7828f21aa2067abd006e869d3/execroot/bark_project/bazel-out/k8-fastbuild/bin/docs/tutorials/run.runfiles/bark_project/bark/runtime/viewer/matplotlib_viewer.py:49: MatplotlibDeprecationWarning: Case-insensitive properties were deprecated in 3.3 and support will be removed two minor releases later\n",
      "  linewidth=linewidth)\n",
      "/home/kessler/.cache/bazel/_bazel_kessler/6ba317d7828f21aa2067abd006e869d3/execroot/bark_project/bazel-out/k8-fastbuild/bin/docs/tutorials/run.runfiles/bark_project/bark/runtime/viewer/matplotlib_viewer.py:49: MatplotlibDeprecationWarning: Case-insensitive properties were deprecated in 3.3 and support will be removed two minor releases later\n",
      "  linewidth=linewidth)\n",
      "/home/kessler/.cache/bazel/_bazel_kessler/6ba317d7828f21aa2067abd006e869d3/execroot/bark_project/bazel-out/k8-fastbuild/bin/docs/tutorials/run.runfiles/bark_project/bark/runtime/viewer/matplotlib_viewer.py:49: MatplotlibDeprecationWarning: Case-insensitive properties were deprecated in 3.3 and support will be removed two minor releases later\n",
      "  linewidth=linewidth)\n",
      "/home/kessler/.cache/bazel/_bazel_kessler/6ba317d7828f21aa2067abd006e869d3/execroot/bark_project/bazel-out/k8-fastbuild/bin/docs/tutorials/run.runfiles/bark_project/bark/runtime/viewer/matplotlib_viewer.py:49: MatplotlibDeprecationWarning: Case-insensitive properties were deprecated in 3.3 and support will be removed two minor releases later\n",
      "  linewidth=linewidth)\n",
      "/home/kessler/.cache/bazel/_bazel_kessler/6ba317d7828f21aa2067abd006e869d3/execroot/bark_project/bazel-out/k8-fastbuild/bin/docs/tutorials/run.runfiles/bark_project/bark/runtime/viewer/matplotlib_viewer.py:127: UserWarning: Matplotlib is currently using agg, which is a non-GUI backend, so cannot show the figure.\n",
      "  plt.pause(0.001)\n",
      "/home/kessler/.cache/bazel/_bazel_kessler/6ba317d7828f21aa2067abd006e869d3/execroot/bark_project/bazel-out/k8-fastbuild/bin/docs/tutorials/run.runfiles/bark_project/bark/runtime/viewer/matplotlib_viewer.py:49: MatplotlibDeprecationWarning: Case-insensitive properties were deprecated in 3.3 and support will be removed two minor releases later\n",
      "  linewidth=linewidth)\n",
      "/home/kessler/.cache/bazel/_bazel_kessler/6ba317d7828f21aa2067abd006e869d3/execroot/bark_project/bazel-out/k8-fastbuild/bin/docs/tutorials/run.runfiles/bark_project/bark/runtime/viewer/matplotlib_viewer.py:49: MatplotlibDeprecationWarning: Case-insensitive properties were deprecated in 3.3 and support will be removed two minor releases later\n",
      "  linewidth=linewidth)\n",
      "/home/kessler/.cache/bazel/_bazel_kessler/6ba317d7828f21aa2067abd006e869d3/execroot/bark_project/bazel-out/k8-fastbuild/bin/docs/tutorials/run.runfiles/bark_project/bark/runtime/viewer/matplotlib_viewer.py:49: MatplotlibDeprecationWarning: Case-insensitive properties were deprecated in 3.3 and support will be removed two minor releases later\n",
      "  linewidth=linewidth)\n",
      "/home/kessler/.cache/bazel/_bazel_kessler/6ba317d7828f21aa2067abd006e869d3/execroot/bark_project/bazel-out/k8-fastbuild/bin/docs/tutorials/run.runfiles/bark_project/bark/runtime/viewer/matplotlib_viewer.py:49: MatplotlibDeprecationWarning: Case-insensitive properties were deprecated in 3.3 and support will be removed two minor releases later\n",
      "  linewidth=linewidth)\n",
      "/home/kessler/.cache/bazel/_bazel_kessler/6ba317d7828f21aa2067abd006e869d3/execroot/bark_project/bazel-out/k8-fastbuild/bin/docs/tutorials/run.runfiles/bark_project/bark/runtime/viewer/matplotlib_viewer.py:49: MatplotlibDeprecationWarning: Case-insensitive properties were deprecated in 3.3 and support will be removed two minor releases later\n",
      "  linewidth=linewidth)\n",
      "/home/kessler/.cache/bazel/_bazel_kessler/6ba317d7828f21aa2067abd006e869d3/execroot/bark_project/bazel-out/k8-fastbuild/bin/docs/tutorials/run.runfiles/bark_project/bark/runtime/viewer/matplotlib_viewer.py:49: MatplotlibDeprecationWarning: Case-insensitive properties were deprecated in 3.3 and support will be removed two minor releases later\n",
      "  linewidth=linewidth)\n",
      "/home/kessler/.cache/bazel/_bazel_kessler/6ba317d7828f21aa2067abd006e869d3/execroot/bark_project/bazel-out/k8-fastbuild/bin/docs/tutorials/run.runfiles/bark_project/bark/runtime/viewer/matplotlib_viewer.py:49: MatplotlibDeprecationWarning: Case-insensitive properties were deprecated in 3.3 and support will be removed two minor releases later\n",
      "  linewidth=linewidth)\n",
      "/home/kessler/.cache/bazel/_bazel_kessler/6ba317d7828f21aa2067abd006e869d3/execroot/bark_project/bazel-out/k8-fastbuild/bin/docs/tutorials/run.runfiles/bark_project/bark/runtime/viewer/matplotlib_viewer.py:49: MatplotlibDeprecationWarning: Case-insensitive properties were deprecated in 3.3 and support will be removed two minor releases later\n",
      "  linewidth=linewidth)\n",
      "/home/kessler/.cache/bazel/_bazel_kessler/6ba317d7828f21aa2067abd006e869d3/execroot/bark_project/bazel-out/k8-fastbuild/bin/docs/tutorials/run.runfiles/bark_project/bark/runtime/viewer/matplotlib_viewer.py:49: MatplotlibDeprecationWarning: Case-insensitive properties were deprecated in 3.3 and support will be removed two minor releases later\n",
      "  linewidth=linewidth)\n",
      "/home/kessler/.cache/bazel/_bazel_kessler/6ba317d7828f21aa2067abd006e869d3/execroot/bark_project/bazel-out/k8-fastbuild/bin/docs/tutorials/run.runfiles/bark_project/bark/runtime/viewer/matplotlib_viewer.py:127: UserWarning: Matplotlib is currently using agg, which is a non-GUI backend, so cannot show the figure.\n",
      "  plt.pause(0.001)\n",
      "/home/kessler/.cache/bazel/_bazel_kessler/6ba317d7828f21aa2067abd006e869d3/execroot/bark_project/bazel-out/k8-fastbuild/bin/docs/tutorials/run.runfiles/bark_project/bark/runtime/viewer/matplotlib_viewer.py:49: MatplotlibDeprecationWarning: Case-insensitive properties were deprecated in 3.3 and support will be removed two minor releases later\n",
      "  linewidth=linewidth)\n",
      "/home/kessler/.cache/bazel/_bazel_kessler/6ba317d7828f21aa2067abd006e869d3/execroot/bark_project/bazel-out/k8-fastbuild/bin/docs/tutorials/run.runfiles/bark_project/bark/runtime/viewer/matplotlib_viewer.py:49: MatplotlibDeprecationWarning: Case-insensitive properties were deprecated in 3.3 and support will be removed two minor releases later\n",
      "  linewidth=linewidth)\n",
      "/home/kessler/.cache/bazel/_bazel_kessler/6ba317d7828f21aa2067abd006e869d3/execroot/bark_project/bazel-out/k8-fastbuild/bin/docs/tutorials/run.runfiles/bark_project/bark/runtime/viewer/matplotlib_viewer.py:49: MatplotlibDeprecationWarning: Case-insensitive properties were deprecated in 3.3 and support will be removed two minor releases later\n",
      "  linewidth=linewidth)\n",
      "/home/kessler/.cache/bazel/_bazel_kessler/6ba317d7828f21aa2067abd006e869d3/execroot/bark_project/bazel-out/k8-fastbuild/bin/docs/tutorials/run.runfiles/bark_project/bark/runtime/viewer/matplotlib_viewer.py:49: MatplotlibDeprecationWarning: Case-insensitive properties were deprecated in 3.3 and support will be removed two minor releases later\n",
      "  linewidth=linewidth)\n",
      "/home/kessler/.cache/bazel/_bazel_kessler/6ba317d7828f21aa2067abd006e869d3/execroot/bark_project/bazel-out/k8-fastbuild/bin/docs/tutorials/run.runfiles/bark_project/bark/runtime/viewer/matplotlib_viewer.py:49: MatplotlibDeprecationWarning: Case-insensitive properties were deprecated in 3.3 and support will be removed two minor releases later\n",
      "  linewidth=linewidth)\n",
      "/home/kessler/.cache/bazel/_bazel_kessler/6ba317d7828f21aa2067abd006e869d3/execroot/bark_project/bazel-out/k8-fastbuild/bin/docs/tutorials/run.runfiles/bark_project/bark/runtime/viewer/matplotlib_viewer.py:49: MatplotlibDeprecationWarning: Case-insensitive properties were deprecated in 3.3 and support will be removed two minor releases later\n",
      "  linewidth=linewidth)\n",
      "/home/kessler/.cache/bazel/_bazel_kessler/6ba317d7828f21aa2067abd006e869d3/execroot/bark_project/bazel-out/k8-fastbuild/bin/docs/tutorials/run.runfiles/bark_project/bark/runtime/viewer/matplotlib_viewer.py:49: MatplotlibDeprecationWarning: Case-insensitive properties were deprecated in 3.3 and support will be removed two minor releases later\n",
      "  linewidth=linewidth)\n",
      "/home/kessler/.cache/bazel/_bazel_kessler/6ba317d7828f21aa2067abd006e869d3/execroot/bark_project/bazel-out/k8-fastbuild/bin/docs/tutorials/run.runfiles/bark_project/bark/runtime/viewer/matplotlib_viewer.py:49: MatplotlibDeprecationWarning: Case-insensitive properties were deprecated in 3.3 and support will be removed two minor releases later\n",
      "  linewidth=linewidth)\n",
      "/home/kessler/.cache/bazel/_bazel_kessler/6ba317d7828f21aa2067abd006e869d3/execroot/bark_project/bazel-out/k8-fastbuild/bin/docs/tutorials/run.runfiles/bark_project/bark/runtime/viewer/matplotlib_viewer.py:49: MatplotlibDeprecationWarning: Case-insensitive properties were deprecated in 3.3 and support will be removed two minor releases later\n",
      "  linewidth=linewidth)\n",
      "/home/kessler/.cache/bazel/_bazel_kessler/6ba317d7828f21aa2067abd006e869d3/execroot/bark_project/bazel-out/k8-fastbuild/bin/docs/tutorials/run.runfiles/bark_project/bark/runtime/viewer/matplotlib_viewer.py:127: UserWarning: Matplotlib is currently using agg, which is a non-GUI backend, so cannot show the figure.\n",
      "  plt.pause(0.001)\n"
     ]
    },
    {
     "name": "stderr",
     "output_type": "stream",
     "text": [
      "/home/kessler/.cache/bazel/_bazel_kessler/6ba317d7828f21aa2067abd006e869d3/execroot/bark_project/bazel-out/k8-fastbuild/bin/docs/tutorials/run.runfiles/bark_project/bark/runtime/viewer/matplotlib_viewer.py:49: MatplotlibDeprecationWarning: Case-insensitive properties were deprecated in 3.3 and support will be removed two minor releases later\n",
      "  linewidth=linewidth)\n",
      "/home/kessler/.cache/bazel/_bazel_kessler/6ba317d7828f21aa2067abd006e869d3/execroot/bark_project/bazel-out/k8-fastbuild/bin/docs/tutorials/run.runfiles/bark_project/bark/runtime/viewer/matplotlib_viewer.py:49: MatplotlibDeprecationWarning: Case-insensitive properties were deprecated in 3.3 and support will be removed two minor releases later\n",
      "  linewidth=linewidth)\n",
      "/home/kessler/.cache/bazel/_bazel_kessler/6ba317d7828f21aa2067abd006e869d3/execroot/bark_project/bazel-out/k8-fastbuild/bin/docs/tutorials/run.runfiles/bark_project/bark/runtime/viewer/matplotlib_viewer.py:49: MatplotlibDeprecationWarning: Case-insensitive properties were deprecated in 3.3 and support will be removed two minor releases later\n",
      "  linewidth=linewidth)\n",
      "/home/kessler/.cache/bazel/_bazel_kessler/6ba317d7828f21aa2067abd006e869d3/execroot/bark_project/bazel-out/k8-fastbuild/bin/docs/tutorials/run.runfiles/bark_project/bark/runtime/viewer/matplotlib_viewer.py:49: MatplotlibDeprecationWarning: Case-insensitive properties were deprecated in 3.3 and support will be removed two minor releases later\n",
      "  linewidth=linewidth)\n",
      "/home/kessler/.cache/bazel/_bazel_kessler/6ba317d7828f21aa2067abd006e869d3/execroot/bark_project/bazel-out/k8-fastbuild/bin/docs/tutorials/run.runfiles/bark_project/bark/runtime/viewer/matplotlib_viewer.py:49: MatplotlibDeprecationWarning: Case-insensitive properties were deprecated in 3.3 and support will be removed two minor releases later\n",
      "  linewidth=linewidth)\n",
      "/home/kessler/.cache/bazel/_bazel_kessler/6ba317d7828f21aa2067abd006e869d3/execroot/bark_project/bazel-out/k8-fastbuild/bin/docs/tutorials/run.runfiles/bark_project/bark/runtime/viewer/matplotlib_viewer.py:49: MatplotlibDeprecationWarning: Case-insensitive properties were deprecated in 3.3 and support will be removed two minor releases later\n",
      "  linewidth=linewidth)\n",
      "/home/kessler/.cache/bazel/_bazel_kessler/6ba317d7828f21aa2067abd006e869d3/execroot/bark_project/bazel-out/k8-fastbuild/bin/docs/tutorials/run.runfiles/bark_project/bark/runtime/viewer/matplotlib_viewer.py:49: MatplotlibDeprecationWarning: Case-insensitive properties were deprecated in 3.3 and support will be removed two minor releases later\n",
      "  linewidth=linewidth)\n",
      "/home/kessler/.cache/bazel/_bazel_kessler/6ba317d7828f21aa2067abd006e869d3/execroot/bark_project/bazel-out/k8-fastbuild/bin/docs/tutorials/run.runfiles/bark_project/bark/runtime/viewer/matplotlib_viewer.py:49: MatplotlibDeprecationWarning: Case-insensitive properties were deprecated in 3.3 and support will be removed two minor releases later\n",
      "  linewidth=linewidth)\n",
      "/home/kessler/.cache/bazel/_bazel_kessler/6ba317d7828f21aa2067abd006e869d3/execroot/bark_project/bazel-out/k8-fastbuild/bin/docs/tutorials/run.runfiles/bark_project/bark/runtime/viewer/matplotlib_viewer.py:49: MatplotlibDeprecationWarning: Case-insensitive properties were deprecated in 3.3 and support will be removed two minor releases later\n",
      "  linewidth=linewidth)\n",
      "/home/kessler/.cache/bazel/_bazel_kessler/6ba317d7828f21aa2067abd006e869d3/execroot/bark_project/bazel-out/k8-fastbuild/bin/docs/tutorials/run.runfiles/bark_project/bark/runtime/viewer/matplotlib_viewer.py:127: UserWarning: Matplotlib is currently using agg, which is a non-GUI backend, so cannot show the figure.\n",
      "  plt.pause(0.001)\n",
      "/home/kessler/.cache/bazel/_bazel_kessler/6ba317d7828f21aa2067abd006e869d3/execroot/bark_project/bazel-out/k8-fastbuild/bin/docs/tutorials/run.runfiles/bark_project/bark/runtime/viewer/matplotlib_viewer.py:49: MatplotlibDeprecationWarning: Case-insensitive properties were deprecated in 3.3 and support will be removed two minor releases later\n",
      "  linewidth=linewidth)\n",
      "/home/kessler/.cache/bazel/_bazel_kessler/6ba317d7828f21aa2067abd006e869d3/execroot/bark_project/bazel-out/k8-fastbuild/bin/docs/tutorials/run.runfiles/bark_project/bark/runtime/viewer/matplotlib_viewer.py:49: MatplotlibDeprecationWarning: Case-insensitive properties were deprecated in 3.3 and support will be removed two minor releases later\n",
      "  linewidth=linewidth)\n",
      "/home/kessler/.cache/bazel/_bazel_kessler/6ba317d7828f21aa2067abd006e869d3/execroot/bark_project/bazel-out/k8-fastbuild/bin/docs/tutorials/run.runfiles/bark_project/bark/runtime/viewer/matplotlib_viewer.py:49: MatplotlibDeprecationWarning: Case-insensitive properties were deprecated in 3.3 and support will be removed two minor releases later\n",
      "  linewidth=linewidth)\n",
      "/home/kessler/.cache/bazel/_bazel_kessler/6ba317d7828f21aa2067abd006e869d3/execroot/bark_project/bazel-out/k8-fastbuild/bin/docs/tutorials/run.runfiles/bark_project/bark/runtime/viewer/matplotlib_viewer.py:49: MatplotlibDeprecationWarning: Case-insensitive properties were deprecated in 3.3 and support will be removed two minor releases later\n",
      "  linewidth=linewidth)\n",
      "/home/kessler/.cache/bazel/_bazel_kessler/6ba317d7828f21aa2067abd006e869d3/execroot/bark_project/bazel-out/k8-fastbuild/bin/docs/tutorials/run.runfiles/bark_project/bark/runtime/viewer/matplotlib_viewer.py:49: MatplotlibDeprecationWarning: Case-insensitive properties were deprecated in 3.3 and support will be removed two minor releases later\n",
      "  linewidth=linewidth)\n",
      "/home/kessler/.cache/bazel/_bazel_kessler/6ba317d7828f21aa2067abd006e869d3/execroot/bark_project/bazel-out/k8-fastbuild/bin/docs/tutorials/run.runfiles/bark_project/bark/runtime/viewer/matplotlib_viewer.py:49: MatplotlibDeprecationWarning: Case-insensitive properties were deprecated in 3.3 and support will be removed two minor releases later\n",
      "  linewidth=linewidth)\n",
      "/home/kessler/.cache/bazel/_bazel_kessler/6ba317d7828f21aa2067abd006e869d3/execroot/bark_project/bazel-out/k8-fastbuild/bin/docs/tutorials/run.runfiles/bark_project/bark/runtime/viewer/matplotlib_viewer.py:49: MatplotlibDeprecationWarning: Case-insensitive properties were deprecated in 3.3 and support will be removed two minor releases later\n",
      "  linewidth=linewidth)\n",
      "/home/kessler/.cache/bazel/_bazel_kessler/6ba317d7828f21aa2067abd006e869d3/execroot/bark_project/bazel-out/k8-fastbuild/bin/docs/tutorials/run.runfiles/bark_project/bark/runtime/viewer/matplotlib_viewer.py:49: MatplotlibDeprecationWarning: Case-insensitive properties were deprecated in 3.3 and support will be removed two minor releases later\n",
      "  linewidth=linewidth)\n",
      "/home/kessler/.cache/bazel/_bazel_kessler/6ba317d7828f21aa2067abd006e869d3/execroot/bark_project/bazel-out/k8-fastbuild/bin/docs/tutorials/run.runfiles/bark_project/bark/runtime/viewer/matplotlib_viewer.py:49: MatplotlibDeprecationWarning: Case-insensitive properties were deprecated in 3.3 and support will be removed two minor releases later\n",
      "  linewidth=linewidth)\n",
      "/home/kessler/.cache/bazel/_bazel_kessler/6ba317d7828f21aa2067abd006e869d3/execroot/bark_project/bazel-out/k8-fastbuild/bin/docs/tutorials/run.runfiles/bark_project/bark/runtime/viewer/matplotlib_viewer.py:127: UserWarning: Matplotlib is currently using agg, which is a non-GUI backend, so cannot show the figure.\n",
      "  plt.pause(0.001)\n",
      "/home/kessler/.cache/bazel/_bazel_kessler/6ba317d7828f21aa2067abd006e869d3/execroot/bark_project/bazel-out/k8-fastbuild/bin/docs/tutorials/run.runfiles/bark_project/bark/runtime/viewer/matplotlib_viewer.py:49: MatplotlibDeprecationWarning: Case-insensitive properties were deprecated in 3.3 and support will be removed two minor releases later\n",
      "  linewidth=linewidth)\n",
      "/home/kessler/.cache/bazel/_bazel_kessler/6ba317d7828f21aa2067abd006e869d3/execroot/bark_project/bazel-out/k8-fastbuild/bin/docs/tutorials/run.runfiles/bark_project/bark/runtime/viewer/matplotlib_viewer.py:49: MatplotlibDeprecationWarning: Case-insensitive properties were deprecated in 3.3 and support will be removed two minor releases later\n",
      "  linewidth=linewidth)\n",
      "/home/kessler/.cache/bazel/_bazel_kessler/6ba317d7828f21aa2067abd006e869d3/execroot/bark_project/bazel-out/k8-fastbuild/bin/docs/tutorials/run.runfiles/bark_project/bark/runtime/viewer/matplotlib_viewer.py:49: MatplotlibDeprecationWarning: Case-insensitive properties were deprecated in 3.3 and support will be removed two minor releases later\n",
      "  linewidth=linewidth)\n",
      "/home/kessler/.cache/bazel/_bazel_kessler/6ba317d7828f21aa2067abd006e869d3/execroot/bark_project/bazel-out/k8-fastbuild/bin/docs/tutorials/run.runfiles/bark_project/bark/runtime/viewer/matplotlib_viewer.py:49: MatplotlibDeprecationWarning: Case-insensitive properties were deprecated in 3.3 and support will be removed two minor releases later\n",
      "  linewidth=linewidth)\n",
      "/home/kessler/.cache/bazel/_bazel_kessler/6ba317d7828f21aa2067abd006e869d3/execroot/bark_project/bazel-out/k8-fastbuild/bin/docs/tutorials/run.runfiles/bark_project/bark/runtime/viewer/matplotlib_viewer.py:49: MatplotlibDeprecationWarning: Case-insensitive properties were deprecated in 3.3 and support will be removed two minor releases later\n",
      "  linewidth=linewidth)\n",
      "/home/kessler/.cache/bazel/_bazel_kessler/6ba317d7828f21aa2067abd006e869d3/execroot/bark_project/bazel-out/k8-fastbuild/bin/docs/tutorials/run.runfiles/bark_project/bark/runtime/viewer/matplotlib_viewer.py:49: MatplotlibDeprecationWarning: Case-insensitive properties were deprecated in 3.3 and support will be removed two minor releases later\n",
      "  linewidth=linewidth)\n",
      "/home/kessler/.cache/bazel/_bazel_kessler/6ba317d7828f21aa2067abd006e869d3/execroot/bark_project/bazel-out/k8-fastbuild/bin/docs/tutorials/run.runfiles/bark_project/bark/runtime/viewer/matplotlib_viewer.py:49: MatplotlibDeprecationWarning: Case-insensitive properties were deprecated in 3.3 and support will be removed two minor releases later\n",
      "  linewidth=linewidth)\n",
      "/home/kessler/.cache/bazel/_bazel_kessler/6ba317d7828f21aa2067abd006e869d3/execroot/bark_project/bazel-out/k8-fastbuild/bin/docs/tutorials/run.runfiles/bark_project/bark/runtime/viewer/matplotlib_viewer.py:49: MatplotlibDeprecationWarning: Case-insensitive properties were deprecated in 3.3 and support will be removed two minor releases later\n",
      "  linewidth=linewidth)\n",
      "/home/kessler/.cache/bazel/_bazel_kessler/6ba317d7828f21aa2067abd006e869d3/execroot/bark_project/bazel-out/k8-fastbuild/bin/docs/tutorials/run.runfiles/bark_project/bark/runtime/viewer/matplotlib_viewer.py:49: MatplotlibDeprecationWarning: Case-insensitive properties were deprecated in 3.3 and support will be removed two minor releases later\n",
      "  linewidth=linewidth)\n",
      "/home/kessler/.cache/bazel/_bazel_kessler/6ba317d7828f21aa2067abd006e869d3/execroot/bark_project/bazel-out/k8-fastbuild/bin/docs/tutorials/run.runfiles/bark_project/bark/runtime/viewer/matplotlib_viewer.py:127: UserWarning: Matplotlib is currently using agg, which is a non-GUI backend, so cannot show the figure.\n",
      "  plt.pause(0.001)\n",
      "/home/kessler/.cache/bazel/_bazel_kessler/6ba317d7828f21aa2067abd006e869d3/execroot/bark_project/bazel-out/k8-fastbuild/bin/docs/tutorials/run.runfiles/bark_project/bark/runtime/viewer/matplotlib_viewer.py:49: MatplotlibDeprecationWarning: Case-insensitive properties were deprecated in 3.3 and support will be removed two minor releases later\n",
      "  linewidth=linewidth)\n",
      "/home/kessler/.cache/bazel/_bazel_kessler/6ba317d7828f21aa2067abd006e869d3/execroot/bark_project/bazel-out/k8-fastbuild/bin/docs/tutorials/run.runfiles/bark_project/bark/runtime/viewer/matplotlib_viewer.py:49: MatplotlibDeprecationWarning: Case-insensitive properties were deprecated in 3.3 and support will be removed two minor releases later\n",
      "  linewidth=linewidth)\n",
      "/home/kessler/.cache/bazel/_bazel_kessler/6ba317d7828f21aa2067abd006e869d3/execroot/bark_project/bazel-out/k8-fastbuild/bin/docs/tutorials/run.runfiles/bark_project/bark/runtime/viewer/matplotlib_viewer.py:49: MatplotlibDeprecationWarning: Case-insensitive properties were deprecated in 3.3 and support will be removed two minor releases later\n",
      "  linewidth=linewidth)\n",
      "/home/kessler/.cache/bazel/_bazel_kessler/6ba317d7828f21aa2067abd006e869d3/execroot/bark_project/bazel-out/k8-fastbuild/bin/docs/tutorials/run.runfiles/bark_project/bark/runtime/viewer/matplotlib_viewer.py:49: MatplotlibDeprecationWarning: Case-insensitive properties were deprecated in 3.3 and support will be removed two minor releases later\n",
      "  linewidth=linewidth)\n",
      "/home/kessler/.cache/bazel/_bazel_kessler/6ba317d7828f21aa2067abd006e869d3/execroot/bark_project/bazel-out/k8-fastbuild/bin/docs/tutorials/run.runfiles/bark_project/bark/runtime/viewer/matplotlib_viewer.py:49: MatplotlibDeprecationWarning: Case-insensitive properties were deprecated in 3.3 and support will be removed two minor releases later\n",
      "  linewidth=linewidth)\n",
      "/home/kessler/.cache/bazel/_bazel_kessler/6ba317d7828f21aa2067abd006e869d3/execroot/bark_project/bazel-out/k8-fastbuild/bin/docs/tutorials/run.runfiles/bark_project/bark/runtime/viewer/matplotlib_viewer.py:49: MatplotlibDeprecationWarning: Case-insensitive properties were deprecated in 3.3 and support will be removed two minor releases later\n",
      "  linewidth=linewidth)\n",
      "/home/kessler/.cache/bazel/_bazel_kessler/6ba317d7828f21aa2067abd006e869d3/execroot/bark_project/bazel-out/k8-fastbuild/bin/docs/tutorials/run.runfiles/bark_project/bark/runtime/viewer/matplotlib_viewer.py:49: MatplotlibDeprecationWarning: Case-insensitive properties were deprecated in 3.3 and support will be removed two minor releases later\n",
      "  linewidth=linewidth)\n",
      "/home/kessler/.cache/bazel/_bazel_kessler/6ba317d7828f21aa2067abd006e869d3/execroot/bark_project/bazel-out/k8-fastbuild/bin/docs/tutorials/run.runfiles/bark_project/bark/runtime/viewer/matplotlib_viewer.py:49: MatplotlibDeprecationWarning: Case-insensitive properties were deprecated in 3.3 and support will be removed two minor releases later\n",
      "  linewidth=linewidth)\n",
      "/home/kessler/.cache/bazel/_bazel_kessler/6ba317d7828f21aa2067abd006e869d3/execroot/bark_project/bazel-out/k8-fastbuild/bin/docs/tutorials/run.runfiles/bark_project/bark/runtime/viewer/matplotlib_viewer.py:49: MatplotlibDeprecationWarning: Case-insensitive properties were deprecated in 3.3 and support will be removed two minor releases later\n",
      "  linewidth=linewidth)\n"
     ]
    },
    {
     "name": "stderr",
     "output_type": "stream",
     "text": [
      "/home/kessler/.cache/bazel/_bazel_kessler/6ba317d7828f21aa2067abd006e869d3/execroot/bark_project/bazel-out/k8-fastbuild/bin/docs/tutorials/run.runfiles/bark_project/bark/runtime/viewer/matplotlib_viewer.py:127: UserWarning: Matplotlib is currently using agg, which is a non-GUI backend, so cannot show the figure.\n",
      "  plt.pause(0.001)\n",
      "/home/kessler/.cache/bazel/_bazel_kessler/6ba317d7828f21aa2067abd006e869d3/execroot/bark_project/bazel-out/k8-fastbuild/bin/docs/tutorials/run.runfiles/bark_project/bark/runtime/viewer/matplotlib_viewer.py:49: MatplotlibDeprecationWarning: Case-insensitive properties were deprecated in 3.3 and support will be removed two minor releases later\n",
      "  linewidth=linewidth)\n",
      "/home/kessler/.cache/bazel/_bazel_kessler/6ba317d7828f21aa2067abd006e869d3/execroot/bark_project/bazel-out/k8-fastbuild/bin/docs/tutorials/run.runfiles/bark_project/bark/runtime/viewer/matplotlib_viewer.py:49: MatplotlibDeprecationWarning: Case-insensitive properties were deprecated in 3.3 and support will be removed two minor releases later\n",
      "  linewidth=linewidth)\n",
      "/home/kessler/.cache/bazel/_bazel_kessler/6ba317d7828f21aa2067abd006e869d3/execroot/bark_project/bazel-out/k8-fastbuild/bin/docs/tutorials/run.runfiles/bark_project/bark/runtime/viewer/matplotlib_viewer.py:49: MatplotlibDeprecationWarning: Case-insensitive properties were deprecated in 3.3 and support will be removed two minor releases later\n",
      "  linewidth=linewidth)\n",
      "/home/kessler/.cache/bazel/_bazel_kessler/6ba317d7828f21aa2067abd006e869d3/execroot/bark_project/bazel-out/k8-fastbuild/bin/docs/tutorials/run.runfiles/bark_project/bark/runtime/viewer/matplotlib_viewer.py:49: MatplotlibDeprecationWarning: Case-insensitive properties were deprecated in 3.3 and support will be removed two minor releases later\n",
      "  linewidth=linewidth)\n",
      "/home/kessler/.cache/bazel/_bazel_kessler/6ba317d7828f21aa2067abd006e869d3/execroot/bark_project/bazel-out/k8-fastbuild/bin/docs/tutorials/run.runfiles/bark_project/bark/runtime/viewer/matplotlib_viewer.py:49: MatplotlibDeprecationWarning: Case-insensitive properties were deprecated in 3.3 and support will be removed two minor releases later\n",
      "  linewidth=linewidth)\n",
      "/home/kessler/.cache/bazel/_bazel_kessler/6ba317d7828f21aa2067abd006e869d3/execroot/bark_project/bazel-out/k8-fastbuild/bin/docs/tutorials/run.runfiles/bark_project/bark/runtime/viewer/matplotlib_viewer.py:49: MatplotlibDeprecationWarning: Case-insensitive properties were deprecated in 3.3 and support will be removed two minor releases later\n",
      "  linewidth=linewidth)\n",
      "/home/kessler/.cache/bazel/_bazel_kessler/6ba317d7828f21aa2067abd006e869d3/execroot/bark_project/bazel-out/k8-fastbuild/bin/docs/tutorials/run.runfiles/bark_project/bark/runtime/viewer/matplotlib_viewer.py:49: MatplotlibDeprecationWarning: Case-insensitive properties were deprecated in 3.3 and support will be removed two minor releases later\n",
      "  linewidth=linewidth)\n",
      "/home/kessler/.cache/bazel/_bazel_kessler/6ba317d7828f21aa2067abd006e869d3/execroot/bark_project/bazel-out/k8-fastbuild/bin/docs/tutorials/run.runfiles/bark_project/bark/runtime/viewer/matplotlib_viewer.py:49: MatplotlibDeprecationWarning: Case-insensitive properties were deprecated in 3.3 and support will be removed two minor releases later\n",
      "  linewidth=linewidth)\n",
      "/home/kessler/.cache/bazel/_bazel_kessler/6ba317d7828f21aa2067abd006e869d3/execroot/bark_project/bazel-out/k8-fastbuild/bin/docs/tutorials/run.runfiles/bark_project/bark/runtime/viewer/matplotlib_viewer.py:49: MatplotlibDeprecationWarning: Case-insensitive properties were deprecated in 3.3 and support will be removed two minor releases later\n",
      "  linewidth=linewidth)\n",
      "/home/kessler/.cache/bazel/_bazel_kessler/6ba317d7828f21aa2067abd006e869d3/execroot/bark_project/bazel-out/k8-fastbuild/bin/docs/tutorials/run.runfiles/bark_project/bark/runtime/viewer/matplotlib_viewer.py:127: UserWarning: Matplotlib is currently using agg, which is a non-GUI backend, so cannot show the figure.\n",
      "  plt.pause(0.001)\n",
      "/home/kessler/.cache/bazel/_bazel_kessler/6ba317d7828f21aa2067abd006e869d3/execroot/bark_project/bazel-out/k8-fastbuild/bin/docs/tutorials/run.runfiles/bark_project/bark/runtime/viewer/matplotlib_viewer.py:49: MatplotlibDeprecationWarning: Case-insensitive properties were deprecated in 3.3 and support will be removed two minor releases later\n",
      "  linewidth=linewidth)\n",
      "/home/kessler/.cache/bazel/_bazel_kessler/6ba317d7828f21aa2067abd006e869d3/execroot/bark_project/bazel-out/k8-fastbuild/bin/docs/tutorials/run.runfiles/bark_project/bark/runtime/viewer/matplotlib_viewer.py:49: MatplotlibDeprecationWarning: Case-insensitive properties were deprecated in 3.3 and support will be removed two minor releases later\n",
      "  linewidth=linewidth)\n",
      "/home/kessler/.cache/bazel/_bazel_kessler/6ba317d7828f21aa2067abd006e869d3/execroot/bark_project/bazel-out/k8-fastbuild/bin/docs/tutorials/run.runfiles/bark_project/bark/runtime/viewer/matplotlib_viewer.py:49: MatplotlibDeprecationWarning: Case-insensitive properties were deprecated in 3.3 and support will be removed two minor releases later\n",
      "  linewidth=linewidth)\n",
      "/home/kessler/.cache/bazel/_bazel_kessler/6ba317d7828f21aa2067abd006e869d3/execroot/bark_project/bazel-out/k8-fastbuild/bin/docs/tutorials/run.runfiles/bark_project/bark/runtime/viewer/matplotlib_viewer.py:49: MatplotlibDeprecationWarning: Case-insensitive properties were deprecated in 3.3 and support will be removed two minor releases later\n",
      "  linewidth=linewidth)\n",
      "/home/kessler/.cache/bazel/_bazel_kessler/6ba317d7828f21aa2067abd006e869d3/execroot/bark_project/bazel-out/k8-fastbuild/bin/docs/tutorials/run.runfiles/bark_project/bark/runtime/viewer/matplotlib_viewer.py:49: MatplotlibDeprecationWarning: Case-insensitive properties were deprecated in 3.3 and support will be removed two minor releases later\n",
      "  linewidth=linewidth)\n",
      "/home/kessler/.cache/bazel/_bazel_kessler/6ba317d7828f21aa2067abd006e869d3/execroot/bark_project/bazel-out/k8-fastbuild/bin/docs/tutorials/run.runfiles/bark_project/bark/runtime/viewer/matplotlib_viewer.py:49: MatplotlibDeprecationWarning: Case-insensitive properties were deprecated in 3.3 and support will be removed two minor releases later\n",
      "  linewidth=linewidth)\n",
      "/home/kessler/.cache/bazel/_bazel_kessler/6ba317d7828f21aa2067abd006e869d3/execroot/bark_project/bazel-out/k8-fastbuild/bin/docs/tutorials/run.runfiles/bark_project/bark/runtime/viewer/matplotlib_viewer.py:49: MatplotlibDeprecationWarning: Case-insensitive properties were deprecated in 3.3 and support will be removed two minor releases later\n",
      "  linewidth=linewidth)\n",
      "/home/kessler/.cache/bazel/_bazel_kessler/6ba317d7828f21aa2067abd006e869d3/execroot/bark_project/bazel-out/k8-fastbuild/bin/docs/tutorials/run.runfiles/bark_project/bark/runtime/viewer/matplotlib_viewer.py:49: MatplotlibDeprecationWarning: Case-insensitive properties were deprecated in 3.3 and support will be removed two minor releases later\n",
      "  linewidth=linewidth)\n",
      "/home/kessler/.cache/bazel/_bazel_kessler/6ba317d7828f21aa2067abd006e869d3/execroot/bark_project/bazel-out/k8-fastbuild/bin/docs/tutorials/run.runfiles/bark_project/bark/runtime/viewer/matplotlib_viewer.py:49: MatplotlibDeprecationWarning: Case-insensitive properties were deprecated in 3.3 and support will be removed two minor releases later\n",
      "  linewidth=linewidth)\n",
      "/home/kessler/.cache/bazel/_bazel_kessler/6ba317d7828f21aa2067abd006e869d3/execroot/bark_project/bazel-out/k8-fastbuild/bin/docs/tutorials/run.runfiles/bark_project/bark/runtime/viewer/matplotlib_viewer.py:127: UserWarning: Matplotlib is currently using agg, which is a non-GUI backend, so cannot show the figure.\n",
      "  plt.pause(0.001)\n",
      "/home/kessler/.cache/bazel/_bazel_kessler/6ba317d7828f21aa2067abd006e869d3/execroot/bark_project/bazel-out/k8-fastbuild/bin/docs/tutorials/run.runfiles/bark_project/bark/runtime/viewer/matplotlib_viewer.py:49: MatplotlibDeprecationWarning: Case-insensitive properties were deprecated in 3.3 and support will be removed two minor releases later\n",
      "  linewidth=linewidth)\n",
      "/home/kessler/.cache/bazel/_bazel_kessler/6ba317d7828f21aa2067abd006e869d3/execroot/bark_project/bazel-out/k8-fastbuild/bin/docs/tutorials/run.runfiles/bark_project/bark/runtime/viewer/matplotlib_viewer.py:49: MatplotlibDeprecationWarning: Case-insensitive properties were deprecated in 3.3 and support will be removed two minor releases later\n",
      "  linewidth=linewidth)\n",
      "/home/kessler/.cache/bazel/_bazel_kessler/6ba317d7828f21aa2067abd006e869d3/execroot/bark_project/bazel-out/k8-fastbuild/bin/docs/tutorials/run.runfiles/bark_project/bark/runtime/viewer/matplotlib_viewer.py:49: MatplotlibDeprecationWarning: Case-insensitive properties were deprecated in 3.3 and support will be removed two minor releases later\n",
      "  linewidth=linewidth)\n",
      "/home/kessler/.cache/bazel/_bazel_kessler/6ba317d7828f21aa2067abd006e869d3/execroot/bark_project/bazel-out/k8-fastbuild/bin/docs/tutorials/run.runfiles/bark_project/bark/runtime/viewer/matplotlib_viewer.py:49: MatplotlibDeprecationWarning: Case-insensitive properties were deprecated in 3.3 and support will be removed two minor releases later\n",
      "  linewidth=linewidth)\n",
      "/home/kessler/.cache/bazel/_bazel_kessler/6ba317d7828f21aa2067abd006e869d3/execroot/bark_project/bazel-out/k8-fastbuild/bin/docs/tutorials/run.runfiles/bark_project/bark/runtime/viewer/matplotlib_viewer.py:49: MatplotlibDeprecationWarning: Case-insensitive properties were deprecated in 3.3 and support will be removed two minor releases later\n",
      "  linewidth=linewidth)\n",
      "/home/kessler/.cache/bazel/_bazel_kessler/6ba317d7828f21aa2067abd006e869d3/execroot/bark_project/bazel-out/k8-fastbuild/bin/docs/tutorials/run.runfiles/bark_project/bark/runtime/viewer/matplotlib_viewer.py:49: MatplotlibDeprecationWarning: Case-insensitive properties were deprecated in 3.3 and support will be removed two minor releases later\n",
      "  linewidth=linewidth)\n",
      "/home/kessler/.cache/bazel/_bazel_kessler/6ba317d7828f21aa2067abd006e869d3/execroot/bark_project/bazel-out/k8-fastbuild/bin/docs/tutorials/run.runfiles/bark_project/bark/runtime/viewer/matplotlib_viewer.py:49: MatplotlibDeprecationWarning: Case-insensitive properties were deprecated in 3.3 and support will be removed two minor releases later\n",
      "  linewidth=linewidth)\n",
      "/home/kessler/.cache/bazel/_bazel_kessler/6ba317d7828f21aa2067abd006e869d3/execroot/bark_project/bazel-out/k8-fastbuild/bin/docs/tutorials/run.runfiles/bark_project/bark/runtime/viewer/matplotlib_viewer.py:49: MatplotlibDeprecationWarning: Case-insensitive properties were deprecated in 3.3 and support will be removed two minor releases later\n",
      "  linewidth=linewidth)\n",
      "/home/kessler/.cache/bazel/_bazel_kessler/6ba317d7828f21aa2067abd006e869d3/execroot/bark_project/bazel-out/k8-fastbuild/bin/docs/tutorials/run.runfiles/bark_project/bark/runtime/viewer/matplotlib_viewer.py:49: MatplotlibDeprecationWarning: Case-insensitive properties were deprecated in 3.3 and support will be removed two minor releases later\n",
      "  linewidth=linewidth)\n"
     ]
    },
    {
     "name": "stderr",
     "output_type": "stream",
     "text": [
      "/home/kessler/.cache/bazel/_bazel_kessler/6ba317d7828f21aa2067abd006e869d3/execroot/bark_project/bazel-out/k8-fastbuild/bin/docs/tutorials/run.runfiles/bark_project/bark/runtime/viewer/matplotlib_viewer.py:127: UserWarning: Matplotlib is currently using agg, which is a non-GUI backend, so cannot show the figure.\n",
      "  plt.pause(0.001)\n",
      "/home/kessler/.cache/bazel/_bazel_kessler/6ba317d7828f21aa2067abd006e869d3/execroot/bark_project/bazel-out/k8-fastbuild/bin/docs/tutorials/run.runfiles/bark_project/bark/runtime/viewer/matplotlib_viewer.py:49: MatplotlibDeprecationWarning: Case-insensitive properties were deprecated in 3.3 and support will be removed two minor releases later\n",
      "  linewidth=linewidth)\n",
      "/home/kessler/.cache/bazel/_bazel_kessler/6ba317d7828f21aa2067abd006e869d3/execroot/bark_project/bazel-out/k8-fastbuild/bin/docs/tutorials/run.runfiles/bark_project/bark/runtime/viewer/matplotlib_viewer.py:49: MatplotlibDeprecationWarning: Case-insensitive properties were deprecated in 3.3 and support will be removed two minor releases later\n",
      "  linewidth=linewidth)\n",
      "/home/kessler/.cache/bazel/_bazel_kessler/6ba317d7828f21aa2067abd006e869d3/execroot/bark_project/bazel-out/k8-fastbuild/bin/docs/tutorials/run.runfiles/bark_project/bark/runtime/viewer/matplotlib_viewer.py:49: MatplotlibDeprecationWarning: Case-insensitive properties were deprecated in 3.3 and support will be removed two minor releases later\n",
      "  linewidth=linewidth)\n",
      "/home/kessler/.cache/bazel/_bazel_kessler/6ba317d7828f21aa2067abd006e869d3/execroot/bark_project/bazel-out/k8-fastbuild/bin/docs/tutorials/run.runfiles/bark_project/bark/runtime/viewer/matplotlib_viewer.py:49: MatplotlibDeprecationWarning: Case-insensitive properties were deprecated in 3.3 and support will be removed two minor releases later\n",
      "  linewidth=linewidth)\n",
      "/home/kessler/.cache/bazel/_bazel_kessler/6ba317d7828f21aa2067abd006e869d3/execroot/bark_project/bazel-out/k8-fastbuild/bin/docs/tutorials/run.runfiles/bark_project/bark/runtime/viewer/matplotlib_viewer.py:49: MatplotlibDeprecationWarning: Case-insensitive properties were deprecated in 3.3 and support will be removed two minor releases later\n",
      "  linewidth=linewidth)\n",
      "/home/kessler/.cache/bazel/_bazel_kessler/6ba317d7828f21aa2067abd006e869d3/execroot/bark_project/bazel-out/k8-fastbuild/bin/docs/tutorials/run.runfiles/bark_project/bark/runtime/viewer/matplotlib_viewer.py:49: MatplotlibDeprecationWarning: Case-insensitive properties were deprecated in 3.3 and support will be removed two minor releases later\n",
      "  linewidth=linewidth)\n",
      "/home/kessler/.cache/bazel/_bazel_kessler/6ba317d7828f21aa2067abd006e869d3/execroot/bark_project/bazel-out/k8-fastbuild/bin/docs/tutorials/run.runfiles/bark_project/bark/runtime/viewer/matplotlib_viewer.py:49: MatplotlibDeprecationWarning: Case-insensitive properties were deprecated in 3.3 and support will be removed two minor releases later\n",
      "  linewidth=linewidth)\n",
      "/home/kessler/.cache/bazel/_bazel_kessler/6ba317d7828f21aa2067abd006e869d3/execroot/bark_project/bazel-out/k8-fastbuild/bin/docs/tutorials/run.runfiles/bark_project/bark/runtime/viewer/matplotlib_viewer.py:49: MatplotlibDeprecationWarning: Case-insensitive properties were deprecated in 3.3 and support will be removed two minor releases later\n",
      "  linewidth=linewidth)\n",
      "/home/kessler/.cache/bazel/_bazel_kessler/6ba317d7828f21aa2067abd006e869d3/execroot/bark_project/bazel-out/k8-fastbuild/bin/docs/tutorials/run.runfiles/bark_project/bark/runtime/viewer/matplotlib_viewer.py:49: MatplotlibDeprecationWarning: Case-insensitive properties were deprecated in 3.3 and support will be removed two minor releases later\n",
      "  linewidth=linewidth)\n",
      "/home/kessler/.cache/bazel/_bazel_kessler/6ba317d7828f21aa2067abd006e869d3/execroot/bark_project/bazel-out/k8-fastbuild/bin/docs/tutorials/run.runfiles/bark_project/bark/runtime/viewer/matplotlib_viewer.py:127: UserWarning: Matplotlib is currently using agg, which is a non-GUI backend, so cannot show the figure.\n",
      "  plt.pause(0.001)\n",
      "/home/kessler/.cache/bazel/_bazel_kessler/6ba317d7828f21aa2067abd006e869d3/execroot/bark_project/bazel-out/k8-fastbuild/bin/docs/tutorials/run.runfiles/bark_project/bark/runtime/viewer/matplotlib_viewer.py:49: MatplotlibDeprecationWarning: Case-insensitive properties were deprecated in 3.3 and support will be removed two minor releases later\n",
      "  linewidth=linewidth)\n",
      "/home/kessler/.cache/bazel/_bazel_kessler/6ba317d7828f21aa2067abd006e869d3/execroot/bark_project/bazel-out/k8-fastbuild/bin/docs/tutorials/run.runfiles/bark_project/bark/runtime/viewer/matplotlib_viewer.py:49: MatplotlibDeprecationWarning: Case-insensitive properties were deprecated in 3.3 and support will be removed two minor releases later\n",
      "  linewidth=linewidth)\n",
      "/home/kessler/.cache/bazel/_bazel_kessler/6ba317d7828f21aa2067abd006e869d3/execroot/bark_project/bazel-out/k8-fastbuild/bin/docs/tutorials/run.runfiles/bark_project/bark/runtime/viewer/matplotlib_viewer.py:49: MatplotlibDeprecationWarning: Case-insensitive properties were deprecated in 3.3 and support will be removed two minor releases later\n",
      "  linewidth=linewidth)\n",
      "/home/kessler/.cache/bazel/_bazel_kessler/6ba317d7828f21aa2067abd006e869d3/execroot/bark_project/bazel-out/k8-fastbuild/bin/docs/tutorials/run.runfiles/bark_project/bark/runtime/viewer/matplotlib_viewer.py:49: MatplotlibDeprecationWarning: Case-insensitive properties were deprecated in 3.3 and support will be removed two minor releases later\n",
      "  linewidth=linewidth)\n",
      "/home/kessler/.cache/bazel/_bazel_kessler/6ba317d7828f21aa2067abd006e869d3/execroot/bark_project/bazel-out/k8-fastbuild/bin/docs/tutorials/run.runfiles/bark_project/bark/runtime/viewer/matplotlib_viewer.py:49: MatplotlibDeprecationWarning: Case-insensitive properties were deprecated in 3.3 and support will be removed two minor releases later\n",
      "  linewidth=linewidth)\n",
      "/home/kessler/.cache/bazel/_bazel_kessler/6ba317d7828f21aa2067abd006e869d3/execroot/bark_project/bazel-out/k8-fastbuild/bin/docs/tutorials/run.runfiles/bark_project/bark/runtime/viewer/matplotlib_viewer.py:49: MatplotlibDeprecationWarning: Case-insensitive properties were deprecated in 3.3 and support will be removed two minor releases later\n",
      "  linewidth=linewidth)\n",
      "/home/kessler/.cache/bazel/_bazel_kessler/6ba317d7828f21aa2067abd006e869d3/execroot/bark_project/bazel-out/k8-fastbuild/bin/docs/tutorials/run.runfiles/bark_project/bark/runtime/viewer/matplotlib_viewer.py:49: MatplotlibDeprecationWarning: Case-insensitive properties were deprecated in 3.3 and support will be removed two minor releases later\n",
      "  linewidth=linewidth)\n",
      "/home/kessler/.cache/bazel/_bazel_kessler/6ba317d7828f21aa2067abd006e869d3/execroot/bark_project/bazel-out/k8-fastbuild/bin/docs/tutorials/run.runfiles/bark_project/bark/runtime/viewer/matplotlib_viewer.py:49: MatplotlibDeprecationWarning: Case-insensitive properties were deprecated in 3.3 and support will be removed two minor releases later\n",
      "  linewidth=linewidth)\n",
      "/home/kessler/.cache/bazel/_bazel_kessler/6ba317d7828f21aa2067abd006e869d3/execroot/bark_project/bazel-out/k8-fastbuild/bin/docs/tutorials/run.runfiles/bark_project/bark/runtime/viewer/matplotlib_viewer.py:49: MatplotlibDeprecationWarning: Case-insensitive properties were deprecated in 3.3 and support will be removed two minor releases later\n",
      "  linewidth=linewidth)\n",
      "/home/kessler/.cache/bazel/_bazel_kessler/6ba317d7828f21aa2067abd006e869d3/execroot/bark_project/bazel-out/k8-fastbuild/bin/docs/tutorials/run.runfiles/bark_project/bark/runtime/viewer/matplotlib_viewer.py:127: UserWarning: Matplotlib is currently using agg, which is a non-GUI backend, so cannot show the figure.\n",
      "  plt.pause(0.001)\n",
      "/home/kessler/.cache/bazel/_bazel_kessler/6ba317d7828f21aa2067abd006e869d3/execroot/bark_project/bazel-out/k8-fastbuild/bin/docs/tutorials/run.runfiles/bark_project/bark/runtime/viewer/matplotlib_viewer.py:49: MatplotlibDeprecationWarning: Case-insensitive properties were deprecated in 3.3 and support will be removed two minor releases later\n",
      "  linewidth=linewidth)\n",
      "/home/kessler/.cache/bazel/_bazel_kessler/6ba317d7828f21aa2067abd006e869d3/execroot/bark_project/bazel-out/k8-fastbuild/bin/docs/tutorials/run.runfiles/bark_project/bark/runtime/viewer/matplotlib_viewer.py:49: MatplotlibDeprecationWarning: Case-insensitive properties were deprecated in 3.3 and support will be removed two minor releases later\n",
      "  linewidth=linewidth)\n",
      "/home/kessler/.cache/bazel/_bazel_kessler/6ba317d7828f21aa2067abd006e869d3/execroot/bark_project/bazel-out/k8-fastbuild/bin/docs/tutorials/run.runfiles/bark_project/bark/runtime/viewer/matplotlib_viewer.py:49: MatplotlibDeprecationWarning: Case-insensitive properties were deprecated in 3.3 and support will be removed two minor releases later\n",
      "  linewidth=linewidth)\n",
      "/home/kessler/.cache/bazel/_bazel_kessler/6ba317d7828f21aa2067abd006e869d3/execroot/bark_project/bazel-out/k8-fastbuild/bin/docs/tutorials/run.runfiles/bark_project/bark/runtime/viewer/matplotlib_viewer.py:49: MatplotlibDeprecationWarning: Case-insensitive properties were deprecated in 3.3 and support will be removed two minor releases later\n",
      "  linewidth=linewidth)\n",
      "/home/kessler/.cache/bazel/_bazel_kessler/6ba317d7828f21aa2067abd006e869d3/execroot/bark_project/bazel-out/k8-fastbuild/bin/docs/tutorials/run.runfiles/bark_project/bark/runtime/viewer/matplotlib_viewer.py:49: MatplotlibDeprecationWarning: Case-insensitive properties were deprecated in 3.3 and support will be removed two minor releases later\n",
      "  linewidth=linewidth)\n",
      "/home/kessler/.cache/bazel/_bazel_kessler/6ba317d7828f21aa2067abd006e869d3/execroot/bark_project/bazel-out/k8-fastbuild/bin/docs/tutorials/run.runfiles/bark_project/bark/runtime/viewer/matplotlib_viewer.py:49: MatplotlibDeprecationWarning: Case-insensitive properties were deprecated in 3.3 and support will be removed two minor releases later\n",
      "  linewidth=linewidth)\n",
      "/home/kessler/.cache/bazel/_bazel_kessler/6ba317d7828f21aa2067abd006e869d3/execroot/bark_project/bazel-out/k8-fastbuild/bin/docs/tutorials/run.runfiles/bark_project/bark/runtime/viewer/matplotlib_viewer.py:49: MatplotlibDeprecationWarning: Case-insensitive properties were deprecated in 3.3 and support will be removed two minor releases later\n",
      "  linewidth=linewidth)\n",
      "/home/kessler/.cache/bazel/_bazel_kessler/6ba317d7828f21aa2067abd006e869d3/execroot/bark_project/bazel-out/k8-fastbuild/bin/docs/tutorials/run.runfiles/bark_project/bark/runtime/viewer/matplotlib_viewer.py:49: MatplotlibDeprecationWarning: Case-insensitive properties were deprecated in 3.3 and support will be removed two minor releases later\n",
      "  linewidth=linewidth)\n",
      "/home/kessler/.cache/bazel/_bazel_kessler/6ba317d7828f21aa2067abd006e869d3/execroot/bark_project/bazel-out/k8-fastbuild/bin/docs/tutorials/run.runfiles/bark_project/bark/runtime/viewer/matplotlib_viewer.py:49: MatplotlibDeprecationWarning: Case-insensitive properties were deprecated in 3.3 and support will be removed two minor releases later\n",
      "  linewidth=linewidth)\n",
      "/home/kessler/.cache/bazel/_bazel_kessler/6ba317d7828f21aa2067abd006e869d3/execroot/bark_project/bazel-out/k8-fastbuild/bin/docs/tutorials/run.runfiles/bark_project/bark/runtime/viewer/matplotlib_viewer.py:127: UserWarning: Matplotlib is currently using agg, which is a non-GUI backend, so cannot show the figure.\n",
      "  plt.pause(0.001)\n"
     ]
    },
    {
     "name": "stderr",
     "output_type": "stream",
     "text": [
      "/home/kessler/.cache/bazel/_bazel_kessler/6ba317d7828f21aa2067abd006e869d3/execroot/bark_project/bazel-out/k8-fastbuild/bin/docs/tutorials/run.runfiles/bark_project/bark/runtime/viewer/matplotlib_viewer.py:49: MatplotlibDeprecationWarning: Case-insensitive properties were deprecated in 3.3 and support will be removed two minor releases later\n",
      "  linewidth=linewidth)\n",
      "/home/kessler/.cache/bazel/_bazel_kessler/6ba317d7828f21aa2067abd006e869d3/execroot/bark_project/bazel-out/k8-fastbuild/bin/docs/tutorials/run.runfiles/bark_project/bark/runtime/viewer/matplotlib_viewer.py:49: MatplotlibDeprecationWarning: Case-insensitive properties were deprecated in 3.3 and support will be removed two minor releases later\n",
      "  linewidth=linewidth)\n",
      "/home/kessler/.cache/bazel/_bazel_kessler/6ba317d7828f21aa2067abd006e869d3/execroot/bark_project/bazel-out/k8-fastbuild/bin/docs/tutorials/run.runfiles/bark_project/bark/runtime/viewer/matplotlib_viewer.py:49: MatplotlibDeprecationWarning: Case-insensitive properties were deprecated in 3.3 and support will be removed two minor releases later\n",
      "  linewidth=linewidth)\n",
      "/home/kessler/.cache/bazel/_bazel_kessler/6ba317d7828f21aa2067abd006e869d3/execroot/bark_project/bazel-out/k8-fastbuild/bin/docs/tutorials/run.runfiles/bark_project/bark/runtime/viewer/matplotlib_viewer.py:49: MatplotlibDeprecationWarning: Case-insensitive properties were deprecated in 3.3 and support will be removed two minor releases later\n",
      "  linewidth=linewidth)\n",
      "/home/kessler/.cache/bazel/_bazel_kessler/6ba317d7828f21aa2067abd006e869d3/execroot/bark_project/bazel-out/k8-fastbuild/bin/docs/tutorials/run.runfiles/bark_project/bark/runtime/viewer/matplotlib_viewer.py:49: MatplotlibDeprecationWarning: Case-insensitive properties were deprecated in 3.3 and support will be removed two minor releases later\n",
      "  linewidth=linewidth)\n",
      "/home/kessler/.cache/bazel/_bazel_kessler/6ba317d7828f21aa2067abd006e869d3/execroot/bark_project/bazel-out/k8-fastbuild/bin/docs/tutorials/run.runfiles/bark_project/bark/runtime/viewer/matplotlib_viewer.py:49: MatplotlibDeprecationWarning: Case-insensitive properties were deprecated in 3.3 and support will be removed two minor releases later\n",
      "  linewidth=linewidth)\n",
      "/home/kessler/.cache/bazel/_bazel_kessler/6ba317d7828f21aa2067abd006e869d3/execroot/bark_project/bazel-out/k8-fastbuild/bin/docs/tutorials/run.runfiles/bark_project/bark/runtime/viewer/matplotlib_viewer.py:49: MatplotlibDeprecationWarning: Case-insensitive properties were deprecated in 3.3 and support will be removed two minor releases later\n",
      "  linewidth=linewidth)\n",
      "/home/kessler/.cache/bazel/_bazel_kessler/6ba317d7828f21aa2067abd006e869d3/execroot/bark_project/bazel-out/k8-fastbuild/bin/docs/tutorials/run.runfiles/bark_project/bark/runtime/viewer/matplotlib_viewer.py:49: MatplotlibDeprecationWarning: Case-insensitive properties were deprecated in 3.3 and support will be removed two minor releases later\n",
      "  linewidth=linewidth)\n",
      "/home/kessler/.cache/bazel/_bazel_kessler/6ba317d7828f21aa2067abd006e869d3/execroot/bark_project/bazel-out/k8-fastbuild/bin/docs/tutorials/run.runfiles/bark_project/bark/runtime/viewer/matplotlib_viewer.py:49: MatplotlibDeprecationWarning: Case-insensitive properties were deprecated in 3.3 and support will be removed two minor releases later\n",
      "  linewidth=linewidth)\n",
      "/home/kessler/.cache/bazel/_bazel_kessler/6ba317d7828f21aa2067abd006e869d3/execroot/bark_project/bazel-out/k8-fastbuild/bin/docs/tutorials/run.runfiles/bark_project/bark/runtime/viewer/matplotlib_viewer.py:127: UserWarning: Matplotlib is currently using agg, which is a non-GUI backend, so cannot show the figure.\n",
      "  plt.pause(0.001)\n",
      "/home/kessler/.cache/bazel/_bazel_kessler/6ba317d7828f21aa2067abd006e869d3/execroot/bark_project/bazel-out/k8-fastbuild/bin/docs/tutorials/run.runfiles/bark_project/bark/runtime/viewer/matplotlib_viewer.py:49: MatplotlibDeprecationWarning: Case-insensitive properties were deprecated in 3.3 and support will be removed two minor releases later\n",
      "  linewidth=linewidth)\n",
      "/home/kessler/.cache/bazel/_bazel_kessler/6ba317d7828f21aa2067abd006e869d3/execroot/bark_project/bazel-out/k8-fastbuild/bin/docs/tutorials/run.runfiles/bark_project/bark/runtime/viewer/matplotlib_viewer.py:49: MatplotlibDeprecationWarning: Case-insensitive properties were deprecated in 3.3 and support will be removed two minor releases later\n",
      "  linewidth=linewidth)\n",
      "/home/kessler/.cache/bazel/_bazel_kessler/6ba317d7828f21aa2067abd006e869d3/execroot/bark_project/bazel-out/k8-fastbuild/bin/docs/tutorials/run.runfiles/bark_project/bark/runtime/viewer/matplotlib_viewer.py:49: MatplotlibDeprecationWarning: Case-insensitive properties were deprecated in 3.3 and support will be removed two minor releases later\n",
      "  linewidth=linewidth)\n",
      "/home/kessler/.cache/bazel/_bazel_kessler/6ba317d7828f21aa2067abd006e869d3/execroot/bark_project/bazel-out/k8-fastbuild/bin/docs/tutorials/run.runfiles/bark_project/bark/runtime/viewer/matplotlib_viewer.py:49: MatplotlibDeprecationWarning: Case-insensitive properties were deprecated in 3.3 and support will be removed two minor releases later\n",
      "  linewidth=linewidth)\n",
      "/home/kessler/.cache/bazel/_bazel_kessler/6ba317d7828f21aa2067abd006e869d3/execroot/bark_project/bazel-out/k8-fastbuild/bin/docs/tutorials/run.runfiles/bark_project/bark/runtime/viewer/matplotlib_viewer.py:49: MatplotlibDeprecationWarning: Case-insensitive properties were deprecated in 3.3 and support will be removed two minor releases later\n",
      "  linewidth=linewidth)\n",
      "/home/kessler/.cache/bazel/_bazel_kessler/6ba317d7828f21aa2067abd006e869d3/execroot/bark_project/bazel-out/k8-fastbuild/bin/docs/tutorials/run.runfiles/bark_project/bark/runtime/viewer/matplotlib_viewer.py:49: MatplotlibDeprecationWarning: Case-insensitive properties were deprecated in 3.3 and support will be removed two minor releases later\n",
      "  linewidth=linewidth)\n",
      "/home/kessler/.cache/bazel/_bazel_kessler/6ba317d7828f21aa2067abd006e869d3/execroot/bark_project/bazel-out/k8-fastbuild/bin/docs/tutorials/run.runfiles/bark_project/bark/runtime/viewer/matplotlib_viewer.py:49: MatplotlibDeprecationWarning: Case-insensitive properties were deprecated in 3.3 and support will be removed two minor releases later\n",
      "  linewidth=linewidth)\n",
      "/home/kessler/.cache/bazel/_bazel_kessler/6ba317d7828f21aa2067abd006e869d3/execroot/bark_project/bazel-out/k8-fastbuild/bin/docs/tutorials/run.runfiles/bark_project/bark/runtime/viewer/matplotlib_viewer.py:49: MatplotlibDeprecationWarning: Case-insensitive properties were deprecated in 3.3 and support will be removed two minor releases later\n",
      "  linewidth=linewidth)\n",
      "/home/kessler/.cache/bazel/_bazel_kessler/6ba317d7828f21aa2067abd006e869d3/execroot/bark_project/bazel-out/k8-fastbuild/bin/docs/tutorials/run.runfiles/bark_project/bark/runtime/viewer/matplotlib_viewer.py:49: MatplotlibDeprecationWarning: Case-insensitive properties were deprecated in 3.3 and support will be removed two minor releases later\n",
      "  linewidth=linewidth)\n",
      "/home/kessler/.cache/bazel/_bazel_kessler/6ba317d7828f21aa2067abd006e869d3/execroot/bark_project/bazel-out/k8-fastbuild/bin/docs/tutorials/run.runfiles/bark_project/bark/runtime/viewer/matplotlib_viewer.py:127: UserWarning: Matplotlib is currently using agg, which is a non-GUI backend, so cannot show the figure.\n",
      "  plt.pause(0.001)\n",
      "/home/kessler/.cache/bazel/_bazel_kessler/6ba317d7828f21aa2067abd006e869d3/execroot/bark_project/bazel-out/k8-fastbuild/bin/docs/tutorials/run.runfiles/bark_project/bark/runtime/viewer/matplotlib_viewer.py:49: MatplotlibDeprecationWarning: Case-insensitive properties were deprecated in 3.3 and support will be removed two minor releases later\n",
      "  linewidth=linewidth)\n",
      "/home/kessler/.cache/bazel/_bazel_kessler/6ba317d7828f21aa2067abd006e869d3/execroot/bark_project/bazel-out/k8-fastbuild/bin/docs/tutorials/run.runfiles/bark_project/bark/runtime/viewer/matplotlib_viewer.py:49: MatplotlibDeprecationWarning: Case-insensitive properties were deprecated in 3.3 and support will be removed two minor releases later\n",
      "  linewidth=linewidth)\n",
      "/home/kessler/.cache/bazel/_bazel_kessler/6ba317d7828f21aa2067abd006e869d3/execroot/bark_project/bazel-out/k8-fastbuild/bin/docs/tutorials/run.runfiles/bark_project/bark/runtime/viewer/matplotlib_viewer.py:49: MatplotlibDeprecationWarning: Case-insensitive properties were deprecated in 3.3 and support will be removed two minor releases later\n",
      "  linewidth=linewidth)\n",
      "/home/kessler/.cache/bazel/_bazel_kessler/6ba317d7828f21aa2067abd006e869d3/execroot/bark_project/bazel-out/k8-fastbuild/bin/docs/tutorials/run.runfiles/bark_project/bark/runtime/viewer/matplotlib_viewer.py:49: MatplotlibDeprecationWarning: Case-insensitive properties were deprecated in 3.3 and support will be removed two minor releases later\n",
      "  linewidth=linewidth)\n",
      "/home/kessler/.cache/bazel/_bazel_kessler/6ba317d7828f21aa2067abd006e869d3/execroot/bark_project/bazel-out/k8-fastbuild/bin/docs/tutorials/run.runfiles/bark_project/bark/runtime/viewer/matplotlib_viewer.py:49: MatplotlibDeprecationWarning: Case-insensitive properties were deprecated in 3.3 and support will be removed two minor releases later\n",
      "  linewidth=linewidth)\n",
      "/home/kessler/.cache/bazel/_bazel_kessler/6ba317d7828f21aa2067abd006e869d3/execroot/bark_project/bazel-out/k8-fastbuild/bin/docs/tutorials/run.runfiles/bark_project/bark/runtime/viewer/matplotlib_viewer.py:49: MatplotlibDeprecationWarning: Case-insensitive properties were deprecated in 3.3 and support will be removed two minor releases later\n",
      "  linewidth=linewidth)\n",
      "/home/kessler/.cache/bazel/_bazel_kessler/6ba317d7828f21aa2067abd006e869d3/execroot/bark_project/bazel-out/k8-fastbuild/bin/docs/tutorials/run.runfiles/bark_project/bark/runtime/viewer/matplotlib_viewer.py:49: MatplotlibDeprecationWarning: Case-insensitive properties were deprecated in 3.3 and support will be removed two minor releases later\n",
      "  linewidth=linewidth)\n",
      "/home/kessler/.cache/bazel/_bazel_kessler/6ba317d7828f21aa2067abd006e869d3/execroot/bark_project/bazel-out/k8-fastbuild/bin/docs/tutorials/run.runfiles/bark_project/bark/runtime/viewer/matplotlib_viewer.py:49: MatplotlibDeprecationWarning: Case-insensitive properties were deprecated in 3.3 and support will be removed two minor releases later\n",
      "  linewidth=linewidth)\n",
      "/home/kessler/.cache/bazel/_bazel_kessler/6ba317d7828f21aa2067abd006e869d3/execroot/bark_project/bazel-out/k8-fastbuild/bin/docs/tutorials/run.runfiles/bark_project/bark/runtime/viewer/matplotlib_viewer.py:49: MatplotlibDeprecationWarning: Case-insensitive properties were deprecated in 3.3 and support will be removed two minor releases later\n",
      "  linewidth=linewidth)\n",
      "/home/kessler/.cache/bazel/_bazel_kessler/6ba317d7828f21aa2067abd006e869d3/execroot/bark_project/bazel-out/k8-fastbuild/bin/docs/tutorials/run.runfiles/bark_project/bark/runtime/viewer/matplotlib_viewer.py:127: UserWarning: Matplotlib is currently using agg, which is a non-GUI backend, so cannot show the figure.\n",
      "  plt.pause(0.001)\n"
     ]
    },
    {
     "name": "stderr",
     "output_type": "stream",
     "text": [
      "/home/kessler/.cache/bazel/_bazel_kessler/6ba317d7828f21aa2067abd006e869d3/execroot/bark_project/bazel-out/k8-fastbuild/bin/docs/tutorials/run.runfiles/bark_project/bark/runtime/viewer/matplotlib_viewer.py:49: MatplotlibDeprecationWarning: Case-insensitive properties were deprecated in 3.3 and support will be removed two minor releases later\n",
      "  linewidth=linewidth)\n",
      "/home/kessler/.cache/bazel/_bazel_kessler/6ba317d7828f21aa2067abd006e869d3/execroot/bark_project/bazel-out/k8-fastbuild/bin/docs/tutorials/run.runfiles/bark_project/bark/runtime/viewer/matplotlib_viewer.py:49: MatplotlibDeprecationWarning: Case-insensitive properties were deprecated in 3.3 and support will be removed two minor releases later\n",
      "  linewidth=linewidth)\n",
      "/home/kessler/.cache/bazel/_bazel_kessler/6ba317d7828f21aa2067abd006e869d3/execroot/bark_project/bazel-out/k8-fastbuild/bin/docs/tutorials/run.runfiles/bark_project/bark/runtime/viewer/matplotlib_viewer.py:49: MatplotlibDeprecationWarning: Case-insensitive properties were deprecated in 3.3 and support will be removed two minor releases later\n",
      "  linewidth=linewidth)\n",
      "/home/kessler/.cache/bazel/_bazel_kessler/6ba317d7828f21aa2067abd006e869d3/execroot/bark_project/bazel-out/k8-fastbuild/bin/docs/tutorials/run.runfiles/bark_project/bark/runtime/viewer/matplotlib_viewer.py:49: MatplotlibDeprecationWarning: Case-insensitive properties were deprecated in 3.3 and support will be removed two minor releases later\n",
      "  linewidth=linewidth)\n",
      "/home/kessler/.cache/bazel/_bazel_kessler/6ba317d7828f21aa2067abd006e869d3/execroot/bark_project/bazel-out/k8-fastbuild/bin/docs/tutorials/run.runfiles/bark_project/bark/runtime/viewer/matplotlib_viewer.py:49: MatplotlibDeprecationWarning: Case-insensitive properties were deprecated in 3.3 and support will be removed two minor releases later\n",
      "  linewidth=linewidth)\n",
      "/home/kessler/.cache/bazel/_bazel_kessler/6ba317d7828f21aa2067abd006e869d3/execroot/bark_project/bazel-out/k8-fastbuild/bin/docs/tutorials/run.runfiles/bark_project/bark/runtime/viewer/matplotlib_viewer.py:49: MatplotlibDeprecationWarning: Case-insensitive properties were deprecated in 3.3 and support will be removed two minor releases later\n",
      "  linewidth=linewidth)\n",
      "/home/kessler/.cache/bazel/_bazel_kessler/6ba317d7828f21aa2067abd006e869d3/execroot/bark_project/bazel-out/k8-fastbuild/bin/docs/tutorials/run.runfiles/bark_project/bark/runtime/viewer/matplotlib_viewer.py:49: MatplotlibDeprecationWarning: Case-insensitive properties were deprecated in 3.3 and support will be removed two minor releases later\n",
      "  linewidth=linewidth)\n",
      "/home/kessler/.cache/bazel/_bazel_kessler/6ba317d7828f21aa2067abd006e869d3/execroot/bark_project/bazel-out/k8-fastbuild/bin/docs/tutorials/run.runfiles/bark_project/bark/runtime/viewer/matplotlib_viewer.py:49: MatplotlibDeprecationWarning: Case-insensitive properties were deprecated in 3.3 and support will be removed two minor releases later\n",
      "  linewidth=linewidth)\n",
      "/home/kessler/.cache/bazel/_bazel_kessler/6ba317d7828f21aa2067abd006e869d3/execroot/bark_project/bazel-out/k8-fastbuild/bin/docs/tutorials/run.runfiles/bark_project/bark/runtime/viewer/matplotlib_viewer.py:49: MatplotlibDeprecationWarning: Case-insensitive properties were deprecated in 3.3 and support will be removed two minor releases later\n",
      "  linewidth=linewidth)\n",
      "/home/kessler/.cache/bazel/_bazel_kessler/6ba317d7828f21aa2067abd006e869d3/execroot/bark_project/bazel-out/k8-fastbuild/bin/docs/tutorials/run.runfiles/bark_project/bark/runtime/viewer/matplotlib_viewer.py:127: UserWarning: Matplotlib is currently using agg, which is a non-GUI backend, so cannot show the figure.\n",
      "  plt.pause(0.001)\n",
      "/home/kessler/.cache/bazel/_bazel_kessler/6ba317d7828f21aa2067abd006e869d3/execroot/bark_project/bazel-out/k8-fastbuild/bin/docs/tutorials/run.runfiles/bark_project/bark/runtime/viewer/matplotlib_viewer.py:49: MatplotlibDeprecationWarning: Case-insensitive properties were deprecated in 3.3 and support will be removed two minor releases later\n",
      "  linewidth=linewidth)\n",
      "/home/kessler/.cache/bazel/_bazel_kessler/6ba317d7828f21aa2067abd006e869d3/execroot/bark_project/bazel-out/k8-fastbuild/bin/docs/tutorials/run.runfiles/bark_project/bark/runtime/viewer/matplotlib_viewer.py:49: MatplotlibDeprecationWarning: Case-insensitive properties were deprecated in 3.3 and support will be removed two minor releases later\n",
      "  linewidth=linewidth)\n",
      "/home/kessler/.cache/bazel/_bazel_kessler/6ba317d7828f21aa2067abd006e869d3/execroot/bark_project/bazel-out/k8-fastbuild/bin/docs/tutorials/run.runfiles/bark_project/bark/runtime/viewer/matplotlib_viewer.py:49: MatplotlibDeprecationWarning: Case-insensitive properties were deprecated in 3.3 and support will be removed two minor releases later\n",
      "  linewidth=linewidth)\n",
      "/home/kessler/.cache/bazel/_bazel_kessler/6ba317d7828f21aa2067abd006e869d3/execroot/bark_project/bazel-out/k8-fastbuild/bin/docs/tutorials/run.runfiles/bark_project/bark/runtime/viewer/matplotlib_viewer.py:49: MatplotlibDeprecationWarning: Case-insensitive properties were deprecated in 3.3 and support will be removed two minor releases later\n",
      "  linewidth=linewidth)\n",
      "/home/kessler/.cache/bazel/_bazel_kessler/6ba317d7828f21aa2067abd006e869d3/execroot/bark_project/bazel-out/k8-fastbuild/bin/docs/tutorials/run.runfiles/bark_project/bark/runtime/viewer/matplotlib_viewer.py:49: MatplotlibDeprecationWarning: Case-insensitive properties were deprecated in 3.3 and support will be removed two minor releases later\n",
      "  linewidth=linewidth)\n",
      "/home/kessler/.cache/bazel/_bazel_kessler/6ba317d7828f21aa2067abd006e869d3/execroot/bark_project/bazel-out/k8-fastbuild/bin/docs/tutorials/run.runfiles/bark_project/bark/runtime/viewer/matplotlib_viewer.py:49: MatplotlibDeprecationWarning: Case-insensitive properties were deprecated in 3.3 and support will be removed two minor releases later\n",
      "  linewidth=linewidth)\n",
      "/home/kessler/.cache/bazel/_bazel_kessler/6ba317d7828f21aa2067abd006e869d3/execroot/bark_project/bazel-out/k8-fastbuild/bin/docs/tutorials/run.runfiles/bark_project/bark/runtime/viewer/matplotlib_viewer.py:49: MatplotlibDeprecationWarning: Case-insensitive properties were deprecated in 3.3 and support will be removed two minor releases later\n",
      "  linewidth=linewidth)\n",
      "/home/kessler/.cache/bazel/_bazel_kessler/6ba317d7828f21aa2067abd006e869d3/execroot/bark_project/bazel-out/k8-fastbuild/bin/docs/tutorials/run.runfiles/bark_project/bark/runtime/viewer/matplotlib_viewer.py:49: MatplotlibDeprecationWarning: Case-insensitive properties were deprecated in 3.3 and support will be removed two minor releases later\n",
      "  linewidth=linewidth)\n",
      "/home/kessler/.cache/bazel/_bazel_kessler/6ba317d7828f21aa2067abd006e869d3/execroot/bark_project/bazel-out/k8-fastbuild/bin/docs/tutorials/run.runfiles/bark_project/bark/runtime/viewer/matplotlib_viewer.py:49: MatplotlibDeprecationWarning: Case-insensitive properties were deprecated in 3.3 and support will be removed two minor releases later\n",
      "  linewidth=linewidth)\n",
      "/home/kessler/.cache/bazel/_bazel_kessler/6ba317d7828f21aa2067abd006e869d3/execroot/bark_project/bazel-out/k8-fastbuild/bin/docs/tutorials/run.runfiles/bark_project/bark/runtime/viewer/matplotlib_viewer.py:127: UserWarning: Matplotlib is currently using agg, which is a non-GUI backend, so cannot show the figure.\n",
      "  plt.pause(0.001)\n",
      "/home/kessler/.cache/bazel/_bazel_kessler/6ba317d7828f21aa2067abd006e869d3/execroot/bark_project/bazel-out/k8-fastbuild/bin/docs/tutorials/run.runfiles/bark_project/bark/runtime/viewer/matplotlib_viewer.py:49: MatplotlibDeprecationWarning: Case-insensitive properties were deprecated in 3.3 and support will be removed two minor releases later\n",
      "  linewidth=linewidth)\n",
      "/home/kessler/.cache/bazel/_bazel_kessler/6ba317d7828f21aa2067abd006e869d3/execroot/bark_project/bazel-out/k8-fastbuild/bin/docs/tutorials/run.runfiles/bark_project/bark/runtime/viewer/matplotlib_viewer.py:49: MatplotlibDeprecationWarning: Case-insensitive properties were deprecated in 3.3 and support will be removed two minor releases later\n",
      "  linewidth=linewidth)\n",
      "/home/kessler/.cache/bazel/_bazel_kessler/6ba317d7828f21aa2067abd006e869d3/execroot/bark_project/bazel-out/k8-fastbuild/bin/docs/tutorials/run.runfiles/bark_project/bark/runtime/viewer/matplotlib_viewer.py:49: MatplotlibDeprecationWarning: Case-insensitive properties were deprecated in 3.3 and support will be removed two minor releases later\n",
      "  linewidth=linewidth)\n",
      "/home/kessler/.cache/bazel/_bazel_kessler/6ba317d7828f21aa2067abd006e869d3/execroot/bark_project/bazel-out/k8-fastbuild/bin/docs/tutorials/run.runfiles/bark_project/bark/runtime/viewer/matplotlib_viewer.py:49: MatplotlibDeprecationWarning: Case-insensitive properties were deprecated in 3.3 and support will be removed two minor releases later\n",
      "  linewidth=linewidth)\n",
      "/home/kessler/.cache/bazel/_bazel_kessler/6ba317d7828f21aa2067abd006e869d3/execroot/bark_project/bazel-out/k8-fastbuild/bin/docs/tutorials/run.runfiles/bark_project/bark/runtime/viewer/matplotlib_viewer.py:49: MatplotlibDeprecationWarning: Case-insensitive properties were deprecated in 3.3 and support will be removed two minor releases later\n",
      "  linewidth=linewidth)\n",
      "/home/kessler/.cache/bazel/_bazel_kessler/6ba317d7828f21aa2067abd006e869d3/execroot/bark_project/bazel-out/k8-fastbuild/bin/docs/tutorials/run.runfiles/bark_project/bark/runtime/viewer/matplotlib_viewer.py:49: MatplotlibDeprecationWarning: Case-insensitive properties were deprecated in 3.3 and support will be removed two minor releases later\n",
      "  linewidth=linewidth)\n",
      "/home/kessler/.cache/bazel/_bazel_kessler/6ba317d7828f21aa2067abd006e869d3/execroot/bark_project/bazel-out/k8-fastbuild/bin/docs/tutorials/run.runfiles/bark_project/bark/runtime/viewer/matplotlib_viewer.py:49: MatplotlibDeprecationWarning: Case-insensitive properties were deprecated in 3.3 and support will be removed two minor releases later\n",
      "  linewidth=linewidth)\n",
      "/home/kessler/.cache/bazel/_bazel_kessler/6ba317d7828f21aa2067abd006e869d3/execroot/bark_project/bazel-out/k8-fastbuild/bin/docs/tutorials/run.runfiles/bark_project/bark/runtime/viewer/matplotlib_viewer.py:49: MatplotlibDeprecationWarning: Case-insensitive properties were deprecated in 3.3 and support will be removed two minor releases later\n",
      "  linewidth=linewidth)\n",
      "/home/kessler/.cache/bazel/_bazel_kessler/6ba317d7828f21aa2067abd006e869d3/execroot/bark_project/bazel-out/k8-fastbuild/bin/docs/tutorials/run.runfiles/bark_project/bark/runtime/viewer/matplotlib_viewer.py:49: MatplotlibDeprecationWarning: Case-insensitive properties were deprecated in 3.3 and support will be removed two minor releases later\n",
      "  linewidth=linewidth)\n",
      "/home/kessler/.cache/bazel/_bazel_kessler/6ba317d7828f21aa2067abd006e869d3/execroot/bark_project/bazel-out/k8-fastbuild/bin/docs/tutorials/run.runfiles/bark_project/bark/runtime/viewer/matplotlib_viewer.py:127: UserWarning: Matplotlib is currently using agg, which is a non-GUI backend, so cannot show the figure.\n",
      "  plt.pause(0.001)\n"
     ]
    },
    {
     "name": "stderr",
     "output_type": "stream",
     "text": [
      "/home/kessler/.cache/bazel/_bazel_kessler/6ba317d7828f21aa2067abd006e869d3/execroot/bark_project/bazel-out/k8-fastbuild/bin/docs/tutorials/run.runfiles/bark_project/bark/runtime/viewer/matplotlib_viewer.py:49: MatplotlibDeprecationWarning: Case-insensitive properties were deprecated in 3.3 and support will be removed two minor releases later\n",
      "  linewidth=linewidth)\n",
      "/home/kessler/.cache/bazel/_bazel_kessler/6ba317d7828f21aa2067abd006e869d3/execroot/bark_project/bazel-out/k8-fastbuild/bin/docs/tutorials/run.runfiles/bark_project/bark/runtime/viewer/matplotlib_viewer.py:49: MatplotlibDeprecationWarning: Case-insensitive properties were deprecated in 3.3 and support will be removed two minor releases later\n",
      "  linewidth=linewidth)\n",
      "/home/kessler/.cache/bazel/_bazel_kessler/6ba317d7828f21aa2067abd006e869d3/execroot/bark_project/bazel-out/k8-fastbuild/bin/docs/tutorials/run.runfiles/bark_project/bark/runtime/viewer/matplotlib_viewer.py:49: MatplotlibDeprecationWarning: Case-insensitive properties were deprecated in 3.3 and support will be removed two minor releases later\n",
      "  linewidth=linewidth)\n",
      "/home/kessler/.cache/bazel/_bazel_kessler/6ba317d7828f21aa2067abd006e869d3/execroot/bark_project/bazel-out/k8-fastbuild/bin/docs/tutorials/run.runfiles/bark_project/bark/runtime/viewer/matplotlib_viewer.py:49: MatplotlibDeprecationWarning: Case-insensitive properties were deprecated in 3.3 and support will be removed two minor releases later\n",
      "  linewidth=linewidth)\n",
      "/home/kessler/.cache/bazel/_bazel_kessler/6ba317d7828f21aa2067abd006e869d3/execroot/bark_project/bazel-out/k8-fastbuild/bin/docs/tutorials/run.runfiles/bark_project/bark/runtime/viewer/matplotlib_viewer.py:49: MatplotlibDeprecationWarning: Case-insensitive properties were deprecated in 3.3 and support will be removed two minor releases later\n",
      "  linewidth=linewidth)\n",
      "/home/kessler/.cache/bazel/_bazel_kessler/6ba317d7828f21aa2067abd006e869d3/execroot/bark_project/bazel-out/k8-fastbuild/bin/docs/tutorials/run.runfiles/bark_project/bark/runtime/viewer/matplotlib_viewer.py:49: MatplotlibDeprecationWarning: Case-insensitive properties were deprecated in 3.3 and support will be removed two minor releases later\n",
      "  linewidth=linewidth)\n",
      "/home/kessler/.cache/bazel/_bazel_kessler/6ba317d7828f21aa2067abd006e869d3/execroot/bark_project/bazel-out/k8-fastbuild/bin/docs/tutorials/run.runfiles/bark_project/bark/runtime/viewer/matplotlib_viewer.py:49: MatplotlibDeprecationWarning: Case-insensitive properties were deprecated in 3.3 and support will be removed two minor releases later\n",
      "  linewidth=linewidth)\n",
      "/home/kessler/.cache/bazel/_bazel_kessler/6ba317d7828f21aa2067abd006e869d3/execroot/bark_project/bazel-out/k8-fastbuild/bin/docs/tutorials/run.runfiles/bark_project/bark/runtime/viewer/matplotlib_viewer.py:49: MatplotlibDeprecationWarning: Case-insensitive properties were deprecated in 3.3 and support will be removed two minor releases later\n",
      "  linewidth=linewidth)\n",
      "/home/kessler/.cache/bazel/_bazel_kessler/6ba317d7828f21aa2067abd006e869d3/execroot/bark_project/bazel-out/k8-fastbuild/bin/docs/tutorials/run.runfiles/bark_project/bark/runtime/viewer/matplotlib_viewer.py:49: MatplotlibDeprecationWarning: Case-insensitive properties were deprecated in 3.3 and support will be removed two minor releases later\n",
      "  linewidth=linewidth)\n",
      "/home/kessler/.cache/bazel/_bazel_kessler/6ba317d7828f21aa2067abd006e869d3/execroot/bark_project/bazel-out/k8-fastbuild/bin/docs/tutorials/run.runfiles/bark_project/bark/runtime/viewer/matplotlib_viewer.py:127: UserWarning: Matplotlib is currently using agg, which is a non-GUI backend, so cannot show the figure.\n",
      "  plt.pause(0.001)\n",
      "/home/kessler/.cache/bazel/_bazel_kessler/6ba317d7828f21aa2067abd006e869d3/execroot/bark_project/bazel-out/k8-fastbuild/bin/docs/tutorials/run.runfiles/bark_project/bark/runtime/viewer/matplotlib_viewer.py:49: MatplotlibDeprecationWarning: Case-insensitive properties were deprecated in 3.3 and support will be removed two minor releases later\n",
      "  linewidth=linewidth)\n",
      "/home/kessler/.cache/bazel/_bazel_kessler/6ba317d7828f21aa2067abd006e869d3/execroot/bark_project/bazel-out/k8-fastbuild/bin/docs/tutorials/run.runfiles/bark_project/bark/runtime/viewer/matplotlib_viewer.py:49: MatplotlibDeprecationWarning: Case-insensitive properties were deprecated in 3.3 and support will be removed two minor releases later\n",
      "  linewidth=linewidth)\n",
      "/home/kessler/.cache/bazel/_bazel_kessler/6ba317d7828f21aa2067abd006e869d3/execroot/bark_project/bazel-out/k8-fastbuild/bin/docs/tutorials/run.runfiles/bark_project/bark/runtime/viewer/matplotlib_viewer.py:49: MatplotlibDeprecationWarning: Case-insensitive properties were deprecated in 3.3 and support will be removed two minor releases later\n",
      "  linewidth=linewidth)\n",
      "/home/kessler/.cache/bazel/_bazel_kessler/6ba317d7828f21aa2067abd006e869d3/execroot/bark_project/bazel-out/k8-fastbuild/bin/docs/tutorials/run.runfiles/bark_project/bark/runtime/viewer/matplotlib_viewer.py:49: MatplotlibDeprecationWarning: Case-insensitive properties were deprecated in 3.3 and support will be removed two minor releases later\n",
      "  linewidth=linewidth)\n",
      "/home/kessler/.cache/bazel/_bazel_kessler/6ba317d7828f21aa2067abd006e869d3/execroot/bark_project/bazel-out/k8-fastbuild/bin/docs/tutorials/run.runfiles/bark_project/bark/runtime/viewer/matplotlib_viewer.py:49: MatplotlibDeprecationWarning: Case-insensitive properties were deprecated in 3.3 and support will be removed two minor releases later\n",
      "  linewidth=linewidth)\n",
      "/home/kessler/.cache/bazel/_bazel_kessler/6ba317d7828f21aa2067abd006e869d3/execroot/bark_project/bazel-out/k8-fastbuild/bin/docs/tutorials/run.runfiles/bark_project/bark/runtime/viewer/matplotlib_viewer.py:49: MatplotlibDeprecationWarning: Case-insensitive properties were deprecated in 3.3 and support will be removed two minor releases later\n",
      "  linewidth=linewidth)\n",
      "/home/kessler/.cache/bazel/_bazel_kessler/6ba317d7828f21aa2067abd006e869d3/execroot/bark_project/bazel-out/k8-fastbuild/bin/docs/tutorials/run.runfiles/bark_project/bark/runtime/viewer/matplotlib_viewer.py:49: MatplotlibDeprecationWarning: Case-insensitive properties were deprecated in 3.3 and support will be removed two minor releases later\n",
      "  linewidth=linewidth)\n",
      "/home/kessler/.cache/bazel/_bazel_kessler/6ba317d7828f21aa2067abd006e869d3/execroot/bark_project/bazel-out/k8-fastbuild/bin/docs/tutorials/run.runfiles/bark_project/bark/runtime/viewer/matplotlib_viewer.py:49: MatplotlibDeprecationWarning: Case-insensitive properties were deprecated in 3.3 and support will be removed two minor releases later\n",
      "  linewidth=linewidth)\n",
      "/home/kessler/.cache/bazel/_bazel_kessler/6ba317d7828f21aa2067abd006e869d3/execroot/bark_project/bazel-out/k8-fastbuild/bin/docs/tutorials/run.runfiles/bark_project/bark/runtime/viewer/matplotlib_viewer.py:49: MatplotlibDeprecationWarning: Case-insensitive properties were deprecated in 3.3 and support will be removed two minor releases later\n",
      "  linewidth=linewidth)\n",
      "/home/kessler/.cache/bazel/_bazel_kessler/6ba317d7828f21aa2067abd006e869d3/execroot/bark_project/bazel-out/k8-fastbuild/bin/docs/tutorials/run.runfiles/bark_project/bark/runtime/viewer/matplotlib_viewer.py:127: UserWarning: Matplotlib is currently using agg, which is a non-GUI backend, so cannot show the figure.\n",
      "  plt.pause(0.001)\n",
      "/home/kessler/.cache/bazel/_bazel_kessler/6ba317d7828f21aa2067abd006e869d3/execroot/bark_project/bazel-out/k8-fastbuild/bin/docs/tutorials/run.runfiles/bark_project/bark/runtime/viewer/matplotlib_viewer.py:49: MatplotlibDeprecationWarning: Case-insensitive properties were deprecated in 3.3 and support will be removed two minor releases later\n",
      "  linewidth=linewidth)\n",
      "/home/kessler/.cache/bazel/_bazel_kessler/6ba317d7828f21aa2067abd006e869d3/execroot/bark_project/bazel-out/k8-fastbuild/bin/docs/tutorials/run.runfiles/bark_project/bark/runtime/viewer/matplotlib_viewer.py:49: MatplotlibDeprecationWarning: Case-insensitive properties were deprecated in 3.3 and support will be removed two minor releases later\n",
      "  linewidth=linewidth)\n",
      "/home/kessler/.cache/bazel/_bazel_kessler/6ba317d7828f21aa2067abd006e869d3/execroot/bark_project/bazel-out/k8-fastbuild/bin/docs/tutorials/run.runfiles/bark_project/bark/runtime/viewer/matplotlib_viewer.py:49: MatplotlibDeprecationWarning: Case-insensitive properties were deprecated in 3.3 and support will be removed two minor releases later\n",
      "  linewidth=linewidth)\n",
      "/home/kessler/.cache/bazel/_bazel_kessler/6ba317d7828f21aa2067abd006e869d3/execroot/bark_project/bazel-out/k8-fastbuild/bin/docs/tutorials/run.runfiles/bark_project/bark/runtime/viewer/matplotlib_viewer.py:49: MatplotlibDeprecationWarning: Case-insensitive properties were deprecated in 3.3 and support will be removed two minor releases later\n",
      "  linewidth=linewidth)\n",
      "/home/kessler/.cache/bazel/_bazel_kessler/6ba317d7828f21aa2067abd006e869d3/execroot/bark_project/bazel-out/k8-fastbuild/bin/docs/tutorials/run.runfiles/bark_project/bark/runtime/viewer/matplotlib_viewer.py:49: MatplotlibDeprecationWarning: Case-insensitive properties were deprecated in 3.3 and support will be removed two minor releases later\n",
      "  linewidth=linewidth)\n",
      "/home/kessler/.cache/bazel/_bazel_kessler/6ba317d7828f21aa2067abd006e869d3/execroot/bark_project/bazel-out/k8-fastbuild/bin/docs/tutorials/run.runfiles/bark_project/bark/runtime/viewer/matplotlib_viewer.py:49: MatplotlibDeprecationWarning: Case-insensitive properties were deprecated in 3.3 and support will be removed two minor releases later\n",
      "  linewidth=linewidth)\n",
      "/home/kessler/.cache/bazel/_bazel_kessler/6ba317d7828f21aa2067abd006e869d3/execroot/bark_project/bazel-out/k8-fastbuild/bin/docs/tutorials/run.runfiles/bark_project/bark/runtime/viewer/matplotlib_viewer.py:49: MatplotlibDeprecationWarning: Case-insensitive properties were deprecated in 3.3 and support will be removed two minor releases later\n",
      "  linewidth=linewidth)\n",
      "/home/kessler/.cache/bazel/_bazel_kessler/6ba317d7828f21aa2067abd006e869d3/execroot/bark_project/bazel-out/k8-fastbuild/bin/docs/tutorials/run.runfiles/bark_project/bark/runtime/viewer/matplotlib_viewer.py:49: MatplotlibDeprecationWarning: Case-insensitive properties were deprecated in 3.3 and support will be removed two minor releases later\n",
      "  linewidth=linewidth)\n",
      "/home/kessler/.cache/bazel/_bazel_kessler/6ba317d7828f21aa2067abd006e869d3/execroot/bark_project/bazel-out/k8-fastbuild/bin/docs/tutorials/run.runfiles/bark_project/bark/runtime/viewer/matplotlib_viewer.py:49: MatplotlibDeprecationWarning: Case-insensitive properties were deprecated in 3.3 and support will be removed two minor releases later\n",
      "  linewidth=linewidth)\n",
      "/home/kessler/.cache/bazel/_bazel_kessler/6ba317d7828f21aa2067abd006e869d3/execroot/bark_project/bazel-out/k8-fastbuild/bin/docs/tutorials/run.runfiles/bark_project/bark/runtime/viewer/matplotlib_viewer.py:127: UserWarning: Matplotlib is currently using agg, which is a non-GUI backend, so cannot show the figure.\n",
      "  plt.pause(0.001)\n",
      "/home/kessler/.cache/bazel/_bazel_kessler/6ba317d7828f21aa2067abd006e869d3/execroot/bark_project/bazel-out/k8-fastbuild/bin/docs/tutorials/run.runfiles/bark_project/bark/runtime/viewer/matplotlib_viewer.py:49: MatplotlibDeprecationWarning: Case-insensitive properties were deprecated in 3.3 and support will be removed two minor releases later\n",
      "  linewidth=linewidth)\n",
      "/home/kessler/.cache/bazel/_bazel_kessler/6ba317d7828f21aa2067abd006e869d3/execroot/bark_project/bazel-out/k8-fastbuild/bin/docs/tutorials/run.runfiles/bark_project/bark/runtime/viewer/matplotlib_viewer.py:49: MatplotlibDeprecationWarning: Case-insensitive properties were deprecated in 3.3 and support will be removed two minor releases later\n",
      "  linewidth=linewidth)\n",
      "/home/kessler/.cache/bazel/_bazel_kessler/6ba317d7828f21aa2067abd006e869d3/execroot/bark_project/bazel-out/k8-fastbuild/bin/docs/tutorials/run.runfiles/bark_project/bark/runtime/viewer/matplotlib_viewer.py:49: MatplotlibDeprecationWarning: Case-insensitive properties were deprecated in 3.3 and support will be removed two minor releases later\n",
      "  linewidth=linewidth)\n",
      "/home/kessler/.cache/bazel/_bazel_kessler/6ba317d7828f21aa2067abd006e869d3/execroot/bark_project/bazel-out/k8-fastbuild/bin/docs/tutorials/run.runfiles/bark_project/bark/runtime/viewer/matplotlib_viewer.py:49: MatplotlibDeprecationWarning: Case-insensitive properties were deprecated in 3.3 and support will be removed two minor releases later\n",
      "  linewidth=linewidth)\n",
      "/home/kessler/.cache/bazel/_bazel_kessler/6ba317d7828f21aa2067abd006e869d3/execroot/bark_project/bazel-out/k8-fastbuild/bin/docs/tutorials/run.runfiles/bark_project/bark/runtime/viewer/matplotlib_viewer.py:49: MatplotlibDeprecationWarning: Case-insensitive properties were deprecated in 3.3 and support will be removed two minor releases later\n",
      "  linewidth=linewidth)\n",
      "/home/kessler/.cache/bazel/_bazel_kessler/6ba317d7828f21aa2067abd006e869d3/execroot/bark_project/bazel-out/k8-fastbuild/bin/docs/tutorials/run.runfiles/bark_project/bark/runtime/viewer/matplotlib_viewer.py:49: MatplotlibDeprecationWarning: Case-insensitive properties were deprecated in 3.3 and support will be removed two minor releases later\n",
      "  linewidth=linewidth)\n",
      "/home/kessler/.cache/bazel/_bazel_kessler/6ba317d7828f21aa2067abd006e869d3/execroot/bark_project/bazel-out/k8-fastbuild/bin/docs/tutorials/run.runfiles/bark_project/bark/runtime/viewer/matplotlib_viewer.py:49: MatplotlibDeprecationWarning: Case-insensitive properties were deprecated in 3.3 and support will be removed two minor releases later\n",
      "  linewidth=linewidth)\n",
      "/home/kessler/.cache/bazel/_bazel_kessler/6ba317d7828f21aa2067abd006e869d3/execroot/bark_project/bazel-out/k8-fastbuild/bin/docs/tutorials/run.runfiles/bark_project/bark/runtime/viewer/matplotlib_viewer.py:49: MatplotlibDeprecationWarning: Case-insensitive properties were deprecated in 3.3 and support will be removed two minor releases later\n",
      "  linewidth=linewidth)\n",
      "/home/kessler/.cache/bazel/_bazel_kessler/6ba317d7828f21aa2067abd006e869d3/execroot/bark_project/bazel-out/k8-fastbuild/bin/docs/tutorials/run.runfiles/bark_project/bark/runtime/viewer/matplotlib_viewer.py:49: MatplotlibDeprecationWarning: Case-insensitive properties were deprecated in 3.3 and support will be removed two minor releases later\n",
      "  linewidth=linewidth)\n"
     ]
    },
    {
     "name": "stderr",
     "output_type": "stream",
     "text": [
      "/home/kessler/.cache/bazel/_bazel_kessler/6ba317d7828f21aa2067abd006e869d3/execroot/bark_project/bazel-out/k8-fastbuild/bin/docs/tutorials/run.runfiles/bark_project/bark/runtime/viewer/matplotlib_viewer.py:127: UserWarning: Matplotlib is currently using agg, which is a non-GUI backend, so cannot show the figure.\n",
      "  plt.pause(0.001)\n",
      "/home/kessler/.cache/bazel/_bazel_kessler/6ba317d7828f21aa2067abd006e869d3/execroot/bark_project/bazel-out/k8-fastbuild/bin/docs/tutorials/run.runfiles/bark_project/bark/runtime/viewer/matplotlib_viewer.py:49: MatplotlibDeprecationWarning: Case-insensitive properties were deprecated in 3.3 and support will be removed two minor releases later\n",
      "  linewidth=linewidth)\n",
      "/home/kessler/.cache/bazel/_bazel_kessler/6ba317d7828f21aa2067abd006e869d3/execroot/bark_project/bazel-out/k8-fastbuild/bin/docs/tutorials/run.runfiles/bark_project/bark/runtime/viewer/matplotlib_viewer.py:49: MatplotlibDeprecationWarning: Case-insensitive properties were deprecated in 3.3 and support will be removed two minor releases later\n",
      "  linewidth=linewidth)\n",
      "/home/kessler/.cache/bazel/_bazel_kessler/6ba317d7828f21aa2067abd006e869d3/execroot/bark_project/bazel-out/k8-fastbuild/bin/docs/tutorials/run.runfiles/bark_project/bark/runtime/viewer/matplotlib_viewer.py:49: MatplotlibDeprecationWarning: Case-insensitive properties were deprecated in 3.3 and support will be removed two minor releases later\n",
      "  linewidth=linewidth)\n",
      "/home/kessler/.cache/bazel/_bazel_kessler/6ba317d7828f21aa2067abd006e869d3/execroot/bark_project/bazel-out/k8-fastbuild/bin/docs/tutorials/run.runfiles/bark_project/bark/runtime/viewer/matplotlib_viewer.py:49: MatplotlibDeprecationWarning: Case-insensitive properties were deprecated in 3.3 and support will be removed two minor releases later\n",
      "  linewidth=linewidth)\n",
      "/home/kessler/.cache/bazel/_bazel_kessler/6ba317d7828f21aa2067abd006e869d3/execroot/bark_project/bazel-out/k8-fastbuild/bin/docs/tutorials/run.runfiles/bark_project/bark/runtime/viewer/matplotlib_viewer.py:49: MatplotlibDeprecationWarning: Case-insensitive properties were deprecated in 3.3 and support will be removed two minor releases later\n",
      "  linewidth=linewidth)\n",
      "/home/kessler/.cache/bazel/_bazel_kessler/6ba317d7828f21aa2067abd006e869d3/execroot/bark_project/bazel-out/k8-fastbuild/bin/docs/tutorials/run.runfiles/bark_project/bark/runtime/viewer/matplotlib_viewer.py:49: MatplotlibDeprecationWarning: Case-insensitive properties were deprecated in 3.3 and support will be removed two minor releases later\n",
      "  linewidth=linewidth)\n",
      "/home/kessler/.cache/bazel/_bazel_kessler/6ba317d7828f21aa2067abd006e869d3/execroot/bark_project/bazel-out/k8-fastbuild/bin/docs/tutorials/run.runfiles/bark_project/bark/runtime/viewer/matplotlib_viewer.py:49: MatplotlibDeprecationWarning: Case-insensitive properties were deprecated in 3.3 and support will be removed two minor releases later\n",
      "  linewidth=linewidth)\n",
      "/home/kessler/.cache/bazel/_bazel_kessler/6ba317d7828f21aa2067abd006e869d3/execroot/bark_project/bazel-out/k8-fastbuild/bin/docs/tutorials/run.runfiles/bark_project/bark/runtime/viewer/matplotlib_viewer.py:49: MatplotlibDeprecationWarning: Case-insensitive properties were deprecated in 3.3 and support will be removed two minor releases later\n",
      "  linewidth=linewidth)\n",
      "/home/kessler/.cache/bazel/_bazel_kessler/6ba317d7828f21aa2067abd006e869d3/execroot/bark_project/bazel-out/k8-fastbuild/bin/docs/tutorials/run.runfiles/bark_project/bark/runtime/viewer/matplotlib_viewer.py:49: MatplotlibDeprecationWarning: Case-insensitive properties were deprecated in 3.3 and support will be removed two minor releases later\n",
      "  linewidth=linewidth)\n",
      "/home/kessler/.cache/bazel/_bazel_kessler/6ba317d7828f21aa2067abd006e869d3/execroot/bark_project/bazel-out/k8-fastbuild/bin/docs/tutorials/run.runfiles/bark_project/bark/runtime/viewer/matplotlib_viewer.py:127: UserWarning: Matplotlib is currently using agg, which is a non-GUI backend, so cannot show the figure.\n",
      "  plt.pause(0.001)\n",
      "/home/kessler/.cache/bazel/_bazel_kessler/6ba317d7828f21aa2067abd006e869d3/execroot/bark_project/bazel-out/k8-fastbuild/bin/docs/tutorials/run.runfiles/bark_project/bark/runtime/viewer/matplotlib_viewer.py:49: MatplotlibDeprecationWarning: Case-insensitive properties were deprecated in 3.3 and support will be removed two minor releases later\n",
      "  linewidth=linewidth)\n",
      "/home/kessler/.cache/bazel/_bazel_kessler/6ba317d7828f21aa2067abd006e869d3/execroot/bark_project/bazel-out/k8-fastbuild/bin/docs/tutorials/run.runfiles/bark_project/bark/runtime/viewer/matplotlib_viewer.py:49: MatplotlibDeprecationWarning: Case-insensitive properties were deprecated in 3.3 and support will be removed two minor releases later\n",
      "  linewidth=linewidth)\n",
      "/home/kessler/.cache/bazel/_bazel_kessler/6ba317d7828f21aa2067abd006e869d3/execroot/bark_project/bazel-out/k8-fastbuild/bin/docs/tutorials/run.runfiles/bark_project/bark/runtime/viewer/matplotlib_viewer.py:49: MatplotlibDeprecationWarning: Case-insensitive properties were deprecated in 3.3 and support will be removed two minor releases later\n",
      "  linewidth=linewidth)\n",
      "/home/kessler/.cache/bazel/_bazel_kessler/6ba317d7828f21aa2067abd006e869d3/execroot/bark_project/bazel-out/k8-fastbuild/bin/docs/tutorials/run.runfiles/bark_project/bark/runtime/viewer/matplotlib_viewer.py:49: MatplotlibDeprecationWarning: Case-insensitive properties were deprecated in 3.3 and support will be removed two minor releases later\n",
      "  linewidth=linewidth)\n",
      "/home/kessler/.cache/bazel/_bazel_kessler/6ba317d7828f21aa2067abd006e869d3/execroot/bark_project/bazel-out/k8-fastbuild/bin/docs/tutorials/run.runfiles/bark_project/bark/runtime/viewer/matplotlib_viewer.py:49: MatplotlibDeprecationWarning: Case-insensitive properties were deprecated in 3.3 and support will be removed two minor releases later\n",
      "  linewidth=linewidth)\n",
      "/home/kessler/.cache/bazel/_bazel_kessler/6ba317d7828f21aa2067abd006e869d3/execroot/bark_project/bazel-out/k8-fastbuild/bin/docs/tutorials/run.runfiles/bark_project/bark/runtime/viewer/matplotlib_viewer.py:49: MatplotlibDeprecationWarning: Case-insensitive properties were deprecated in 3.3 and support will be removed two minor releases later\n",
      "  linewidth=linewidth)\n",
      "/home/kessler/.cache/bazel/_bazel_kessler/6ba317d7828f21aa2067abd006e869d3/execroot/bark_project/bazel-out/k8-fastbuild/bin/docs/tutorials/run.runfiles/bark_project/bark/runtime/viewer/matplotlib_viewer.py:49: MatplotlibDeprecationWarning: Case-insensitive properties were deprecated in 3.3 and support will be removed two minor releases later\n",
      "  linewidth=linewidth)\n",
      "/home/kessler/.cache/bazel/_bazel_kessler/6ba317d7828f21aa2067abd006e869d3/execroot/bark_project/bazel-out/k8-fastbuild/bin/docs/tutorials/run.runfiles/bark_project/bark/runtime/viewer/matplotlib_viewer.py:49: MatplotlibDeprecationWarning: Case-insensitive properties were deprecated in 3.3 and support will be removed two minor releases later\n",
      "  linewidth=linewidth)\n",
      "/home/kessler/.cache/bazel/_bazel_kessler/6ba317d7828f21aa2067abd006e869d3/execroot/bark_project/bazel-out/k8-fastbuild/bin/docs/tutorials/run.runfiles/bark_project/bark/runtime/viewer/matplotlib_viewer.py:49: MatplotlibDeprecationWarning: Case-insensitive properties were deprecated in 3.3 and support will be removed two minor releases later\n",
      "  linewidth=linewidth)\n",
      "/home/kessler/.cache/bazel/_bazel_kessler/6ba317d7828f21aa2067abd006e869d3/execroot/bark_project/bazel-out/k8-fastbuild/bin/docs/tutorials/run.runfiles/bark_project/bark/runtime/viewer/matplotlib_viewer.py:127: UserWarning: Matplotlib is currently using agg, which is a non-GUI backend, so cannot show the figure.\n",
      "  plt.pause(0.001)\n",
      "/home/kessler/.cache/bazel/_bazel_kessler/6ba317d7828f21aa2067abd006e869d3/execroot/bark_project/bazel-out/k8-fastbuild/bin/docs/tutorials/run.runfiles/bark_project/bark/runtime/viewer/matplotlib_viewer.py:49: MatplotlibDeprecationWarning: Case-insensitive properties were deprecated in 3.3 and support will be removed two minor releases later\n",
      "  linewidth=linewidth)\n",
      "/home/kessler/.cache/bazel/_bazel_kessler/6ba317d7828f21aa2067abd006e869d3/execroot/bark_project/bazel-out/k8-fastbuild/bin/docs/tutorials/run.runfiles/bark_project/bark/runtime/viewer/matplotlib_viewer.py:49: MatplotlibDeprecationWarning: Case-insensitive properties were deprecated in 3.3 and support will be removed two minor releases later\n",
      "  linewidth=linewidth)\n",
      "/home/kessler/.cache/bazel/_bazel_kessler/6ba317d7828f21aa2067abd006e869d3/execroot/bark_project/bazel-out/k8-fastbuild/bin/docs/tutorials/run.runfiles/bark_project/bark/runtime/viewer/matplotlib_viewer.py:49: MatplotlibDeprecationWarning: Case-insensitive properties were deprecated in 3.3 and support will be removed two minor releases later\n",
      "  linewidth=linewidth)\n",
      "/home/kessler/.cache/bazel/_bazel_kessler/6ba317d7828f21aa2067abd006e869d3/execroot/bark_project/bazel-out/k8-fastbuild/bin/docs/tutorials/run.runfiles/bark_project/bark/runtime/viewer/matplotlib_viewer.py:49: MatplotlibDeprecationWarning: Case-insensitive properties were deprecated in 3.3 and support will be removed two minor releases later\n",
      "  linewidth=linewidth)\n",
      "/home/kessler/.cache/bazel/_bazel_kessler/6ba317d7828f21aa2067abd006e869d3/execroot/bark_project/bazel-out/k8-fastbuild/bin/docs/tutorials/run.runfiles/bark_project/bark/runtime/viewer/matplotlib_viewer.py:49: MatplotlibDeprecationWarning: Case-insensitive properties were deprecated in 3.3 and support will be removed two minor releases later\n",
      "  linewidth=linewidth)\n",
      "/home/kessler/.cache/bazel/_bazel_kessler/6ba317d7828f21aa2067abd006e869d3/execroot/bark_project/bazel-out/k8-fastbuild/bin/docs/tutorials/run.runfiles/bark_project/bark/runtime/viewer/matplotlib_viewer.py:49: MatplotlibDeprecationWarning: Case-insensitive properties were deprecated in 3.3 and support will be removed two minor releases later\n",
      "  linewidth=linewidth)\n",
      "/home/kessler/.cache/bazel/_bazel_kessler/6ba317d7828f21aa2067abd006e869d3/execroot/bark_project/bazel-out/k8-fastbuild/bin/docs/tutorials/run.runfiles/bark_project/bark/runtime/viewer/matplotlib_viewer.py:49: MatplotlibDeprecationWarning: Case-insensitive properties were deprecated in 3.3 and support will be removed two minor releases later\n",
      "  linewidth=linewidth)\n",
      "/home/kessler/.cache/bazel/_bazel_kessler/6ba317d7828f21aa2067abd006e869d3/execroot/bark_project/bazel-out/k8-fastbuild/bin/docs/tutorials/run.runfiles/bark_project/bark/runtime/viewer/matplotlib_viewer.py:49: MatplotlibDeprecationWarning: Case-insensitive properties were deprecated in 3.3 and support will be removed two minor releases later\n",
      "  linewidth=linewidth)\n",
      "/home/kessler/.cache/bazel/_bazel_kessler/6ba317d7828f21aa2067abd006e869d3/execroot/bark_project/bazel-out/k8-fastbuild/bin/docs/tutorials/run.runfiles/bark_project/bark/runtime/viewer/matplotlib_viewer.py:49: MatplotlibDeprecationWarning: Case-insensitive properties were deprecated in 3.3 and support will be removed two minor releases later\n",
      "  linewidth=linewidth)\n",
      "/home/kessler/.cache/bazel/_bazel_kessler/6ba317d7828f21aa2067abd006e869d3/execroot/bark_project/bazel-out/k8-fastbuild/bin/docs/tutorials/run.runfiles/bark_project/bark/runtime/viewer/matplotlib_viewer.py:127: UserWarning: Matplotlib is currently using agg, which is a non-GUI backend, so cannot show the figure.\n",
      "  plt.pause(0.001)\n"
     ]
    },
    {
     "name": "stderr",
     "output_type": "stream",
     "text": [
      "/home/kessler/.cache/bazel/_bazel_kessler/6ba317d7828f21aa2067abd006e869d3/execroot/bark_project/bazel-out/k8-fastbuild/bin/docs/tutorials/run.runfiles/bark_project/bark/runtime/viewer/matplotlib_viewer.py:49: MatplotlibDeprecationWarning: Case-insensitive properties were deprecated in 3.3 and support will be removed two minor releases later\n",
      "  linewidth=linewidth)\n",
      "/home/kessler/.cache/bazel/_bazel_kessler/6ba317d7828f21aa2067abd006e869d3/execroot/bark_project/bazel-out/k8-fastbuild/bin/docs/tutorials/run.runfiles/bark_project/bark/runtime/viewer/matplotlib_viewer.py:49: MatplotlibDeprecationWarning: Case-insensitive properties were deprecated in 3.3 and support will be removed two minor releases later\n",
      "  linewidth=linewidth)\n",
      "/home/kessler/.cache/bazel/_bazel_kessler/6ba317d7828f21aa2067abd006e869d3/execroot/bark_project/bazel-out/k8-fastbuild/bin/docs/tutorials/run.runfiles/bark_project/bark/runtime/viewer/matplotlib_viewer.py:49: MatplotlibDeprecationWarning: Case-insensitive properties were deprecated in 3.3 and support will be removed two minor releases later\n",
      "  linewidth=linewidth)\n",
      "/home/kessler/.cache/bazel/_bazel_kessler/6ba317d7828f21aa2067abd006e869d3/execroot/bark_project/bazel-out/k8-fastbuild/bin/docs/tutorials/run.runfiles/bark_project/bark/runtime/viewer/matplotlib_viewer.py:49: MatplotlibDeprecationWarning: Case-insensitive properties were deprecated in 3.3 and support will be removed two minor releases later\n",
      "  linewidth=linewidth)\n",
      "/home/kessler/.cache/bazel/_bazel_kessler/6ba317d7828f21aa2067abd006e869d3/execroot/bark_project/bazel-out/k8-fastbuild/bin/docs/tutorials/run.runfiles/bark_project/bark/runtime/viewer/matplotlib_viewer.py:49: MatplotlibDeprecationWarning: Case-insensitive properties were deprecated in 3.3 and support will be removed two minor releases later\n",
      "  linewidth=linewidth)\n",
      "/home/kessler/.cache/bazel/_bazel_kessler/6ba317d7828f21aa2067abd006e869d3/execroot/bark_project/bazel-out/k8-fastbuild/bin/docs/tutorials/run.runfiles/bark_project/bark/runtime/viewer/matplotlib_viewer.py:49: MatplotlibDeprecationWarning: Case-insensitive properties were deprecated in 3.3 and support will be removed two minor releases later\n",
      "  linewidth=linewidth)\n",
      "/home/kessler/.cache/bazel/_bazel_kessler/6ba317d7828f21aa2067abd006e869d3/execroot/bark_project/bazel-out/k8-fastbuild/bin/docs/tutorials/run.runfiles/bark_project/bark/runtime/viewer/matplotlib_viewer.py:49: MatplotlibDeprecationWarning: Case-insensitive properties were deprecated in 3.3 and support will be removed two minor releases later\n",
      "  linewidth=linewidth)\n",
      "/home/kessler/.cache/bazel/_bazel_kessler/6ba317d7828f21aa2067abd006e869d3/execroot/bark_project/bazel-out/k8-fastbuild/bin/docs/tutorials/run.runfiles/bark_project/bark/runtime/viewer/matplotlib_viewer.py:49: MatplotlibDeprecationWarning: Case-insensitive properties were deprecated in 3.3 and support will be removed two minor releases later\n",
      "  linewidth=linewidth)\n",
      "/home/kessler/.cache/bazel/_bazel_kessler/6ba317d7828f21aa2067abd006e869d3/execroot/bark_project/bazel-out/k8-fastbuild/bin/docs/tutorials/run.runfiles/bark_project/bark/runtime/viewer/matplotlib_viewer.py:49: MatplotlibDeprecationWarning: Case-insensitive properties were deprecated in 3.3 and support will be removed two minor releases later\n",
      "  linewidth=linewidth)\n",
      "/home/kessler/.cache/bazel/_bazel_kessler/6ba317d7828f21aa2067abd006e869d3/execroot/bark_project/bazel-out/k8-fastbuild/bin/docs/tutorials/run.runfiles/bark_project/bark/runtime/viewer/matplotlib_viewer.py:127: UserWarning: Matplotlib is currently using agg, which is a non-GUI backend, so cannot show the figure.\n",
      "  plt.pause(0.001)\n",
      "/home/kessler/.cache/bazel/_bazel_kessler/6ba317d7828f21aa2067abd006e869d3/execroot/bark_project/bazel-out/k8-fastbuild/bin/docs/tutorials/run.runfiles/bark_project/bark/runtime/viewer/matplotlib_viewer.py:49: MatplotlibDeprecationWarning: Case-insensitive properties were deprecated in 3.3 and support will be removed two minor releases later\n",
      "  linewidth=linewidth)\n",
      "/home/kessler/.cache/bazel/_bazel_kessler/6ba317d7828f21aa2067abd006e869d3/execroot/bark_project/bazel-out/k8-fastbuild/bin/docs/tutorials/run.runfiles/bark_project/bark/runtime/viewer/matplotlib_viewer.py:49: MatplotlibDeprecationWarning: Case-insensitive properties were deprecated in 3.3 and support will be removed two minor releases later\n",
      "  linewidth=linewidth)\n",
      "/home/kessler/.cache/bazel/_bazel_kessler/6ba317d7828f21aa2067abd006e869d3/execroot/bark_project/bazel-out/k8-fastbuild/bin/docs/tutorials/run.runfiles/bark_project/bark/runtime/viewer/matplotlib_viewer.py:49: MatplotlibDeprecationWarning: Case-insensitive properties were deprecated in 3.3 and support will be removed two minor releases later\n",
      "  linewidth=linewidth)\n",
      "/home/kessler/.cache/bazel/_bazel_kessler/6ba317d7828f21aa2067abd006e869d3/execroot/bark_project/bazel-out/k8-fastbuild/bin/docs/tutorials/run.runfiles/bark_project/bark/runtime/viewer/matplotlib_viewer.py:49: MatplotlibDeprecationWarning: Case-insensitive properties were deprecated in 3.3 and support will be removed two minor releases later\n",
      "  linewidth=linewidth)\n",
      "/home/kessler/.cache/bazel/_bazel_kessler/6ba317d7828f21aa2067abd006e869d3/execroot/bark_project/bazel-out/k8-fastbuild/bin/docs/tutorials/run.runfiles/bark_project/bark/runtime/viewer/matplotlib_viewer.py:49: MatplotlibDeprecationWarning: Case-insensitive properties were deprecated in 3.3 and support will be removed two minor releases later\n",
      "  linewidth=linewidth)\n",
      "/home/kessler/.cache/bazel/_bazel_kessler/6ba317d7828f21aa2067abd006e869d3/execroot/bark_project/bazel-out/k8-fastbuild/bin/docs/tutorials/run.runfiles/bark_project/bark/runtime/viewer/matplotlib_viewer.py:49: MatplotlibDeprecationWarning: Case-insensitive properties were deprecated in 3.3 and support will be removed two minor releases later\n",
      "  linewidth=linewidth)\n",
      "/home/kessler/.cache/bazel/_bazel_kessler/6ba317d7828f21aa2067abd006e869d3/execroot/bark_project/bazel-out/k8-fastbuild/bin/docs/tutorials/run.runfiles/bark_project/bark/runtime/viewer/matplotlib_viewer.py:49: MatplotlibDeprecationWarning: Case-insensitive properties were deprecated in 3.3 and support will be removed two minor releases later\n",
      "  linewidth=linewidth)\n",
      "/home/kessler/.cache/bazel/_bazel_kessler/6ba317d7828f21aa2067abd006e869d3/execroot/bark_project/bazel-out/k8-fastbuild/bin/docs/tutorials/run.runfiles/bark_project/bark/runtime/viewer/matplotlib_viewer.py:49: MatplotlibDeprecationWarning: Case-insensitive properties were deprecated in 3.3 and support will be removed two minor releases later\n",
      "  linewidth=linewidth)\n",
      "/home/kessler/.cache/bazel/_bazel_kessler/6ba317d7828f21aa2067abd006e869d3/execroot/bark_project/bazel-out/k8-fastbuild/bin/docs/tutorials/run.runfiles/bark_project/bark/runtime/viewer/matplotlib_viewer.py:49: MatplotlibDeprecationWarning: Case-insensitive properties were deprecated in 3.3 and support will be removed two minor releases later\n",
      "  linewidth=linewidth)\n",
      "/home/kessler/.cache/bazel/_bazel_kessler/6ba317d7828f21aa2067abd006e869d3/execroot/bark_project/bazel-out/k8-fastbuild/bin/docs/tutorials/run.runfiles/bark_project/bark/runtime/viewer/matplotlib_viewer.py:127: UserWarning: Matplotlib is currently using agg, which is a non-GUI backend, so cannot show the figure.\n",
      "  plt.pause(0.001)\n",
      "/home/kessler/.cache/bazel/_bazel_kessler/6ba317d7828f21aa2067abd006e869d3/execroot/bark_project/bazel-out/k8-fastbuild/bin/docs/tutorials/run.runfiles/bark_project/bark/runtime/viewer/matplotlib_viewer.py:49: MatplotlibDeprecationWarning: Case-insensitive properties were deprecated in 3.3 and support will be removed two minor releases later\n",
      "  linewidth=linewidth)\n",
      "/home/kessler/.cache/bazel/_bazel_kessler/6ba317d7828f21aa2067abd006e869d3/execroot/bark_project/bazel-out/k8-fastbuild/bin/docs/tutorials/run.runfiles/bark_project/bark/runtime/viewer/matplotlib_viewer.py:49: MatplotlibDeprecationWarning: Case-insensitive properties were deprecated in 3.3 and support will be removed two minor releases later\n",
      "  linewidth=linewidth)\n",
      "/home/kessler/.cache/bazel/_bazel_kessler/6ba317d7828f21aa2067abd006e869d3/execroot/bark_project/bazel-out/k8-fastbuild/bin/docs/tutorials/run.runfiles/bark_project/bark/runtime/viewer/matplotlib_viewer.py:49: MatplotlibDeprecationWarning: Case-insensitive properties were deprecated in 3.3 and support will be removed two minor releases later\n",
      "  linewidth=linewidth)\n",
      "/home/kessler/.cache/bazel/_bazel_kessler/6ba317d7828f21aa2067abd006e869d3/execroot/bark_project/bazel-out/k8-fastbuild/bin/docs/tutorials/run.runfiles/bark_project/bark/runtime/viewer/matplotlib_viewer.py:49: MatplotlibDeprecationWarning: Case-insensitive properties were deprecated in 3.3 and support will be removed two minor releases later\n",
      "  linewidth=linewidth)\n",
      "/home/kessler/.cache/bazel/_bazel_kessler/6ba317d7828f21aa2067abd006e869d3/execroot/bark_project/bazel-out/k8-fastbuild/bin/docs/tutorials/run.runfiles/bark_project/bark/runtime/viewer/matplotlib_viewer.py:49: MatplotlibDeprecationWarning: Case-insensitive properties were deprecated in 3.3 and support will be removed two minor releases later\n",
      "  linewidth=linewidth)\n",
      "/home/kessler/.cache/bazel/_bazel_kessler/6ba317d7828f21aa2067abd006e869d3/execroot/bark_project/bazel-out/k8-fastbuild/bin/docs/tutorials/run.runfiles/bark_project/bark/runtime/viewer/matplotlib_viewer.py:49: MatplotlibDeprecationWarning: Case-insensitive properties were deprecated in 3.3 and support will be removed two minor releases later\n",
      "  linewidth=linewidth)\n",
      "/home/kessler/.cache/bazel/_bazel_kessler/6ba317d7828f21aa2067abd006e869d3/execroot/bark_project/bazel-out/k8-fastbuild/bin/docs/tutorials/run.runfiles/bark_project/bark/runtime/viewer/matplotlib_viewer.py:49: MatplotlibDeprecationWarning: Case-insensitive properties were deprecated in 3.3 and support will be removed two minor releases later\n",
      "  linewidth=linewidth)\n",
      "/home/kessler/.cache/bazel/_bazel_kessler/6ba317d7828f21aa2067abd006e869d3/execroot/bark_project/bazel-out/k8-fastbuild/bin/docs/tutorials/run.runfiles/bark_project/bark/runtime/viewer/matplotlib_viewer.py:49: MatplotlibDeprecationWarning: Case-insensitive properties were deprecated in 3.3 and support will be removed two minor releases later\n",
      "  linewidth=linewidth)\n",
      "/home/kessler/.cache/bazel/_bazel_kessler/6ba317d7828f21aa2067abd006e869d3/execroot/bark_project/bazel-out/k8-fastbuild/bin/docs/tutorials/run.runfiles/bark_project/bark/runtime/viewer/matplotlib_viewer.py:49: MatplotlibDeprecationWarning: Case-insensitive properties were deprecated in 3.3 and support will be removed two minor releases later\n",
      "  linewidth=linewidth)\n",
      "/home/kessler/.cache/bazel/_bazel_kessler/6ba317d7828f21aa2067abd006e869d3/execroot/bark_project/bazel-out/k8-fastbuild/bin/docs/tutorials/run.runfiles/bark_project/bark/runtime/viewer/matplotlib_viewer.py:127: UserWarning: Matplotlib is currently using agg, which is a non-GUI backend, so cannot show the figure.\n",
      "  plt.pause(0.001)\n",
      "/home/kessler/.cache/bazel/_bazel_kessler/6ba317d7828f21aa2067abd006e869d3/execroot/bark_project/bazel-out/k8-fastbuild/bin/docs/tutorials/run.runfiles/bark_project/bark/runtime/viewer/matplotlib_viewer.py:49: MatplotlibDeprecationWarning: Case-insensitive properties were deprecated in 3.3 and support will be removed two minor releases later\n",
      "  linewidth=linewidth)\n",
      "/home/kessler/.cache/bazel/_bazel_kessler/6ba317d7828f21aa2067abd006e869d3/execroot/bark_project/bazel-out/k8-fastbuild/bin/docs/tutorials/run.runfiles/bark_project/bark/runtime/viewer/matplotlib_viewer.py:49: MatplotlibDeprecationWarning: Case-insensitive properties were deprecated in 3.3 and support will be removed two minor releases later\n",
      "  linewidth=linewidth)\n",
      "/home/kessler/.cache/bazel/_bazel_kessler/6ba317d7828f21aa2067abd006e869d3/execroot/bark_project/bazel-out/k8-fastbuild/bin/docs/tutorials/run.runfiles/bark_project/bark/runtime/viewer/matplotlib_viewer.py:49: MatplotlibDeprecationWarning: Case-insensitive properties were deprecated in 3.3 and support will be removed two minor releases later\n",
      "  linewidth=linewidth)\n",
      "/home/kessler/.cache/bazel/_bazel_kessler/6ba317d7828f21aa2067abd006e869d3/execroot/bark_project/bazel-out/k8-fastbuild/bin/docs/tutorials/run.runfiles/bark_project/bark/runtime/viewer/matplotlib_viewer.py:49: MatplotlibDeprecationWarning: Case-insensitive properties were deprecated in 3.3 and support will be removed two minor releases later\n",
      "  linewidth=linewidth)\n",
      "/home/kessler/.cache/bazel/_bazel_kessler/6ba317d7828f21aa2067abd006e869d3/execroot/bark_project/bazel-out/k8-fastbuild/bin/docs/tutorials/run.runfiles/bark_project/bark/runtime/viewer/matplotlib_viewer.py:49: MatplotlibDeprecationWarning: Case-insensitive properties were deprecated in 3.3 and support will be removed two minor releases later\n",
      "  linewidth=linewidth)\n",
      "/home/kessler/.cache/bazel/_bazel_kessler/6ba317d7828f21aa2067abd006e869d3/execroot/bark_project/bazel-out/k8-fastbuild/bin/docs/tutorials/run.runfiles/bark_project/bark/runtime/viewer/matplotlib_viewer.py:49: MatplotlibDeprecationWarning: Case-insensitive properties were deprecated in 3.3 and support will be removed two minor releases later\n",
      "  linewidth=linewidth)\n",
      "/home/kessler/.cache/bazel/_bazel_kessler/6ba317d7828f21aa2067abd006e869d3/execroot/bark_project/bazel-out/k8-fastbuild/bin/docs/tutorials/run.runfiles/bark_project/bark/runtime/viewer/matplotlib_viewer.py:49: MatplotlibDeprecationWarning: Case-insensitive properties were deprecated in 3.3 and support will be removed two minor releases later\n",
      "  linewidth=linewidth)\n",
      "/home/kessler/.cache/bazel/_bazel_kessler/6ba317d7828f21aa2067abd006e869d3/execroot/bark_project/bazel-out/k8-fastbuild/bin/docs/tutorials/run.runfiles/bark_project/bark/runtime/viewer/matplotlib_viewer.py:49: MatplotlibDeprecationWarning: Case-insensitive properties were deprecated in 3.3 and support will be removed two minor releases later\n",
      "  linewidth=linewidth)\n",
      "/home/kessler/.cache/bazel/_bazel_kessler/6ba317d7828f21aa2067abd006e869d3/execroot/bark_project/bazel-out/k8-fastbuild/bin/docs/tutorials/run.runfiles/bark_project/bark/runtime/viewer/matplotlib_viewer.py:49: MatplotlibDeprecationWarning: Case-insensitive properties were deprecated in 3.3 and support will be removed two minor releases later\n",
      "  linewidth=linewidth)\n"
     ]
    },
    {
     "name": "stderr",
     "output_type": "stream",
     "text": [
      "/home/kessler/.cache/bazel/_bazel_kessler/6ba317d7828f21aa2067abd006e869d3/execroot/bark_project/bazel-out/k8-fastbuild/bin/docs/tutorials/run.runfiles/bark_project/bark/runtime/viewer/matplotlib_viewer.py:127: UserWarning: Matplotlib is currently using agg, which is a non-GUI backend, so cannot show the figure.\n",
      "  plt.pause(0.001)\n"
     ]
    },
    {
     "data": {
      "image/png": "[encoded data removed]",
      "text/plain": [
       "<Figure size 432x288 with 1 Axes>"
      ]
     },
     "metadata": {
      "needs_background": "light"
     },
     "output_type": "display_data"
    }
   ],
   "source": [
    "# Define how long the scenario shall run:\n",
    "param_server[\"simulation\"][\"sim_time_steps\"] = 30\n",
    "\n",
    "# Init viewer\n",
    "viewer = MPViewer(params=param_server, use_world_bounds=True)\n",
    "param_server[\"Visualization\"][\"Agents\"][\"DrawEvalGoals\"] = False\n",
    "\n",
    "# Run the scenario\n",
    "world_state = scenario.GetWorldState()\n",
    "for _ in range(0, param_server[\"simulation\"][\"sim_time_steps\"]):\n",
    "    world_state.Step(param_server[\"simulation\"][\"step_time\"])\n",
    "    viewer.drawWorld(world_state, scenario._eval_agent_ids)\n",
    "    viewer.show(block=False)"
   ]
  },
  {
   "cell_type": "markdown",
   "metadata": {},
   "source": [
    "## Replacing an Agent\n",
    "\n",
    "Based on the above, we replace one agent with another agent model. For this, we just add a parameter to the server. Here we chose the replate the agent 67 with an IDM with standard parameters."
   ]
  },
  {
   "cell_type": "code",
   "execution_count": 5,
   "metadata": {},
   "outputs": [],
   "source": [
    "# Insert the IDM Agent\n",
    "param_server_idm = param_server\n",
    "param_server_idm[\"Scenario\"][\"Generation\"][\"InteractionDataset\"][\"BehaviorModel\"] = {\"67\":\"BehaviorIDMClassic\"}"
   ]
  },
  {
   "cell_type": "markdown",
   "metadata": {},
   "source": [
    "Now, create one new scenario as above:"
   ]
  },
  {
   "cell_type": "code",
   "execution_count": 6,
   "metadata": {},
   "outputs": [
    {
     "name": "stderr",
     "output_type": "stream",
     "text": [
      "/home/kessler/.cache/bazel/_bazel_kessler/6ba317d7828f21aa2067abd006e869d3/execroot/bark_project/bazel-out/k8-fastbuild/bin/docs/tutorials/run.runfiles/bark_project/bark/runtime/commons/xodr_parser.py:108: FutureWarning: The behavior of this method will change in future versions. Use specific 'len(elem)' or 'elem is not None' test instead.\n",
      "  if lane.find(\"userData\"):\n"
     ]
    }
   ],
   "source": [
    "scenario_generation_idm = InteractionDatasetScenarioGeneration(num_scenarios=1, random_seed=0, params=param_server_idm)\n",
    "scenario_idm = scenario_generation_idm.create_scenarios(param_server, 1)[0]"
   ]
  },
  {
   "cell_type": "code",
   "execution_count": 8,
   "metadata": {},
   "outputs": [
    {
     "name": "stderr",
     "output_type": "stream",
     "text": [
      "/home/kessler/.cache/bazel/_bazel_kessler/6ba317d7828f21aa2067abd006e869d3/execroot/bark_project/bazel-out/k8-fastbuild/bin/docs/tutorials/run.runfiles/bark_project/bark/runtime/viewer/matplotlib_viewer.py:49: MatplotlibDeprecationWarning: Case-insensitive properties were deprecated in 3.3 and support will be removed two minor releases later\n",
      "  linewidth=linewidth)\n",
      "/home/kessler/.cache/bazel/_bazel_kessler/6ba317d7828f21aa2067abd006e869d3/execroot/bark_project/bazel-out/k8-fastbuild/bin/docs/tutorials/run.runfiles/bark_project/bark/runtime/viewer/matplotlib_viewer.py:49: MatplotlibDeprecationWarning: Case-insensitive properties were deprecated in 3.3 and support will be removed two minor releases later\n",
      "  linewidth=linewidth)\n",
      "/home/kessler/.cache/bazel/_bazel_kessler/6ba317d7828f21aa2067abd006e869d3/execroot/bark_project/bazel-out/k8-fastbuild/bin/docs/tutorials/run.runfiles/bark_project/bark/runtime/viewer/matplotlib_viewer.py:49: MatplotlibDeprecationWarning: Case-insensitive properties were deprecated in 3.3 and support will be removed two minor releases later\n",
      "  linewidth=linewidth)\n",
      "/home/kessler/.cache/bazel/_bazel_kessler/6ba317d7828f21aa2067abd006e869d3/execroot/bark_project/bazel-out/k8-fastbuild/bin/docs/tutorials/run.runfiles/bark_project/bark/runtime/viewer/matplotlib_viewer.py:49: MatplotlibDeprecationWarning: Case-insensitive properties were deprecated in 3.3 and support will be removed two minor releases later\n",
      "  linewidth=linewidth)\n",
      "/home/kessler/.cache/bazel/_bazel_kessler/6ba317d7828f21aa2067abd006e869d3/execroot/bark_project/bazel-out/k8-fastbuild/bin/docs/tutorials/run.runfiles/bark_project/bark/runtime/viewer/matplotlib_viewer.py:49: MatplotlibDeprecationWarning: Case-insensitive properties were deprecated in 3.3 and support will be removed two minor releases later\n",
      "  linewidth=linewidth)\n",
      "/home/kessler/.cache/bazel/_bazel_kessler/6ba317d7828f21aa2067abd006e869d3/execroot/bark_project/bazel-out/k8-fastbuild/bin/docs/tutorials/run.runfiles/bark_project/bark/runtime/viewer/matplotlib_viewer.py:49: MatplotlibDeprecationWarning: Case-insensitive properties were deprecated in 3.3 and support will be removed two minor releases later\n",
      "  linewidth=linewidth)\n",
      "/home/kessler/.cache/bazel/_bazel_kessler/6ba317d7828f21aa2067abd006e869d3/execroot/bark_project/bazel-out/k8-fastbuild/bin/docs/tutorials/run.runfiles/bark_project/bark/runtime/viewer/matplotlib_viewer.py:49: MatplotlibDeprecationWarning: Case-insensitive properties were deprecated in 3.3 and support will be removed two minor releases later\n",
      "  linewidth=linewidth)\n",
      "/home/kessler/.cache/bazel/_bazel_kessler/6ba317d7828f21aa2067abd006e869d3/execroot/bark_project/bazel-out/k8-fastbuild/bin/docs/tutorials/run.runfiles/bark_project/bark/runtime/viewer/matplotlib_viewer.py:49: MatplotlibDeprecationWarning: Case-insensitive properties were deprecated in 3.3 and support will be removed two minor releases later\n",
      "  linewidth=linewidth)\n",
      "/home/kessler/.cache/bazel/_bazel_kessler/6ba317d7828f21aa2067abd006e869d3/execroot/bark_project/bazel-out/k8-fastbuild/bin/docs/tutorials/run.runfiles/bark_project/bark/runtime/viewer/matplotlib_viewer.py:49: MatplotlibDeprecationWarning: Case-insensitive properties were deprecated in 3.3 and support will be removed two minor releases later\n",
      "  linewidth=linewidth)\n"
     ]
    },
    {
     "data": {
      "image/png": "[encoded data removed]",
      "text/plain": [
       "<Figure size 432x288 with 1 Axes>"
      ]
     },
     "metadata": {
      "needs_background": "light"
     },
     "output_type": "display_data"
    },
    {
     "data": {
      "text/plain": [
       "<Figure size 432x288 with 0 Axes>"
      ]
     },
     "metadata": {},
     "output_type": "display_data"
    },
    {
     "name": "stderr",
     "output_type": "stream",
     "text": [
      "/home/kessler/.cache/bazel/_bazel_kessler/6ba317d7828f21aa2067abd006e869d3/execroot/bark_project/bazel-out/k8-fastbuild/bin/docs/tutorials/run.runfiles/bark_project/bark/runtime/viewer/matplotlib_viewer.py:49: MatplotlibDeprecationWarning: Case-insensitive properties were deprecated in 3.3 and support will be removed two minor releases later\n",
      "  linewidth=linewidth)\n",
      "/home/kessler/.cache/bazel/_bazel_kessler/6ba317d7828f21aa2067abd006e869d3/execroot/bark_project/bazel-out/k8-fastbuild/bin/docs/tutorials/run.runfiles/bark_project/bark/runtime/viewer/matplotlib_viewer.py:49: MatplotlibDeprecationWarning: Case-insensitive properties were deprecated in 3.3 and support will be removed two minor releases later\n",
      "  linewidth=linewidth)\n",
      "/home/kessler/.cache/bazel/_bazel_kessler/6ba317d7828f21aa2067abd006e869d3/execroot/bark_project/bazel-out/k8-fastbuild/bin/docs/tutorials/run.runfiles/bark_project/bark/runtime/viewer/matplotlib_viewer.py:49: MatplotlibDeprecationWarning: Case-insensitive properties were deprecated in 3.3 and support will be removed two minor releases later\n",
      "  linewidth=linewidth)\n",
      "/home/kessler/.cache/bazel/_bazel_kessler/6ba317d7828f21aa2067abd006e869d3/execroot/bark_project/bazel-out/k8-fastbuild/bin/docs/tutorials/run.runfiles/bark_project/bark/runtime/viewer/matplotlib_viewer.py:49: MatplotlibDeprecationWarning: Case-insensitive properties were deprecated in 3.3 and support will be removed two minor releases later\n",
      "  linewidth=linewidth)\n",
      "/home/kessler/.cache/bazel/_bazel_kessler/6ba317d7828f21aa2067abd006e869d3/execroot/bark_project/bazel-out/k8-fastbuild/bin/docs/tutorials/run.runfiles/bark_project/bark/runtime/viewer/matplotlib_viewer.py:49: MatplotlibDeprecationWarning: Case-insensitive properties were deprecated in 3.3 and support will be removed two minor releases later\n",
      "  linewidth=linewidth)\n",
      "/home/kessler/.cache/bazel/_bazel_kessler/6ba317d7828f21aa2067abd006e869d3/execroot/bark_project/bazel-out/k8-fastbuild/bin/docs/tutorials/run.runfiles/bark_project/bark/runtime/viewer/matplotlib_viewer.py:49: MatplotlibDeprecationWarning: Case-insensitive properties were deprecated in 3.3 and support will be removed two minor releases later\n",
      "  linewidth=linewidth)\n",
      "/home/kessler/.cache/bazel/_bazel_kessler/6ba317d7828f21aa2067abd006e869d3/execroot/bark_project/bazel-out/k8-fastbuild/bin/docs/tutorials/run.runfiles/bark_project/bark/runtime/viewer/matplotlib_viewer.py:49: MatplotlibDeprecationWarning: Case-insensitive properties were deprecated in 3.3 and support will be removed two minor releases later\n",
      "  linewidth=linewidth)\n",
      "/home/kessler/.cache/bazel/_bazel_kessler/6ba317d7828f21aa2067abd006e869d3/execroot/bark_project/bazel-out/k8-fastbuild/bin/docs/tutorials/run.runfiles/bark_project/bark/runtime/viewer/matplotlib_viewer.py:49: MatplotlibDeprecationWarning: Case-insensitive properties were deprecated in 3.3 and support will be removed two minor releases later\n",
      "  linewidth=linewidth)\n",
      "/home/kessler/.cache/bazel/_bazel_kessler/6ba317d7828f21aa2067abd006e869d3/execroot/bark_project/bazel-out/k8-fastbuild/bin/docs/tutorials/run.runfiles/bark_project/bark/runtime/viewer/matplotlib_viewer.py:49: MatplotlibDeprecationWarning: Case-insensitive properties were deprecated in 3.3 and support will be removed two minor releases later\n",
      "  linewidth=linewidth)\n"
     ]
    },
    {
     "data": {
      "text/plain": [
       "<Figure size 432x288 with 0 Axes>"
      ]
     },
     "metadata": {},
     "output_type": "display_data"
    },
    {
     "data": {
      "text/plain": [
       "<Figure size 432x288 with 0 Axes>"
      ]
     },
     "metadata": {},
     "output_type": "display_data"
    },
    {
     "name": "stderr",
     "output_type": "stream",
     "text": [
      "/home/kessler/.cache/bazel/_bazel_kessler/6ba317d7828f21aa2067abd006e869d3/execroot/bark_project/bazel-out/k8-fastbuild/bin/docs/tutorials/run.runfiles/bark_project/bark/runtime/viewer/matplotlib_viewer.py:49: MatplotlibDeprecationWarning: Case-insensitive properties were deprecated in 3.3 and support will be removed two minor releases later\n",
      "  linewidth=linewidth)\n",
      "/home/kessler/.cache/bazel/_bazel_kessler/6ba317d7828f21aa2067abd006e869d3/execroot/bark_project/bazel-out/k8-fastbuild/bin/docs/tutorials/run.runfiles/bark_project/bark/runtime/viewer/matplotlib_viewer.py:49: MatplotlibDeprecationWarning: Case-insensitive properties were deprecated in 3.3 and support will be removed two minor releases later\n",
      "  linewidth=linewidth)\n",
      "/home/kessler/.cache/bazel/_bazel_kessler/6ba317d7828f21aa2067abd006e869d3/execroot/bark_project/bazel-out/k8-fastbuild/bin/docs/tutorials/run.runfiles/bark_project/bark/runtime/viewer/matplotlib_viewer.py:49: MatplotlibDeprecationWarning: Case-insensitive properties were deprecated in 3.3 and support will be removed two minor releases later\n",
      "  linewidth=linewidth)\n",
      "/home/kessler/.cache/bazel/_bazel_kessler/6ba317d7828f21aa2067abd006e869d3/execroot/bark_project/bazel-out/k8-fastbuild/bin/docs/tutorials/run.runfiles/bark_project/bark/runtime/viewer/matplotlib_viewer.py:49: MatplotlibDeprecationWarning: Case-insensitive properties were deprecated in 3.3 and support will be removed two minor releases later\n",
      "  linewidth=linewidth)\n",
      "/home/kessler/.cache/bazel/_bazel_kessler/6ba317d7828f21aa2067abd006e869d3/execroot/bark_project/bazel-out/k8-fastbuild/bin/docs/tutorials/run.runfiles/bark_project/bark/runtime/viewer/matplotlib_viewer.py:49: MatplotlibDeprecationWarning: Case-insensitive properties were deprecated in 3.3 and support will be removed two minor releases later\n",
      "  linewidth=linewidth)\n",
      "/home/kessler/.cache/bazel/_bazel_kessler/6ba317d7828f21aa2067abd006e869d3/execroot/bark_project/bazel-out/k8-fastbuild/bin/docs/tutorials/run.runfiles/bark_project/bark/runtime/viewer/matplotlib_viewer.py:49: MatplotlibDeprecationWarning: Case-insensitive properties were deprecated in 3.3 and support will be removed two minor releases later\n",
      "  linewidth=linewidth)\n",
      "/home/kessler/.cache/bazel/_bazel_kessler/6ba317d7828f21aa2067abd006e869d3/execroot/bark_project/bazel-out/k8-fastbuild/bin/docs/tutorials/run.runfiles/bark_project/bark/runtime/viewer/matplotlib_viewer.py:49: MatplotlibDeprecationWarning: Case-insensitive properties were deprecated in 3.3 and support will be removed two minor releases later\n",
      "  linewidth=linewidth)\n",
      "/home/kessler/.cache/bazel/_bazel_kessler/6ba317d7828f21aa2067abd006e869d3/execroot/bark_project/bazel-out/k8-fastbuild/bin/docs/tutorials/run.runfiles/bark_project/bark/runtime/viewer/matplotlib_viewer.py:49: MatplotlibDeprecationWarning: Case-insensitive properties were deprecated in 3.3 and support will be removed two minor releases later\n",
      "  linewidth=linewidth)\n",
      "/home/kessler/.cache/bazel/_bazel_kessler/6ba317d7828f21aa2067abd006e869d3/execroot/bark_project/bazel-out/k8-fastbuild/bin/docs/tutorials/run.runfiles/bark_project/bark/runtime/viewer/matplotlib_viewer.py:49: MatplotlibDeprecationWarning: Case-insensitive properties were deprecated in 3.3 and support will be removed two minor releases later\n",
      "  linewidth=linewidth)\n"
     ]
    },
    {
     "data": {
      "text/plain": [
       "<Figure size 432x288 with 0 Axes>"
      ]
     },
     "metadata": {},
     "output_type": "display_data"
    },
    {
     "data": {
      "text/plain": [
       "<Figure size 432x288 with 0 Axes>"
      ]
     },
     "metadata": {},
     "output_type": "display_data"
    },
    {
     "name": "stderr",
     "output_type": "stream",
     "text": [
      "/home/kessler/.cache/bazel/_bazel_kessler/6ba317d7828f21aa2067abd006e869d3/execroot/bark_project/bazel-out/k8-fastbuild/bin/docs/tutorials/run.runfiles/bark_project/bark/runtime/viewer/matplotlib_viewer.py:49: MatplotlibDeprecationWarning: Case-insensitive properties were deprecated in 3.3 and support will be removed two minor releases later\n",
      "  linewidth=linewidth)\n",
      "/home/kessler/.cache/bazel/_bazel_kessler/6ba317d7828f21aa2067abd006e869d3/execroot/bark_project/bazel-out/k8-fastbuild/bin/docs/tutorials/run.runfiles/bark_project/bark/runtime/viewer/matplotlib_viewer.py:49: MatplotlibDeprecationWarning: Case-insensitive properties were deprecated in 3.3 and support will be removed two minor releases later\n",
      "  linewidth=linewidth)\n",
      "/home/kessler/.cache/bazel/_bazel_kessler/6ba317d7828f21aa2067abd006e869d3/execroot/bark_project/bazel-out/k8-fastbuild/bin/docs/tutorials/run.runfiles/bark_project/bark/runtime/viewer/matplotlib_viewer.py:49: MatplotlibDeprecationWarning: Case-insensitive properties were deprecated in 3.3 and support will be removed two minor releases later\n",
      "  linewidth=linewidth)\n",
      "/home/kessler/.cache/bazel/_bazel_kessler/6ba317d7828f21aa2067abd006e869d3/execroot/bark_project/bazel-out/k8-fastbuild/bin/docs/tutorials/run.runfiles/bark_project/bark/runtime/viewer/matplotlib_viewer.py:49: MatplotlibDeprecationWarning: Case-insensitive properties were deprecated in 3.3 and support will be removed two minor releases later\n",
      "  linewidth=linewidth)\n",
      "/home/kessler/.cache/bazel/_bazel_kessler/6ba317d7828f21aa2067abd006e869d3/execroot/bark_project/bazel-out/k8-fastbuild/bin/docs/tutorials/run.runfiles/bark_project/bark/runtime/viewer/matplotlib_viewer.py:49: MatplotlibDeprecationWarning: Case-insensitive properties were deprecated in 3.3 and support will be removed two minor releases later\n",
      "  linewidth=linewidth)\n",
      "/home/kessler/.cache/bazel/_bazel_kessler/6ba317d7828f21aa2067abd006e869d3/execroot/bark_project/bazel-out/k8-fastbuild/bin/docs/tutorials/run.runfiles/bark_project/bark/runtime/viewer/matplotlib_viewer.py:49: MatplotlibDeprecationWarning: Case-insensitive properties were deprecated in 3.3 and support will be removed two minor releases later\n",
      "  linewidth=linewidth)\n",
      "/home/kessler/.cache/bazel/_bazel_kessler/6ba317d7828f21aa2067abd006e869d3/execroot/bark_project/bazel-out/k8-fastbuild/bin/docs/tutorials/run.runfiles/bark_project/bark/runtime/viewer/matplotlib_viewer.py:49: MatplotlibDeprecationWarning: Case-insensitive properties were deprecated in 3.3 and support will be removed two minor releases later\n",
      "  linewidth=linewidth)\n",
      "/home/kessler/.cache/bazel/_bazel_kessler/6ba317d7828f21aa2067abd006e869d3/execroot/bark_project/bazel-out/k8-fastbuild/bin/docs/tutorials/run.runfiles/bark_project/bark/runtime/viewer/matplotlib_viewer.py:49: MatplotlibDeprecationWarning: Case-insensitive properties were deprecated in 3.3 and support will be removed two minor releases later\n",
      "  linewidth=linewidth)\n",
      "/home/kessler/.cache/bazel/_bazel_kessler/6ba317d7828f21aa2067abd006e869d3/execroot/bark_project/bazel-out/k8-fastbuild/bin/docs/tutorials/run.runfiles/bark_project/bark/runtime/viewer/matplotlib_viewer.py:49: MatplotlibDeprecationWarning: Case-insensitive properties were deprecated in 3.3 and support will be removed two minor releases later\n",
      "  linewidth=linewidth)\n"
     ]
    },
    {
     "data": {
      "text/plain": [
       "<Figure size 432x288 with 0 Axes>"
      ]
     },
     "metadata": {},
     "output_type": "display_data"
    },
    {
     "data": {
      "text/plain": [
       "<Figure size 432x288 with 0 Axes>"
      ]
     },
     "metadata": {},
     "output_type": "display_data"
    },
    {
     "name": "stderr",
     "output_type": "stream",
     "text": [
      "/home/kessler/.cache/bazel/_bazel_kessler/6ba317d7828f21aa2067abd006e869d3/execroot/bark_project/bazel-out/k8-fastbuild/bin/docs/tutorials/run.runfiles/bark_project/bark/runtime/viewer/matplotlib_viewer.py:49: MatplotlibDeprecationWarning: Case-insensitive properties were deprecated in 3.3 and support will be removed two minor releases later\n",
      "  linewidth=linewidth)\n",
      "/home/kessler/.cache/bazel/_bazel_kessler/6ba317d7828f21aa2067abd006e869d3/execroot/bark_project/bazel-out/k8-fastbuild/bin/docs/tutorials/run.runfiles/bark_project/bark/runtime/viewer/matplotlib_viewer.py:49: MatplotlibDeprecationWarning: Case-insensitive properties were deprecated in 3.3 and support will be removed two minor releases later\n",
      "  linewidth=linewidth)\n",
      "/home/kessler/.cache/bazel/_bazel_kessler/6ba317d7828f21aa2067abd006e869d3/execroot/bark_project/bazel-out/k8-fastbuild/bin/docs/tutorials/run.runfiles/bark_project/bark/runtime/viewer/matplotlib_viewer.py:49: MatplotlibDeprecationWarning: Case-insensitive properties were deprecated in 3.3 and support will be removed two minor releases later\n",
      "  linewidth=linewidth)\n",
      "/home/kessler/.cache/bazel/_bazel_kessler/6ba317d7828f21aa2067abd006e869d3/execroot/bark_project/bazel-out/k8-fastbuild/bin/docs/tutorials/run.runfiles/bark_project/bark/runtime/viewer/matplotlib_viewer.py:49: MatplotlibDeprecationWarning: Case-insensitive properties were deprecated in 3.3 and support will be removed two minor releases later\n",
      "  linewidth=linewidth)\n",
      "/home/kessler/.cache/bazel/_bazel_kessler/6ba317d7828f21aa2067abd006e869d3/execroot/bark_project/bazel-out/k8-fastbuild/bin/docs/tutorials/run.runfiles/bark_project/bark/runtime/viewer/matplotlib_viewer.py:49: MatplotlibDeprecationWarning: Case-insensitive properties were deprecated in 3.3 and support will be removed two minor releases later\n",
      "  linewidth=linewidth)\n",
      "/home/kessler/.cache/bazel/_bazel_kessler/6ba317d7828f21aa2067abd006e869d3/execroot/bark_project/bazel-out/k8-fastbuild/bin/docs/tutorials/run.runfiles/bark_project/bark/runtime/viewer/matplotlib_viewer.py:49: MatplotlibDeprecationWarning: Case-insensitive properties were deprecated in 3.3 and support will be removed two minor releases later\n",
      "  linewidth=linewidth)\n",
      "/home/kessler/.cache/bazel/_bazel_kessler/6ba317d7828f21aa2067abd006e869d3/execroot/bark_project/bazel-out/k8-fastbuild/bin/docs/tutorials/run.runfiles/bark_project/bark/runtime/viewer/matplotlib_viewer.py:49: MatplotlibDeprecationWarning: Case-insensitive properties were deprecated in 3.3 and support will be removed two minor releases later\n",
      "  linewidth=linewidth)\n",
      "/home/kessler/.cache/bazel/_bazel_kessler/6ba317d7828f21aa2067abd006e869d3/execroot/bark_project/bazel-out/k8-fastbuild/bin/docs/tutorials/run.runfiles/bark_project/bark/runtime/viewer/matplotlib_viewer.py:49: MatplotlibDeprecationWarning: Case-insensitive properties were deprecated in 3.3 and support will be removed two minor releases later\n",
      "  linewidth=linewidth)\n",
      "/home/kessler/.cache/bazel/_bazel_kessler/6ba317d7828f21aa2067abd006e869d3/execroot/bark_project/bazel-out/k8-fastbuild/bin/docs/tutorials/run.runfiles/bark_project/bark/runtime/viewer/matplotlib_viewer.py:49: MatplotlibDeprecationWarning: Case-insensitive properties were deprecated in 3.3 and support will be removed two minor releases later\n",
      "  linewidth=linewidth)\n"
     ]
    },
    {
     "data": {
      "text/plain": [
       "<Figure size 432x288 with 0 Axes>"
      ]
     },
     "metadata": {},
     "output_type": "display_data"
    },
    {
     "data": {
      "text/plain": [
       "<Figure size 432x288 with 0 Axes>"
      ]
     },
     "metadata": {},
     "output_type": "display_data"
    },
    {
     "name": "stderr",
     "output_type": "stream",
     "text": [
      "/home/kessler/.cache/bazel/_bazel_kessler/6ba317d7828f21aa2067abd006e869d3/execroot/bark_project/bazel-out/k8-fastbuild/bin/docs/tutorials/run.runfiles/bark_project/bark/runtime/viewer/matplotlib_viewer.py:49: MatplotlibDeprecationWarning: Case-insensitive properties were deprecated in 3.3 and support will be removed two minor releases later\n",
      "  linewidth=linewidth)\n",
      "/home/kessler/.cache/bazel/_bazel_kessler/6ba317d7828f21aa2067abd006e869d3/execroot/bark_project/bazel-out/k8-fastbuild/bin/docs/tutorials/run.runfiles/bark_project/bark/runtime/viewer/matplotlib_viewer.py:49: MatplotlibDeprecationWarning: Case-insensitive properties were deprecated in 3.3 and support will be removed two minor releases later\n",
      "  linewidth=linewidth)\n",
      "/home/kessler/.cache/bazel/_bazel_kessler/6ba317d7828f21aa2067abd006e869d3/execroot/bark_project/bazel-out/k8-fastbuild/bin/docs/tutorials/run.runfiles/bark_project/bark/runtime/viewer/matplotlib_viewer.py:49: MatplotlibDeprecationWarning: Case-insensitive properties were deprecated in 3.3 and support will be removed two minor releases later\n",
      "  linewidth=linewidth)\n",
      "/home/kessler/.cache/bazel/_bazel_kessler/6ba317d7828f21aa2067abd006e869d3/execroot/bark_project/bazel-out/k8-fastbuild/bin/docs/tutorials/run.runfiles/bark_project/bark/runtime/viewer/matplotlib_viewer.py:49: MatplotlibDeprecationWarning: Case-insensitive properties were deprecated in 3.3 and support will be removed two minor releases later\n",
      "  linewidth=linewidth)\n",
      "/home/kessler/.cache/bazel/_bazel_kessler/6ba317d7828f21aa2067abd006e869d3/execroot/bark_project/bazel-out/k8-fastbuild/bin/docs/tutorials/run.runfiles/bark_project/bark/runtime/viewer/matplotlib_viewer.py:49: MatplotlibDeprecationWarning: Case-insensitive properties were deprecated in 3.3 and support will be removed two minor releases later\n",
      "  linewidth=linewidth)\n",
      "/home/kessler/.cache/bazel/_bazel_kessler/6ba317d7828f21aa2067abd006e869d3/execroot/bark_project/bazel-out/k8-fastbuild/bin/docs/tutorials/run.runfiles/bark_project/bark/runtime/viewer/matplotlib_viewer.py:49: MatplotlibDeprecationWarning: Case-insensitive properties were deprecated in 3.3 and support will be removed two minor releases later\n",
      "  linewidth=linewidth)\n",
      "/home/kessler/.cache/bazel/_bazel_kessler/6ba317d7828f21aa2067abd006e869d3/execroot/bark_project/bazel-out/k8-fastbuild/bin/docs/tutorials/run.runfiles/bark_project/bark/runtime/viewer/matplotlib_viewer.py:49: MatplotlibDeprecationWarning: Case-insensitive properties were deprecated in 3.3 and support will be removed two minor releases later\n",
      "  linewidth=linewidth)\n",
      "/home/kessler/.cache/bazel/_bazel_kessler/6ba317d7828f21aa2067abd006e869d3/execroot/bark_project/bazel-out/k8-fastbuild/bin/docs/tutorials/run.runfiles/bark_project/bark/runtime/viewer/matplotlib_viewer.py:49: MatplotlibDeprecationWarning: Case-insensitive properties were deprecated in 3.3 and support will be removed two minor releases later\n",
      "  linewidth=linewidth)\n",
      "/home/kessler/.cache/bazel/_bazel_kessler/6ba317d7828f21aa2067abd006e869d3/execroot/bark_project/bazel-out/k8-fastbuild/bin/docs/tutorials/run.runfiles/bark_project/bark/runtime/viewer/matplotlib_viewer.py:49: MatplotlibDeprecationWarning: Case-insensitive properties were deprecated in 3.3 and support will be removed two minor releases later\n",
      "  linewidth=linewidth)\n"
     ]
    },
    {
     "data": {
      "text/plain": [
       "<Figure size 432x288 with 0 Axes>"
      ]
     },
     "metadata": {},
     "output_type": "display_data"
    },
    {
     "data": {
      "text/plain": [
       "<Figure size 432x288 with 0 Axes>"
      ]
     },
     "metadata": {},
     "output_type": "display_data"
    },
    {
     "name": "stderr",
     "output_type": "stream",
     "text": [
      "/home/kessler/.cache/bazel/_bazel_kessler/6ba317d7828f21aa2067abd006e869d3/execroot/bark_project/bazel-out/k8-fastbuild/bin/docs/tutorials/run.runfiles/bark_project/bark/runtime/viewer/matplotlib_viewer.py:49: MatplotlibDeprecationWarning: Case-insensitive properties were deprecated in 3.3 and support will be removed two minor releases later\n",
      "  linewidth=linewidth)\n",
      "/home/kessler/.cache/bazel/_bazel_kessler/6ba317d7828f21aa2067abd006e869d3/execroot/bark_project/bazel-out/k8-fastbuild/bin/docs/tutorials/run.runfiles/bark_project/bark/runtime/viewer/matplotlib_viewer.py:49: MatplotlibDeprecationWarning: Case-insensitive properties were deprecated in 3.3 and support will be removed two minor releases later\n",
      "  linewidth=linewidth)\n",
      "/home/kessler/.cache/bazel/_bazel_kessler/6ba317d7828f21aa2067abd006e869d3/execroot/bark_project/bazel-out/k8-fastbuild/bin/docs/tutorials/run.runfiles/bark_project/bark/runtime/viewer/matplotlib_viewer.py:49: MatplotlibDeprecationWarning: Case-insensitive properties were deprecated in 3.3 and support will be removed two minor releases later\n",
      "  linewidth=linewidth)\n",
      "/home/kessler/.cache/bazel/_bazel_kessler/6ba317d7828f21aa2067abd006e869d3/execroot/bark_project/bazel-out/k8-fastbuild/bin/docs/tutorials/run.runfiles/bark_project/bark/runtime/viewer/matplotlib_viewer.py:49: MatplotlibDeprecationWarning: Case-insensitive properties were deprecated in 3.3 and support will be removed two minor releases later\n",
      "  linewidth=linewidth)\n",
      "/home/kessler/.cache/bazel/_bazel_kessler/6ba317d7828f21aa2067abd006e869d3/execroot/bark_project/bazel-out/k8-fastbuild/bin/docs/tutorials/run.runfiles/bark_project/bark/runtime/viewer/matplotlib_viewer.py:49: MatplotlibDeprecationWarning: Case-insensitive properties were deprecated in 3.3 and support will be removed two minor releases later\n",
      "  linewidth=linewidth)\n",
      "/home/kessler/.cache/bazel/_bazel_kessler/6ba317d7828f21aa2067abd006e869d3/execroot/bark_project/bazel-out/k8-fastbuild/bin/docs/tutorials/run.runfiles/bark_project/bark/runtime/viewer/matplotlib_viewer.py:49: MatplotlibDeprecationWarning: Case-insensitive properties were deprecated in 3.3 and support will be removed two minor releases later\n",
      "  linewidth=linewidth)\n",
      "/home/kessler/.cache/bazel/_bazel_kessler/6ba317d7828f21aa2067abd006e869d3/execroot/bark_project/bazel-out/k8-fastbuild/bin/docs/tutorials/run.runfiles/bark_project/bark/runtime/viewer/matplotlib_viewer.py:49: MatplotlibDeprecationWarning: Case-insensitive properties were deprecated in 3.3 and support will be removed two minor releases later\n",
      "  linewidth=linewidth)\n",
      "/home/kessler/.cache/bazel/_bazel_kessler/6ba317d7828f21aa2067abd006e869d3/execroot/bark_project/bazel-out/k8-fastbuild/bin/docs/tutorials/run.runfiles/bark_project/bark/runtime/viewer/matplotlib_viewer.py:49: MatplotlibDeprecationWarning: Case-insensitive properties were deprecated in 3.3 and support will be removed two minor releases later\n",
      "  linewidth=linewidth)\n",
      "/home/kessler/.cache/bazel/_bazel_kessler/6ba317d7828f21aa2067abd006e869d3/execroot/bark_project/bazel-out/k8-fastbuild/bin/docs/tutorials/run.runfiles/bark_project/bark/runtime/viewer/matplotlib_viewer.py:49: MatplotlibDeprecationWarning: Case-insensitive properties were deprecated in 3.3 and support will be removed two minor releases later\n",
      "  linewidth=linewidth)\n"
     ]
    },
    {
     "data": {
      "text/plain": [
       "<Figure size 432x288 with 0 Axes>"
      ]
     },
     "metadata": {},
     "output_type": "display_data"
    },
    {
     "data": {
      "text/plain": [
       "<Figure size 432x288 with 0 Axes>"
      ]
     },
     "metadata": {},
     "output_type": "display_data"
    },
    {
     "name": "stderr",
     "output_type": "stream",
     "text": [
      "/home/kessler/.cache/bazel/_bazel_kessler/6ba317d7828f21aa2067abd006e869d3/execroot/bark_project/bazel-out/k8-fastbuild/bin/docs/tutorials/run.runfiles/bark_project/bark/runtime/viewer/matplotlib_viewer.py:49: MatplotlibDeprecationWarning: Case-insensitive properties were deprecated in 3.3 and support will be removed two minor releases later\n",
      "  linewidth=linewidth)\n",
      "/home/kessler/.cache/bazel/_bazel_kessler/6ba317d7828f21aa2067abd006e869d3/execroot/bark_project/bazel-out/k8-fastbuild/bin/docs/tutorials/run.runfiles/bark_project/bark/runtime/viewer/matplotlib_viewer.py:49: MatplotlibDeprecationWarning: Case-insensitive properties were deprecated in 3.3 and support will be removed two minor releases later\n",
      "  linewidth=linewidth)\n",
      "/home/kessler/.cache/bazel/_bazel_kessler/6ba317d7828f21aa2067abd006e869d3/execroot/bark_project/bazel-out/k8-fastbuild/bin/docs/tutorials/run.runfiles/bark_project/bark/runtime/viewer/matplotlib_viewer.py:49: MatplotlibDeprecationWarning: Case-insensitive properties were deprecated in 3.3 and support will be removed two minor releases later\n",
      "  linewidth=linewidth)\n",
      "/home/kessler/.cache/bazel/_bazel_kessler/6ba317d7828f21aa2067abd006e869d3/execroot/bark_project/bazel-out/k8-fastbuild/bin/docs/tutorials/run.runfiles/bark_project/bark/runtime/viewer/matplotlib_viewer.py:49: MatplotlibDeprecationWarning: Case-insensitive properties were deprecated in 3.3 and support will be removed two minor releases later\n",
      "  linewidth=linewidth)\n",
      "/home/kessler/.cache/bazel/_bazel_kessler/6ba317d7828f21aa2067abd006e869d3/execroot/bark_project/bazel-out/k8-fastbuild/bin/docs/tutorials/run.runfiles/bark_project/bark/runtime/viewer/matplotlib_viewer.py:49: MatplotlibDeprecationWarning: Case-insensitive properties were deprecated in 3.3 and support will be removed two minor releases later\n",
      "  linewidth=linewidth)\n",
      "/home/kessler/.cache/bazel/_bazel_kessler/6ba317d7828f21aa2067abd006e869d3/execroot/bark_project/bazel-out/k8-fastbuild/bin/docs/tutorials/run.runfiles/bark_project/bark/runtime/viewer/matplotlib_viewer.py:49: MatplotlibDeprecationWarning: Case-insensitive properties were deprecated in 3.3 and support will be removed two minor releases later\n",
      "  linewidth=linewidth)\n",
      "/home/kessler/.cache/bazel/_bazel_kessler/6ba317d7828f21aa2067abd006e869d3/execroot/bark_project/bazel-out/k8-fastbuild/bin/docs/tutorials/run.runfiles/bark_project/bark/runtime/viewer/matplotlib_viewer.py:49: MatplotlibDeprecationWarning: Case-insensitive properties were deprecated in 3.3 and support will be removed two minor releases later\n",
      "  linewidth=linewidth)\n",
      "/home/kessler/.cache/bazel/_bazel_kessler/6ba317d7828f21aa2067abd006e869d3/execroot/bark_project/bazel-out/k8-fastbuild/bin/docs/tutorials/run.runfiles/bark_project/bark/runtime/viewer/matplotlib_viewer.py:49: MatplotlibDeprecationWarning: Case-insensitive properties were deprecated in 3.3 and support will be removed two minor releases later\n",
      "  linewidth=linewidth)\n",
      "/home/kessler/.cache/bazel/_bazel_kessler/6ba317d7828f21aa2067abd006e869d3/execroot/bark_project/bazel-out/k8-fastbuild/bin/docs/tutorials/run.runfiles/bark_project/bark/runtime/viewer/matplotlib_viewer.py:49: MatplotlibDeprecationWarning: Case-insensitive properties were deprecated in 3.3 and support will be removed two minor releases later\n",
      "  linewidth=linewidth)\n"
     ]
    },
    {
     "data": {
      "text/plain": [
       "<Figure size 432x288 with 0 Axes>"
      ]
     },
     "metadata": {},
     "output_type": "display_data"
    },
    {
     "data": {
      "text/plain": [
       "<Figure size 432x288 with 0 Axes>"
      ]
     },
     "metadata": {},
     "output_type": "display_data"
    },
    {
     "name": "stderr",
     "output_type": "stream",
     "text": [
      "/home/kessler/.cache/bazel/_bazel_kessler/6ba317d7828f21aa2067abd006e869d3/execroot/bark_project/bazel-out/k8-fastbuild/bin/docs/tutorials/run.runfiles/bark_project/bark/runtime/viewer/matplotlib_viewer.py:49: MatplotlibDeprecationWarning: Case-insensitive properties were deprecated in 3.3 and support will be removed two minor releases later\n",
      "  linewidth=linewidth)\n",
      "/home/kessler/.cache/bazel/_bazel_kessler/6ba317d7828f21aa2067abd006e869d3/execroot/bark_project/bazel-out/k8-fastbuild/bin/docs/tutorials/run.runfiles/bark_project/bark/runtime/viewer/matplotlib_viewer.py:49: MatplotlibDeprecationWarning: Case-insensitive properties were deprecated in 3.3 and support will be removed two minor releases later\n",
      "  linewidth=linewidth)\n",
      "/home/kessler/.cache/bazel/_bazel_kessler/6ba317d7828f21aa2067abd006e869d3/execroot/bark_project/bazel-out/k8-fastbuild/bin/docs/tutorials/run.runfiles/bark_project/bark/runtime/viewer/matplotlib_viewer.py:49: MatplotlibDeprecationWarning: Case-insensitive properties were deprecated in 3.3 and support will be removed two minor releases later\n",
      "  linewidth=linewidth)\n",
      "/home/kessler/.cache/bazel/_bazel_kessler/6ba317d7828f21aa2067abd006e869d3/execroot/bark_project/bazel-out/k8-fastbuild/bin/docs/tutorials/run.runfiles/bark_project/bark/runtime/viewer/matplotlib_viewer.py:49: MatplotlibDeprecationWarning: Case-insensitive properties were deprecated in 3.3 and support will be removed two minor releases later\n",
      "  linewidth=linewidth)\n",
      "/home/kessler/.cache/bazel/_bazel_kessler/6ba317d7828f21aa2067abd006e869d3/execroot/bark_project/bazel-out/k8-fastbuild/bin/docs/tutorials/run.runfiles/bark_project/bark/runtime/viewer/matplotlib_viewer.py:49: MatplotlibDeprecationWarning: Case-insensitive properties were deprecated in 3.3 and support will be removed two minor releases later\n",
      "  linewidth=linewidth)\n",
      "/home/kessler/.cache/bazel/_bazel_kessler/6ba317d7828f21aa2067abd006e869d3/execroot/bark_project/bazel-out/k8-fastbuild/bin/docs/tutorials/run.runfiles/bark_project/bark/runtime/viewer/matplotlib_viewer.py:49: MatplotlibDeprecationWarning: Case-insensitive properties were deprecated in 3.3 and support will be removed two minor releases later\n",
      "  linewidth=linewidth)\n",
      "/home/kessler/.cache/bazel/_bazel_kessler/6ba317d7828f21aa2067abd006e869d3/execroot/bark_project/bazel-out/k8-fastbuild/bin/docs/tutorials/run.runfiles/bark_project/bark/runtime/viewer/matplotlib_viewer.py:49: MatplotlibDeprecationWarning: Case-insensitive properties were deprecated in 3.3 and support will be removed two minor releases later\n",
      "  linewidth=linewidth)\n",
      "/home/kessler/.cache/bazel/_bazel_kessler/6ba317d7828f21aa2067abd006e869d3/execroot/bark_project/bazel-out/k8-fastbuild/bin/docs/tutorials/run.runfiles/bark_project/bark/runtime/viewer/matplotlib_viewer.py:49: MatplotlibDeprecationWarning: Case-insensitive properties were deprecated in 3.3 and support will be removed two minor releases later\n",
      "  linewidth=linewidth)\n",
      "/home/kessler/.cache/bazel/_bazel_kessler/6ba317d7828f21aa2067abd006e869d3/execroot/bark_project/bazel-out/k8-fastbuild/bin/docs/tutorials/run.runfiles/bark_project/bark/runtime/viewer/matplotlib_viewer.py:49: MatplotlibDeprecationWarning: Case-insensitive properties were deprecated in 3.3 and support will be removed two minor releases later\n",
      "  linewidth=linewidth)\n"
     ]
    },
    {
     "data": {
      "text/plain": [
       "<Figure size 432x288 with 0 Axes>"
      ]
     },
     "metadata": {},
     "output_type": "display_data"
    },
    {
     "data": {
      "text/plain": [
       "<Figure size 432x288 with 0 Axes>"
      ]
     },
     "metadata": {},
     "output_type": "display_data"
    },
    {
     "name": "stderr",
     "output_type": "stream",
     "text": [
      "/home/kessler/.cache/bazel/_bazel_kessler/6ba317d7828f21aa2067abd006e869d3/execroot/bark_project/bazel-out/k8-fastbuild/bin/docs/tutorials/run.runfiles/bark_project/bark/runtime/viewer/matplotlib_viewer.py:49: MatplotlibDeprecationWarning: Case-insensitive properties were deprecated in 3.3 and support will be removed two minor releases later\n",
      "  linewidth=linewidth)\n",
      "/home/kessler/.cache/bazel/_bazel_kessler/6ba317d7828f21aa2067abd006e869d3/execroot/bark_project/bazel-out/k8-fastbuild/bin/docs/tutorials/run.runfiles/bark_project/bark/runtime/viewer/matplotlib_viewer.py:49: MatplotlibDeprecationWarning: Case-insensitive properties were deprecated in 3.3 and support will be removed two minor releases later\n",
      "  linewidth=linewidth)\n",
      "/home/kessler/.cache/bazel/_bazel_kessler/6ba317d7828f21aa2067abd006e869d3/execroot/bark_project/bazel-out/k8-fastbuild/bin/docs/tutorials/run.runfiles/bark_project/bark/runtime/viewer/matplotlib_viewer.py:49: MatplotlibDeprecationWarning: Case-insensitive properties were deprecated in 3.3 and support will be removed two minor releases later\n",
      "  linewidth=linewidth)\n",
      "/home/kessler/.cache/bazel/_bazel_kessler/6ba317d7828f21aa2067abd006e869d3/execroot/bark_project/bazel-out/k8-fastbuild/bin/docs/tutorials/run.runfiles/bark_project/bark/runtime/viewer/matplotlib_viewer.py:49: MatplotlibDeprecationWarning: Case-insensitive properties were deprecated in 3.3 and support will be removed two minor releases later\n",
      "  linewidth=linewidth)\n",
      "/home/kessler/.cache/bazel/_bazel_kessler/6ba317d7828f21aa2067abd006e869d3/execroot/bark_project/bazel-out/k8-fastbuild/bin/docs/tutorials/run.runfiles/bark_project/bark/runtime/viewer/matplotlib_viewer.py:49: MatplotlibDeprecationWarning: Case-insensitive properties were deprecated in 3.3 and support will be removed two minor releases later\n",
      "  linewidth=linewidth)\n",
      "/home/kessler/.cache/bazel/_bazel_kessler/6ba317d7828f21aa2067abd006e869d3/execroot/bark_project/bazel-out/k8-fastbuild/bin/docs/tutorials/run.runfiles/bark_project/bark/runtime/viewer/matplotlib_viewer.py:49: MatplotlibDeprecationWarning: Case-insensitive properties were deprecated in 3.3 and support will be removed two minor releases later\n",
      "  linewidth=linewidth)\n",
      "/home/kessler/.cache/bazel/_bazel_kessler/6ba317d7828f21aa2067abd006e869d3/execroot/bark_project/bazel-out/k8-fastbuild/bin/docs/tutorials/run.runfiles/bark_project/bark/runtime/viewer/matplotlib_viewer.py:49: MatplotlibDeprecationWarning: Case-insensitive properties were deprecated in 3.3 and support will be removed two minor releases later\n",
      "  linewidth=linewidth)\n",
      "/home/kessler/.cache/bazel/_bazel_kessler/6ba317d7828f21aa2067abd006e869d3/execroot/bark_project/bazel-out/k8-fastbuild/bin/docs/tutorials/run.runfiles/bark_project/bark/runtime/viewer/matplotlib_viewer.py:49: MatplotlibDeprecationWarning: Case-insensitive properties were deprecated in 3.3 and support will be removed two minor releases later\n",
      "  linewidth=linewidth)\n",
      "/home/kessler/.cache/bazel/_bazel_kessler/6ba317d7828f21aa2067abd006e869d3/execroot/bark_project/bazel-out/k8-fastbuild/bin/docs/tutorials/run.runfiles/bark_project/bark/runtime/viewer/matplotlib_viewer.py:49: MatplotlibDeprecationWarning: Case-insensitive properties were deprecated in 3.3 and support will be removed two minor releases later\n",
      "  linewidth=linewidth)\n"
     ]
    },
    {
     "data": {
      "text/plain": [
       "<Figure size 432x288 with 0 Axes>"
      ]
     },
     "metadata": {},
     "output_type": "display_data"
    },
    {
     "data": {
      "text/plain": [
       "<Figure size 432x288 with 0 Axes>"
      ]
     },
     "metadata": {},
     "output_type": "display_data"
    },
    {
     "name": "stderr",
     "output_type": "stream",
     "text": [
      "/home/kessler/.cache/bazel/_bazel_kessler/6ba317d7828f21aa2067abd006e869d3/execroot/bark_project/bazel-out/k8-fastbuild/bin/docs/tutorials/run.runfiles/bark_project/bark/runtime/viewer/matplotlib_viewer.py:49: MatplotlibDeprecationWarning: Case-insensitive properties were deprecated in 3.3 and support will be removed two minor releases later\n",
      "  linewidth=linewidth)\n",
      "/home/kessler/.cache/bazel/_bazel_kessler/6ba317d7828f21aa2067abd006e869d3/execroot/bark_project/bazel-out/k8-fastbuild/bin/docs/tutorials/run.runfiles/bark_project/bark/runtime/viewer/matplotlib_viewer.py:49: MatplotlibDeprecationWarning: Case-insensitive properties were deprecated in 3.3 and support will be removed two minor releases later\n",
      "  linewidth=linewidth)\n",
      "/home/kessler/.cache/bazel/_bazel_kessler/6ba317d7828f21aa2067abd006e869d3/execroot/bark_project/bazel-out/k8-fastbuild/bin/docs/tutorials/run.runfiles/bark_project/bark/runtime/viewer/matplotlib_viewer.py:49: MatplotlibDeprecationWarning: Case-insensitive properties were deprecated in 3.3 and support will be removed two minor releases later\n",
      "  linewidth=linewidth)\n",
      "/home/kessler/.cache/bazel/_bazel_kessler/6ba317d7828f21aa2067abd006e869d3/execroot/bark_project/bazel-out/k8-fastbuild/bin/docs/tutorials/run.runfiles/bark_project/bark/runtime/viewer/matplotlib_viewer.py:49: MatplotlibDeprecationWarning: Case-insensitive properties were deprecated in 3.3 and support will be removed two minor releases later\n",
      "  linewidth=linewidth)\n",
      "/home/kessler/.cache/bazel/_bazel_kessler/6ba317d7828f21aa2067abd006e869d3/execroot/bark_project/bazel-out/k8-fastbuild/bin/docs/tutorials/run.runfiles/bark_project/bark/runtime/viewer/matplotlib_viewer.py:49: MatplotlibDeprecationWarning: Case-insensitive properties were deprecated in 3.3 and support will be removed two minor releases later\n",
      "  linewidth=linewidth)\n",
      "/home/kessler/.cache/bazel/_bazel_kessler/6ba317d7828f21aa2067abd006e869d3/execroot/bark_project/bazel-out/k8-fastbuild/bin/docs/tutorials/run.runfiles/bark_project/bark/runtime/viewer/matplotlib_viewer.py:49: MatplotlibDeprecationWarning: Case-insensitive properties were deprecated in 3.3 and support will be removed two minor releases later\n",
      "  linewidth=linewidth)\n",
      "/home/kessler/.cache/bazel/_bazel_kessler/6ba317d7828f21aa2067abd006e869d3/execroot/bark_project/bazel-out/k8-fastbuild/bin/docs/tutorials/run.runfiles/bark_project/bark/runtime/viewer/matplotlib_viewer.py:49: MatplotlibDeprecationWarning: Case-insensitive properties were deprecated in 3.3 and support will be removed two minor releases later\n",
      "  linewidth=linewidth)\n",
      "/home/kessler/.cache/bazel/_bazel_kessler/6ba317d7828f21aa2067abd006e869d3/execroot/bark_project/bazel-out/k8-fastbuild/bin/docs/tutorials/run.runfiles/bark_project/bark/runtime/viewer/matplotlib_viewer.py:49: MatplotlibDeprecationWarning: Case-insensitive properties were deprecated in 3.3 and support will be removed two minor releases later\n",
      "  linewidth=linewidth)\n",
      "/home/kessler/.cache/bazel/_bazel_kessler/6ba317d7828f21aa2067abd006e869d3/execroot/bark_project/bazel-out/k8-fastbuild/bin/docs/tutorials/run.runfiles/bark_project/bark/runtime/viewer/matplotlib_viewer.py:49: MatplotlibDeprecationWarning: Case-insensitive properties were deprecated in 3.3 and support will be removed two minor releases later\n",
      "  linewidth=linewidth)\n"
     ]
    },
    {
     "data": {
      "text/plain": [
       "<Figure size 432x288 with 0 Axes>"
      ]
     },
     "metadata": {},
     "output_type": "display_data"
    },
    {
     "data": {
      "text/plain": [
       "<Figure size 432x288 with 0 Axes>"
      ]
     },
     "metadata": {},
     "output_type": "display_data"
    },
    {
     "name": "stderr",
     "output_type": "stream",
     "text": [
      "/home/kessler/.cache/bazel/_bazel_kessler/6ba317d7828f21aa2067abd006e869d3/execroot/bark_project/bazel-out/k8-fastbuild/bin/docs/tutorials/run.runfiles/bark_project/bark/runtime/viewer/matplotlib_viewer.py:49: MatplotlibDeprecationWarning: Case-insensitive properties were deprecated in 3.3 and support will be removed two minor releases later\n",
      "  linewidth=linewidth)\n",
      "/home/kessler/.cache/bazel/_bazel_kessler/6ba317d7828f21aa2067abd006e869d3/execroot/bark_project/bazel-out/k8-fastbuild/bin/docs/tutorials/run.runfiles/bark_project/bark/runtime/viewer/matplotlib_viewer.py:49: MatplotlibDeprecationWarning: Case-insensitive properties were deprecated in 3.3 and support will be removed two minor releases later\n",
      "  linewidth=linewidth)\n",
      "/home/kessler/.cache/bazel/_bazel_kessler/6ba317d7828f21aa2067abd006e869d3/execroot/bark_project/bazel-out/k8-fastbuild/bin/docs/tutorials/run.runfiles/bark_project/bark/runtime/viewer/matplotlib_viewer.py:49: MatplotlibDeprecationWarning: Case-insensitive properties were deprecated in 3.3 and support will be removed two minor releases later\n",
      "  linewidth=linewidth)\n",
      "/home/kessler/.cache/bazel/_bazel_kessler/6ba317d7828f21aa2067abd006e869d3/execroot/bark_project/bazel-out/k8-fastbuild/bin/docs/tutorials/run.runfiles/bark_project/bark/runtime/viewer/matplotlib_viewer.py:49: MatplotlibDeprecationWarning: Case-insensitive properties were deprecated in 3.3 and support will be removed two minor releases later\n",
      "  linewidth=linewidth)\n",
      "/home/kessler/.cache/bazel/_bazel_kessler/6ba317d7828f21aa2067abd006e869d3/execroot/bark_project/bazel-out/k8-fastbuild/bin/docs/tutorials/run.runfiles/bark_project/bark/runtime/viewer/matplotlib_viewer.py:49: MatplotlibDeprecationWarning: Case-insensitive properties were deprecated in 3.3 and support will be removed two minor releases later\n",
      "  linewidth=linewidth)\n",
      "/home/kessler/.cache/bazel/_bazel_kessler/6ba317d7828f21aa2067abd006e869d3/execroot/bark_project/bazel-out/k8-fastbuild/bin/docs/tutorials/run.runfiles/bark_project/bark/runtime/viewer/matplotlib_viewer.py:49: MatplotlibDeprecationWarning: Case-insensitive properties were deprecated in 3.3 and support will be removed two minor releases later\n",
      "  linewidth=linewidth)\n",
      "/home/kessler/.cache/bazel/_bazel_kessler/6ba317d7828f21aa2067abd006e869d3/execroot/bark_project/bazel-out/k8-fastbuild/bin/docs/tutorials/run.runfiles/bark_project/bark/runtime/viewer/matplotlib_viewer.py:49: MatplotlibDeprecationWarning: Case-insensitive properties were deprecated in 3.3 and support will be removed two minor releases later\n",
      "  linewidth=linewidth)\n",
      "/home/kessler/.cache/bazel/_bazel_kessler/6ba317d7828f21aa2067abd006e869d3/execroot/bark_project/bazel-out/k8-fastbuild/bin/docs/tutorials/run.runfiles/bark_project/bark/runtime/viewer/matplotlib_viewer.py:49: MatplotlibDeprecationWarning: Case-insensitive properties were deprecated in 3.3 and support will be removed two minor releases later\n",
      "  linewidth=linewidth)\n",
      "/home/kessler/.cache/bazel/_bazel_kessler/6ba317d7828f21aa2067abd006e869d3/execroot/bark_project/bazel-out/k8-fastbuild/bin/docs/tutorials/run.runfiles/bark_project/bark/runtime/viewer/matplotlib_viewer.py:49: MatplotlibDeprecationWarning: Case-insensitive properties were deprecated in 3.3 and support will be removed two minor releases later\n",
      "  linewidth=linewidth)\n"
     ]
    },
    {
     "data": {
      "text/plain": [
       "<Figure size 432x288 with 0 Axes>"
      ]
     },
     "metadata": {},
     "output_type": "display_data"
    },
    {
     "data": {
      "text/plain": [
       "<Figure size 432x288 with 0 Axes>"
      ]
     },
     "metadata": {},
     "output_type": "display_data"
    },
    {
     "name": "stderr",
     "output_type": "stream",
     "text": [
      "/home/kessler/.cache/bazel/_bazel_kessler/6ba317d7828f21aa2067abd006e869d3/execroot/bark_project/bazel-out/k8-fastbuild/bin/docs/tutorials/run.runfiles/bark_project/bark/runtime/viewer/matplotlib_viewer.py:49: MatplotlibDeprecationWarning: Case-insensitive properties were deprecated in 3.3 and support will be removed two minor releases later\n",
      "  linewidth=linewidth)\n",
      "/home/kessler/.cache/bazel/_bazel_kessler/6ba317d7828f21aa2067abd006e869d3/execroot/bark_project/bazel-out/k8-fastbuild/bin/docs/tutorials/run.runfiles/bark_project/bark/runtime/viewer/matplotlib_viewer.py:49: MatplotlibDeprecationWarning: Case-insensitive properties were deprecated in 3.3 and support will be removed two minor releases later\n",
      "  linewidth=linewidth)\n",
      "/home/kessler/.cache/bazel/_bazel_kessler/6ba317d7828f21aa2067abd006e869d3/execroot/bark_project/bazel-out/k8-fastbuild/bin/docs/tutorials/run.runfiles/bark_project/bark/runtime/viewer/matplotlib_viewer.py:49: MatplotlibDeprecationWarning: Case-insensitive properties were deprecated in 3.3 and support will be removed two minor releases later\n",
      "  linewidth=linewidth)\n",
      "/home/kessler/.cache/bazel/_bazel_kessler/6ba317d7828f21aa2067abd006e869d3/execroot/bark_project/bazel-out/k8-fastbuild/bin/docs/tutorials/run.runfiles/bark_project/bark/runtime/viewer/matplotlib_viewer.py:49: MatplotlibDeprecationWarning: Case-insensitive properties were deprecated in 3.3 and support will be removed two minor releases later\n",
      "  linewidth=linewidth)\n",
      "/home/kessler/.cache/bazel/_bazel_kessler/6ba317d7828f21aa2067abd006e869d3/execroot/bark_project/bazel-out/k8-fastbuild/bin/docs/tutorials/run.runfiles/bark_project/bark/runtime/viewer/matplotlib_viewer.py:49: MatplotlibDeprecationWarning: Case-insensitive properties were deprecated in 3.3 and support will be removed two minor releases later\n",
      "  linewidth=linewidth)\n",
      "/home/kessler/.cache/bazel/_bazel_kessler/6ba317d7828f21aa2067abd006e869d3/execroot/bark_project/bazel-out/k8-fastbuild/bin/docs/tutorials/run.runfiles/bark_project/bark/runtime/viewer/matplotlib_viewer.py:49: MatplotlibDeprecationWarning: Case-insensitive properties were deprecated in 3.3 and support will be removed two minor releases later\n",
      "  linewidth=linewidth)\n",
      "/home/kessler/.cache/bazel/_bazel_kessler/6ba317d7828f21aa2067abd006e869d3/execroot/bark_project/bazel-out/k8-fastbuild/bin/docs/tutorials/run.runfiles/bark_project/bark/runtime/viewer/matplotlib_viewer.py:49: MatplotlibDeprecationWarning: Case-insensitive properties were deprecated in 3.3 and support will be removed two minor releases later\n",
      "  linewidth=linewidth)\n",
      "/home/kessler/.cache/bazel/_bazel_kessler/6ba317d7828f21aa2067abd006e869d3/execroot/bark_project/bazel-out/k8-fastbuild/bin/docs/tutorials/run.runfiles/bark_project/bark/runtime/viewer/matplotlib_viewer.py:49: MatplotlibDeprecationWarning: Case-insensitive properties were deprecated in 3.3 and support will be removed two minor releases later\n",
      "  linewidth=linewidth)\n",
      "/home/kessler/.cache/bazel/_bazel_kessler/6ba317d7828f21aa2067abd006e869d3/execroot/bark_project/bazel-out/k8-fastbuild/bin/docs/tutorials/run.runfiles/bark_project/bark/runtime/viewer/matplotlib_viewer.py:49: MatplotlibDeprecationWarning: Case-insensitive properties were deprecated in 3.3 and support will be removed two minor releases later\n",
      "  linewidth=linewidth)\n"
     ]
    },
    {
     "data": {
      "text/plain": [
       "<Figure size 432x288 with 0 Axes>"
      ]
     },
     "metadata": {},
     "output_type": "display_data"
    },
    {
     "data": {
      "text/plain": [
       "<Figure size 432x288 with 0 Axes>"
      ]
     },
     "metadata": {},
     "output_type": "display_data"
    },
    {
     "name": "stderr",
     "output_type": "stream",
     "text": [
      "/home/kessler/.cache/bazel/_bazel_kessler/6ba317d7828f21aa2067abd006e869d3/execroot/bark_project/bazel-out/k8-fastbuild/bin/docs/tutorials/run.runfiles/bark_project/bark/runtime/viewer/matplotlib_viewer.py:49: MatplotlibDeprecationWarning: Case-insensitive properties were deprecated in 3.3 and support will be removed two minor releases later\n",
      "  linewidth=linewidth)\n",
      "/home/kessler/.cache/bazel/_bazel_kessler/6ba317d7828f21aa2067abd006e869d3/execroot/bark_project/bazel-out/k8-fastbuild/bin/docs/tutorials/run.runfiles/bark_project/bark/runtime/viewer/matplotlib_viewer.py:49: MatplotlibDeprecationWarning: Case-insensitive properties were deprecated in 3.3 and support will be removed two minor releases later\n",
      "  linewidth=linewidth)\n",
      "/home/kessler/.cache/bazel/_bazel_kessler/6ba317d7828f21aa2067abd006e869d3/execroot/bark_project/bazel-out/k8-fastbuild/bin/docs/tutorials/run.runfiles/bark_project/bark/runtime/viewer/matplotlib_viewer.py:49: MatplotlibDeprecationWarning: Case-insensitive properties were deprecated in 3.3 and support will be removed two minor releases later\n",
      "  linewidth=linewidth)\n",
      "/home/kessler/.cache/bazel/_bazel_kessler/6ba317d7828f21aa2067abd006e869d3/execroot/bark_project/bazel-out/k8-fastbuild/bin/docs/tutorials/run.runfiles/bark_project/bark/runtime/viewer/matplotlib_viewer.py:49: MatplotlibDeprecationWarning: Case-insensitive properties were deprecated in 3.3 and support will be removed two minor releases later\n",
      "  linewidth=linewidth)\n",
      "/home/kessler/.cache/bazel/_bazel_kessler/6ba317d7828f21aa2067abd006e869d3/execroot/bark_project/bazel-out/k8-fastbuild/bin/docs/tutorials/run.runfiles/bark_project/bark/runtime/viewer/matplotlib_viewer.py:49: MatplotlibDeprecationWarning: Case-insensitive properties were deprecated in 3.3 and support will be removed two minor releases later\n",
      "  linewidth=linewidth)\n",
      "/home/kessler/.cache/bazel/_bazel_kessler/6ba317d7828f21aa2067abd006e869d3/execroot/bark_project/bazel-out/k8-fastbuild/bin/docs/tutorials/run.runfiles/bark_project/bark/runtime/viewer/matplotlib_viewer.py:49: MatplotlibDeprecationWarning: Case-insensitive properties were deprecated in 3.3 and support will be removed two minor releases later\n",
      "  linewidth=linewidth)\n",
      "/home/kessler/.cache/bazel/_bazel_kessler/6ba317d7828f21aa2067abd006e869d3/execroot/bark_project/bazel-out/k8-fastbuild/bin/docs/tutorials/run.runfiles/bark_project/bark/runtime/viewer/matplotlib_viewer.py:49: MatplotlibDeprecationWarning: Case-insensitive properties were deprecated in 3.3 and support will be removed two minor releases later\n",
      "  linewidth=linewidth)\n",
      "/home/kessler/.cache/bazel/_bazel_kessler/6ba317d7828f21aa2067abd006e869d3/execroot/bark_project/bazel-out/k8-fastbuild/bin/docs/tutorials/run.runfiles/bark_project/bark/runtime/viewer/matplotlib_viewer.py:49: MatplotlibDeprecationWarning: Case-insensitive properties were deprecated in 3.3 and support will be removed two minor releases later\n",
      "  linewidth=linewidth)\n",
      "/home/kessler/.cache/bazel/_bazel_kessler/6ba317d7828f21aa2067abd006e869d3/execroot/bark_project/bazel-out/k8-fastbuild/bin/docs/tutorials/run.runfiles/bark_project/bark/runtime/viewer/matplotlib_viewer.py:49: MatplotlibDeprecationWarning: Case-insensitive properties were deprecated in 3.3 and support will be removed two minor releases later\n",
      "  linewidth=linewidth)\n"
     ]
    },
    {
     "data": {
      "text/plain": [
       "<Figure size 432x288 with 0 Axes>"
      ]
     },
     "metadata": {},
     "output_type": "display_data"
    },
    {
     "data": {
      "text/plain": [
       "<Figure size 432x288 with 0 Axes>"
      ]
     },
     "metadata": {},
     "output_type": "display_data"
    },
    {
     "name": "stderr",
     "output_type": "stream",
     "text": [
      "/home/kessler/.cache/bazel/_bazel_kessler/6ba317d7828f21aa2067abd006e869d3/execroot/bark_project/bazel-out/k8-fastbuild/bin/docs/tutorials/run.runfiles/bark_project/bark/runtime/viewer/matplotlib_viewer.py:49: MatplotlibDeprecationWarning: Case-insensitive properties were deprecated in 3.3 and support will be removed two minor releases later\n",
      "  linewidth=linewidth)\n",
      "/home/kessler/.cache/bazel/_bazel_kessler/6ba317d7828f21aa2067abd006e869d3/execroot/bark_project/bazel-out/k8-fastbuild/bin/docs/tutorials/run.runfiles/bark_project/bark/runtime/viewer/matplotlib_viewer.py:49: MatplotlibDeprecationWarning: Case-insensitive properties were deprecated in 3.3 and support will be removed two minor releases later\n",
      "  linewidth=linewidth)\n",
      "/home/kessler/.cache/bazel/_bazel_kessler/6ba317d7828f21aa2067abd006e869d3/execroot/bark_project/bazel-out/k8-fastbuild/bin/docs/tutorials/run.runfiles/bark_project/bark/runtime/viewer/matplotlib_viewer.py:49: MatplotlibDeprecationWarning: Case-insensitive properties were deprecated in 3.3 and support will be removed two minor releases later\n",
      "  linewidth=linewidth)\n",
      "/home/kessler/.cache/bazel/_bazel_kessler/6ba317d7828f21aa2067abd006e869d3/execroot/bark_project/bazel-out/k8-fastbuild/bin/docs/tutorials/run.runfiles/bark_project/bark/runtime/viewer/matplotlib_viewer.py:49: MatplotlibDeprecationWarning: Case-insensitive properties were deprecated in 3.3 and support will be removed two minor releases later\n",
      "  linewidth=linewidth)\n",
      "/home/kessler/.cache/bazel/_bazel_kessler/6ba317d7828f21aa2067abd006e869d3/execroot/bark_project/bazel-out/k8-fastbuild/bin/docs/tutorials/run.runfiles/bark_project/bark/runtime/viewer/matplotlib_viewer.py:49: MatplotlibDeprecationWarning: Case-insensitive properties were deprecated in 3.3 and support will be removed two minor releases later\n",
      "  linewidth=linewidth)\n",
      "/home/kessler/.cache/bazel/_bazel_kessler/6ba317d7828f21aa2067abd006e869d3/execroot/bark_project/bazel-out/k8-fastbuild/bin/docs/tutorials/run.runfiles/bark_project/bark/runtime/viewer/matplotlib_viewer.py:49: MatplotlibDeprecationWarning: Case-insensitive properties were deprecated in 3.3 and support will be removed two minor releases later\n",
      "  linewidth=linewidth)\n",
      "/home/kessler/.cache/bazel/_bazel_kessler/6ba317d7828f21aa2067abd006e869d3/execroot/bark_project/bazel-out/k8-fastbuild/bin/docs/tutorials/run.runfiles/bark_project/bark/runtime/viewer/matplotlib_viewer.py:49: MatplotlibDeprecationWarning: Case-insensitive properties were deprecated in 3.3 and support will be removed two minor releases later\n",
      "  linewidth=linewidth)\n",
      "/home/kessler/.cache/bazel/_bazel_kessler/6ba317d7828f21aa2067abd006e869d3/execroot/bark_project/bazel-out/k8-fastbuild/bin/docs/tutorials/run.runfiles/bark_project/bark/runtime/viewer/matplotlib_viewer.py:49: MatplotlibDeprecationWarning: Case-insensitive properties were deprecated in 3.3 and support will be removed two minor releases later\n",
      "  linewidth=linewidth)\n",
      "/home/kessler/.cache/bazel/_bazel_kessler/6ba317d7828f21aa2067abd006e869d3/execroot/bark_project/bazel-out/k8-fastbuild/bin/docs/tutorials/run.runfiles/bark_project/bark/runtime/viewer/matplotlib_viewer.py:49: MatplotlibDeprecationWarning: Case-insensitive properties were deprecated in 3.3 and support will be removed two minor releases later\n",
      "  linewidth=linewidth)\n"
     ]
    },
    {
     "data": {
      "text/plain": [
       "<Figure size 432x288 with 0 Axes>"
      ]
     },
     "metadata": {},
     "output_type": "display_data"
    },
    {
     "data": {
      "text/plain": [
       "<Figure size 432x288 with 0 Axes>"
      ]
     },
     "metadata": {},
     "output_type": "display_data"
    },
    {
     "name": "stderr",
     "output_type": "stream",
     "text": [
      "/home/kessler/.cache/bazel/_bazel_kessler/6ba317d7828f21aa2067abd006e869d3/execroot/bark_project/bazel-out/k8-fastbuild/bin/docs/tutorials/run.runfiles/bark_project/bark/runtime/viewer/matplotlib_viewer.py:49: MatplotlibDeprecationWarning: Case-insensitive properties were deprecated in 3.3 and support will be removed two minor releases later\n",
      "  linewidth=linewidth)\n",
      "/home/kessler/.cache/bazel/_bazel_kessler/6ba317d7828f21aa2067abd006e869d3/execroot/bark_project/bazel-out/k8-fastbuild/bin/docs/tutorials/run.runfiles/bark_project/bark/runtime/viewer/matplotlib_viewer.py:49: MatplotlibDeprecationWarning: Case-insensitive properties were deprecated in 3.3 and support will be removed two minor releases later\n",
      "  linewidth=linewidth)\n",
      "/home/kessler/.cache/bazel/_bazel_kessler/6ba317d7828f21aa2067abd006e869d3/execroot/bark_project/bazel-out/k8-fastbuild/bin/docs/tutorials/run.runfiles/bark_project/bark/runtime/viewer/matplotlib_viewer.py:49: MatplotlibDeprecationWarning: Case-insensitive properties were deprecated in 3.3 and support will be removed two minor releases later\n",
      "  linewidth=linewidth)\n",
      "/home/kessler/.cache/bazel/_bazel_kessler/6ba317d7828f21aa2067abd006e869d3/execroot/bark_project/bazel-out/k8-fastbuild/bin/docs/tutorials/run.runfiles/bark_project/bark/runtime/viewer/matplotlib_viewer.py:49: MatplotlibDeprecationWarning: Case-insensitive properties were deprecated in 3.3 and support will be removed two minor releases later\n",
      "  linewidth=linewidth)\n",
      "/home/kessler/.cache/bazel/_bazel_kessler/6ba317d7828f21aa2067abd006e869d3/execroot/bark_project/bazel-out/k8-fastbuild/bin/docs/tutorials/run.runfiles/bark_project/bark/runtime/viewer/matplotlib_viewer.py:49: MatplotlibDeprecationWarning: Case-insensitive properties were deprecated in 3.3 and support will be removed two minor releases later\n",
      "  linewidth=linewidth)\n",
      "/home/kessler/.cache/bazel/_bazel_kessler/6ba317d7828f21aa2067abd006e869d3/execroot/bark_project/bazel-out/k8-fastbuild/bin/docs/tutorials/run.runfiles/bark_project/bark/runtime/viewer/matplotlib_viewer.py:49: MatplotlibDeprecationWarning: Case-insensitive properties were deprecated in 3.3 and support will be removed two minor releases later\n",
      "  linewidth=linewidth)\n",
      "/home/kessler/.cache/bazel/_bazel_kessler/6ba317d7828f21aa2067abd006e869d3/execroot/bark_project/bazel-out/k8-fastbuild/bin/docs/tutorials/run.runfiles/bark_project/bark/runtime/viewer/matplotlib_viewer.py:49: MatplotlibDeprecationWarning: Case-insensitive properties were deprecated in 3.3 and support will be removed two minor releases later\n",
      "  linewidth=linewidth)\n",
      "/home/kessler/.cache/bazel/_bazel_kessler/6ba317d7828f21aa2067abd006e869d3/execroot/bark_project/bazel-out/k8-fastbuild/bin/docs/tutorials/run.runfiles/bark_project/bark/runtime/viewer/matplotlib_viewer.py:49: MatplotlibDeprecationWarning: Case-insensitive properties were deprecated in 3.3 and support will be removed two minor releases later\n",
      "  linewidth=linewidth)\n",
      "/home/kessler/.cache/bazel/_bazel_kessler/6ba317d7828f21aa2067abd006e869d3/execroot/bark_project/bazel-out/k8-fastbuild/bin/docs/tutorials/run.runfiles/bark_project/bark/runtime/viewer/matplotlib_viewer.py:49: MatplotlibDeprecationWarning: Case-insensitive properties were deprecated in 3.3 and support will be removed two minor releases later\n",
      "  linewidth=linewidth)\n"
     ]
    },
    {
     "data": {
      "text/plain": [
       "<Figure size 432x288 with 0 Axes>"
      ]
     },
     "metadata": {},
     "output_type": "display_data"
    },
    {
     "data": {
      "text/plain": [
       "<Figure size 432x288 with 0 Axes>"
      ]
     },
     "metadata": {},
     "output_type": "display_data"
    },
    {
     "name": "stderr",
     "output_type": "stream",
     "text": [
      "/home/kessler/.cache/bazel/_bazel_kessler/6ba317d7828f21aa2067abd006e869d3/execroot/bark_project/bazel-out/k8-fastbuild/bin/docs/tutorials/run.runfiles/bark_project/bark/runtime/viewer/matplotlib_viewer.py:49: MatplotlibDeprecationWarning: Case-insensitive properties were deprecated in 3.3 and support will be removed two minor releases later\n",
      "  linewidth=linewidth)\n",
      "/home/kessler/.cache/bazel/_bazel_kessler/6ba317d7828f21aa2067abd006e869d3/execroot/bark_project/bazel-out/k8-fastbuild/bin/docs/tutorials/run.runfiles/bark_project/bark/runtime/viewer/matplotlib_viewer.py:49: MatplotlibDeprecationWarning: Case-insensitive properties were deprecated in 3.3 and support will be removed two minor releases later\n",
      "  linewidth=linewidth)\n",
      "/home/kessler/.cache/bazel/_bazel_kessler/6ba317d7828f21aa2067abd006e869d3/execroot/bark_project/bazel-out/k8-fastbuild/bin/docs/tutorials/run.runfiles/bark_project/bark/runtime/viewer/matplotlib_viewer.py:49: MatplotlibDeprecationWarning: Case-insensitive properties were deprecated in 3.3 and support will be removed two minor releases later\n",
      "  linewidth=linewidth)\n",
      "/home/kessler/.cache/bazel/_bazel_kessler/6ba317d7828f21aa2067abd006e869d3/execroot/bark_project/bazel-out/k8-fastbuild/bin/docs/tutorials/run.runfiles/bark_project/bark/runtime/viewer/matplotlib_viewer.py:49: MatplotlibDeprecationWarning: Case-insensitive properties were deprecated in 3.3 and support will be removed two minor releases later\n",
      "  linewidth=linewidth)\n",
      "/home/kessler/.cache/bazel/_bazel_kessler/6ba317d7828f21aa2067abd006e869d3/execroot/bark_project/bazel-out/k8-fastbuild/bin/docs/tutorials/run.runfiles/bark_project/bark/runtime/viewer/matplotlib_viewer.py:49: MatplotlibDeprecationWarning: Case-insensitive properties were deprecated in 3.3 and support will be removed two minor releases later\n",
      "  linewidth=linewidth)\n",
      "/home/kessler/.cache/bazel/_bazel_kessler/6ba317d7828f21aa2067abd006e869d3/execroot/bark_project/bazel-out/k8-fastbuild/bin/docs/tutorials/run.runfiles/bark_project/bark/runtime/viewer/matplotlib_viewer.py:49: MatplotlibDeprecationWarning: Case-insensitive properties were deprecated in 3.3 and support will be removed two minor releases later\n",
      "  linewidth=linewidth)\n",
      "/home/kessler/.cache/bazel/_bazel_kessler/6ba317d7828f21aa2067abd006e869d3/execroot/bark_project/bazel-out/k8-fastbuild/bin/docs/tutorials/run.runfiles/bark_project/bark/runtime/viewer/matplotlib_viewer.py:49: MatplotlibDeprecationWarning: Case-insensitive properties were deprecated in 3.3 and support will be removed two minor releases later\n",
      "  linewidth=linewidth)\n",
      "/home/kessler/.cache/bazel/_bazel_kessler/6ba317d7828f21aa2067abd006e869d3/execroot/bark_project/bazel-out/k8-fastbuild/bin/docs/tutorials/run.runfiles/bark_project/bark/runtime/viewer/matplotlib_viewer.py:49: MatplotlibDeprecationWarning: Case-insensitive properties were deprecated in 3.3 and support will be removed two minor releases later\n",
      "  linewidth=linewidth)\n",
      "/home/kessler/.cache/bazel/_bazel_kessler/6ba317d7828f21aa2067abd006e869d3/execroot/bark_project/bazel-out/k8-fastbuild/bin/docs/tutorials/run.runfiles/bark_project/bark/runtime/viewer/matplotlib_viewer.py:49: MatplotlibDeprecationWarning: Case-insensitive properties were deprecated in 3.3 and support will be removed two minor releases later\n",
      "  linewidth=linewidth)\n"
     ]
    },
    {
     "data": {
      "text/plain": [
       "<Figure size 432x288 with 0 Axes>"
      ]
     },
     "metadata": {},
     "output_type": "display_data"
    },
    {
     "data": {
      "text/plain": [
       "<Figure size 432x288 with 0 Axes>"
      ]
     },
     "metadata": {},
     "output_type": "display_data"
    },
    {
     "name": "stderr",
     "output_type": "stream",
     "text": [
      "/home/kessler/.cache/bazel/_bazel_kessler/6ba317d7828f21aa2067abd006e869d3/execroot/bark_project/bazel-out/k8-fastbuild/bin/docs/tutorials/run.runfiles/bark_project/bark/runtime/viewer/matplotlib_viewer.py:49: MatplotlibDeprecationWarning: Case-insensitive properties were deprecated in 3.3 and support will be removed two minor releases later\n",
      "  linewidth=linewidth)\n",
      "/home/kessler/.cache/bazel/_bazel_kessler/6ba317d7828f21aa2067abd006e869d3/execroot/bark_project/bazel-out/k8-fastbuild/bin/docs/tutorials/run.runfiles/bark_project/bark/runtime/viewer/matplotlib_viewer.py:49: MatplotlibDeprecationWarning: Case-insensitive properties were deprecated in 3.3 and support will be removed two minor releases later\n",
      "  linewidth=linewidth)\n",
      "/home/kessler/.cache/bazel/_bazel_kessler/6ba317d7828f21aa2067abd006e869d3/execroot/bark_project/bazel-out/k8-fastbuild/bin/docs/tutorials/run.runfiles/bark_project/bark/runtime/viewer/matplotlib_viewer.py:49: MatplotlibDeprecationWarning: Case-insensitive properties were deprecated in 3.3 and support will be removed two minor releases later\n",
      "  linewidth=linewidth)\n",
      "/home/kessler/.cache/bazel/_bazel_kessler/6ba317d7828f21aa2067abd006e869d3/execroot/bark_project/bazel-out/k8-fastbuild/bin/docs/tutorials/run.runfiles/bark_project/bark/runtime/viewer/matplotlib_viewer.py:49: MatplotlibDeprecationWarning: Case-insensitive properties were deprecated in 3.3 and support will be removed two minor releases later\n",
      "  linewidth=linewidth)\n",
      "/home/kessler/.cache/bazel/_bazel_kessler/6ba317d7828f21aa2067abd006e869d3/execroot/bark_project/bazel-out/k8-fastbuild/bin/docs/tutorials/run.runfiles/bark_project/bark/runtime/viewer/matplotlib_viewer.py:49: MatplotlibDeprecationWarning: Case-insensitive properties were deprecated in 3.3 and support will be removed two minor releases later\n",
      "  linewidth=linewidth)\n",
      "/home/kessler/.cache/bazel/_bazel_kessler/6ba317d7828f21aa2067abd006e869d3/execroot/bark_project/bazel-out/k8-fastbuild/bin/docs/tutorials/run.runfiles/bark_project/bark/runtime/viewer/matplotlib_viewer.py:49: MatplotlibDeprecationWarning: Case-insensitive properties were deprecated in 3.3 and support will be removed two minor releases later\n",
      "  linewidth=linewidth)\n",
      "/home/kessler/.cache/bazel/_bazel_kessler/6ba317d7828f21aa2067abd006e869d3/execroot/bark_project/bazel-out/k8-fastbuild/bin/docs/tutorials/run.runfiles/bark_project/bark/runtime/viewer/matplotlib_viewer.py:49: MatplotlibDeprecationWarning: Case-insensitive properties were deprecated in 3.3 and support will be removed two minor releases later\n",
      "  linewidth=linewidth)\n",
      "/home/kessler/.cache/bazel/_bazel_kessler/6ba317d7828f21aa2067abd006e869d3/execroot/bark_project/bazel-out/k8-fastbuild/bin/docs/tutorials/run.runfiles/bark_project/bark/runtime/viewer/matplotlib_viewer.py:49: MatplotlibDeprecationWarning: Case-insensitive properties were deprecated in 3.3 and support will be removed two minor releases later\n",
      "  linewidth=linewidth)\n",
      "/home/kessler/.cache/bazel/_bazel_kessler/6ba317d7828f21aa2067abd006e869d3/execroot/bark_project/bazel-out/k8-fastbuild/bin/docs/tutorials/run.runfiles/bark_project/bark/runtime/viewer/matplotlib_viewer.py:49: MatplotlibDeprecationWarning: Case-insensitive properties were deprecated in 3.3 and support will be removed two minor releases later\n",
      "  linewidth=linewidth)\n"
     ]
    },
    {
     "data": {
      "text/plain": [
       "<Figure size 432x288 with 0 Axes>"
      ]
     },
     "metadata": {},
     "output_type": "display_data"
    },
    {
     "data": {
      "text/plain": [
       "<Figure size 432x288 with 0 Axes>"
      ]
     },
     "metadata": {},
     "output_type": "display_data"
    },
    {
     "name": "stderr",
     "output_type": "stream",
     "text": [
      "/home/kessler/.cache/bazel/_bazel_kessler/6ba317d7828f21aa2067abd006e869d3/execroot/bark_project/bazel-out/k8-fastbuild/bin/docs/tutorials/run.runfiles/bark_project/bark/runtime/viewer/matplotlib_viewer.py:49: MatplotlibDeprecationWarning: Case-insensitive properties were deprecated in 3.3 and support will be removed two minor releases later\n",
      "  linewidth=linewidth)\n",
      "/home/kessler/.cache/bazel/_bazel_kessler/6ba317d7828f21aa2067abd006e869d3/execroot/bark_project/bazel-out/k8-fastbuild/bin/docs/tutorials/run.runfiles/bark_project/bark/runtime/viewer/matplotlib_viewer.py:49: MatplotlibDeprecationWarning: Case-insensitive properties were deprecated in 3.3 and support will be removed two minor releases later\n",
      "  linewidth=linewidth)\n",
      "/home/kessler/.cache/bazel/_bazel_kessler/6ba317d7828f21aa2067abd006e869d3/execroot/bark_project/bazel-out/k8-fastbuild/bin/docs/tutorials/run.runfiles/bark_project/bark/runtime/viewer/matplotlib_viewer.py:49: MatplotlibDeprecationWarning: Case-insensitive properties were deprecated in 3.3 and support will be removed two minor releases later\n",
      "  linewidth=linewidth)\n",
      "/home/kessler/.cache/bazel/_bazel_kessler/6ba317d7828f21aa2067abd006e869d3/execroot/bark_project/bazel-out/k8-fastbuild/bin/docs/tutorials/run.runfiles/bark_project/bark/runtime/viewer/matplotlib_viewer.py:49: MatplotlibDeprecationWarning: Case-insensitive properties were deprecated in 3.3 and support will be removed two minor releases later\n",
      "  linewidth=linewidth)\n",
      "/home/kessler/.cache/bazel/_bazel_kessler/6ba317d7828f21aa2067abd006e869d3/execroot/bark_project/bazel-out/k8-fastbuild/bin/docs/tutorials/run.runfiles/bark_project/bark/runtime/viewer/matplotlib_viewer.py:49: MatplotlibDeprecationWarning: Case-insensitive properties were deprecated in 3.3 and support will be removed two minor releases later\n",
      "  linewidth=linewidth)\n",
      "/home/kessler/.cache/bazel/_bazel_kessler/6ba317d7828f21aa2067abd006e869d3/execroot/bark_project/bazel-out/k8-fastbuild/bin/docs/tutorials/run.runfiles/bark_project/bark/runtime/viewer/matplotlib_viewer.py:49: MatplotlibDeprecationWarning: Case-insensitive properties were deprecated in 3.3 and support will be removed two minor releases later\n",
      "  linewidth=linewidth)\n",
      "/home/kessler/.cache/bazel/_bazel_kessler/6ba317d7828f21aa2067abd006e869d3/execroot/bark_project/bazel-out/k8-fastbuild/bin/docs/tutorials/run.runfiles/bark_project/bark/runtime/viewer/matplotlib_viewer.py:49: MatplotlibDeprecationWarning: Case-insensitive properties were deprecated in 3.3 and support will be removed two minor releases later\n",
      "  linewidth=linewidth)\n",
      "/home/kessler/.cache/bazel/_bazel_kessler/6ba317d7828f21aa2067abd006e869d3/execroot/bark_project/bazel-out/k8-fastbuild/bin/docs/tutorials/run.runfiles/bark_project/bark/runtime/viewer/matplotlib_viewer.py:49: MatplotlibDeprecationWarning: Case-insensitive properties were deprecated in 3.3 and support will be removed two minor releases later\n",
      "  linewidth=linewidth)\n",
      "/home/kessler/.cache/bazel/_bazel_kessler/6ba317d7828f21aa2067abd006e869d3/execroot/bark_project/bazel-out/k8-fastbuild/bin/docs/tutorials/run.runfiles/bark_project/bark/runtime/viewer/matplotlib_viewer.py:49: MatplotlibDeprecationWarning: Case-insensitive properties were deprecated in 3.3 and support will be removed two minor releases later\n",
      "  linewidth=linewidth)\n"
     ]
    },
    {
     "data": {
      "text/plain": [
       "<Figure size 432x288 with 0 Axes>"
      ]
     },
     "metadata": {},
     "output_type": "display_data"
    },
    {
     "data": {
      "text/plain": [
       "<Figure size 432x288 with 0 Axes>"
      ]
     },
     "metadata": {},
     "output_type": "display_data"
    },
    {
     "name": "stderr",
     "output_type": "stream",
     "text": [
      "/home/kessler/.cache/bazel/_bazel_kessler/6ba317d7828f21aa2067abd006e869d3/execroot/bark_project/bazel-out/k8-fastbuild/bin/docs/tutorials/run.runfiles/bark_project/bark/runtime/viewer/matplotlib_viewer.py:49: MatplotlibDeprecationWarning: Case-insensitive properties were deprecated in 3.3 and support will be removed two minor releases later\n",
      "  linewidth=linewidth)\n",
      "/home/kessler/.cache/bazel/_bazel_kessler/6ba317d7828f21aa2067abd006e869d3/execroot/bark_project/bazel-out/k8-fastbuild/bin/docs/tutorials/run.runfiles/bark_project/bark/runtime/viewer/matplotlib_viewer.py:49: MatplotlibDeprecationWarning: Case-insensitive properties were deprecated in 3.3 and support will be removed two minor releases later\n",
      "  linewidth=linewidth)\n",
      "/home/kessler/.cache/bazel/_bazel_kessler/6ba317d7828f21aa2067abd006e869d3/execroot/bark_project/bazel-out/k8-fastbuild/bin/docs/tutorials/run.runfiles/bark_project/bark/runtime/viewer/matplotlib_viewer.py:49: MatplotlibDeprecationWarning: Case-insensitive properties were deprecated in 3.3 and support will be removed two minor releases later\n",
      "  linewidth=linewidth)\n",
      "/home/kessler/.cache/bazel/_bazel_kessler/6ba317d7828f21aa2067abd006e869d3/execroot/bark_project/bazel-out/k8-fastbuild/bin/docs/tutorials/run.runfiles/bark_project/bark/runtime/viewer/matplotlib_viewer.py:49: MatplotlibDeprecationWarning: Case-insensitive properties were deprecated in 3.3 and support will be removed two minor releases later\n",
      "  linewidth=linewidth)\n",
      "/home/kessler/.cache/bazel/_bazel_kessler/6ba317d7828f21aa2067abd006e869d3/execroot/bark_project/bazel-out/k8-fastbuild/bin/docs/tutorials/run.runfiles/bark_project/bark/runtime/viewer/matplotlib_viewer.py:49: MatplotlibDeprecationWarning: Case-insensitive properties were deprecated in 3.3 and support will be removed two minor releases later\n",
      "  linewidth=linewidth)\n",
      "/home/kessler/.cache/bazel/_bazel_kessler/6ba317d7828f21aa2067abd006e869d3/execroot/bark_project/bazel-out/k8-fastbuild/bin/docs/tutorials/run.runfiles/bark_project/bark/runtime/viewer/matplotlib_viewer.py:49: MatplotlibDeprecationWarning: Case-insensitive properties were deprecated in 3.3 and support will be removed two minor releases later\n",
      "  linewidth=linewidth)\n",
      "/home/kessler/.cache/bazel/_bazel_kessler/6ba317d7828f21aa2067abd006e869d3/execroot/bark_project/bazel-out/k8-fastbuild/bin/docs/tutorials/run.runfiles/bark_project/bark/runtime/viewer/matplotlib_viewer.py:49: MatplotlibDeprecationWarning: Case-insensitive properties were deprecated in 3.3 and support will be removed two minor releases later\n",
      "  linewidth=linewidth)\n",
      "/home/kessler/.cache/bazel/_bazel_kessler/6ba317d7828f21aa2067abd006e869d3/execroot/bark_project/bazel-out/k8-fastbuild/bin/docs/tutorials/run.runfiles/bark_project/bark/runtime/viewer/matplotlib_viewer.py:49: MatplotlibDeprecationWarning: Case-insensitive properties were deprecated in 3.3 and support will be removed two minor releases later\n",
      "  linewidth=linewidth)\n",
      "/home/kessler/.cache/bazel/_bazel_kessler/6ba317d7828f21aa2067abd006e869d3/execroot/bark_project/bazel-out/k8-fastbuild/bin/docs/tutorials/run.runfiles/bark_project/bark/runtime/viewer/matplotlib_viewer.py:49: MatplotlibDeprecationWarning: Case-insensitive properties were deprecated in 3.3 and support will be removed two minor releases later\n",
      "  linewidth=linewidth)\n"
     ]
    },
    {
     "data": {
      "text/plain": [
       "<Figure size 432x288 with 0 Axes>"
      ]
     },
     "metadata": {},
     "output_type": "display_data"
    },
    {
     "data": {
      "text/plain": [
       "<Figure size 432x288 with 0 Axes>"
      ]
     },
     "metadata": {},
     "output_type": "display_data"
    },
    {
     "name": "stderr",
     "output_type": "stream",
     "text": [
      "/home/kessler/.cache/bazel/_bazel_kessler/6ba317d7828f21aa2067abd006e869d3/execroot/bark_project/bazel-out/k8-fastbuild/bin/docs/tutorials/run.runfiles/bark_project/bark/runtime/viewer/matplotlib_viewer.py:49: MatplotlibDeprecationWarning: Case-insensitive properties were deprecated in 3.3 and support will be removed two minor releases later\n",
      "  linewidth=linewidth)\n",
      "/home/kessler/.cache/bazel/_bazel_kessler/6ba317d7828f21aa2067abd006e869d3/execroot/bark_project/bazel-out/k8-fastbuild/bin/docs/tutorials/run.runfiles/bark_project/bark/runtime/viewer/matplotlib_viewer.py:49: MatplotlibDeprecationWarning: Case-insensitive properties were deprecated in 3.3 and support will be removed two minor releases later\n",
      "  linewidth=linewidth)\n",
      "/home/kessler/.cache/bazel/_bazel_kessler/6ba317d7828f21aa2067abd006e869d3/execroot/bark_project/bazel-out/k8-fastbuild/bin/docs/tutorials/run.runfiles/bark_project/bark/runtime/viewer/matplotlib_viewer.py:49: MatplotlibDeprecationWarning: Case-insensitive properties were deprecated in 3.3 and support will be removed two minor releases later\n",
      "  linewidth=linewidth)\n",
      "/home/kessler/.cache/bazel/_bazel_kessler/6ba317d7828f21aa2067abd006e869d3/execroot/bark_project/bazel-out/k8-fastbuild/bin/docs/tutorials/run.runfiles/bark_project/bark/runtime/viewer/matplotlib_viewer.py:49: MatplotlibDeprecationWarning: Case-insensitive properties were deprecated in 3.3 and support will be removed two minor releases later\n",
      "  linewidth=linewidth)\n",
      "/home/kessler/.cache/bazel/_bazel_kessler/6ba317d7828f21aa2067abd006e869d3/execroot/bark_project/bazel-out/k8-fastbuild/bin/docs/tutorials/run.runfiles/bark_project/bark/runtime/viewer/matplotlib_viewer.py:49: MatplotlibDeprecationWarning: Case-insensitive properties were deprecated in 3.3 and support will be removed two minor releases later\n",
      "  linewidth=linewidth)\n",
      "/home/kessler/.cache/bazel/_bazel_kessler/6ba317d7828f21aa2067abd006e869d3/execroot/bark_project/bazel-out/k8-fastbuild/bin/docs/tutorials/run.runfiles/bark_project/bark/runtime/viewer/matplotlib_viewer.py:49: MatplotlibDeprecationWarning: Case-insensitive properties were deprecated in 3.3 and support will be removed two minor releases later\n",
      "  linewidth=linewidth)\n",
      "/home/kessler/.cache/bazel/_bazel_kessler/6ba317d7828f21aa2067abd006e869d3/execroot/bark_project/bazel-out/k8-fastbuild/bin/docs/tutorials/run.runfiles/bark_project/bark/runtime/viewer/matplotlib_viewer.py:49: MatplotlibDeprecationWarning: Case-insensitive properties were deprecated in 3.3 and support will be removed two minor releases later\n",
      "  linewidth=linewidth)\n",
      "/home/kessler/.cache/bazel/_bazel_kessler/6ba317d7828f21aa2067abd006e869d3/execroot/bark_project/bazel-out/k8-fastbuild/bin/docs/tutorials/run.runfiles/bark_project/bark/runtime/viewer/matplotlib_viewer.py:49: MatplotlibDeprecationWarning: Case-insensitive properties were deprecated in 3.3 and support will be removed two minor releases later\n",
      "  linewidth=linewidth)\n",
      "/home/kessler/.cache/bazel/_bazel_kessler/6ba317d7828f21aa2067abd006e869d3/execroot/bark_project/bazel-out/k8-fastbuild/bin/docs/tutorials/run.runfiles/bark_project/bark/runtime/viewer/matplotlib_viewer.py:49: MatplotlibDeprecationWarning: Case-insensitive properties were deprecated in 3.3 and support will be removed two minor releases later\n",
      "  linewidth=linewidth)\n"
     ]
    },
    {
     "data": {
      "text/plain": [
       "<Figure size 432x288 with 0 Axes>"
      ]
     },
     "metadata": {},
     "output_type": "display_data"
    },
    {
     "data": {
      "text/plain": [
       "<Figure size 432x288 with 0 Axes>"
      ]
     },
     "metadata": {},
     "output_type": "display_data"
    },
    {
     "name": "stderr",
     "output_type": "stream",
     "text": [
      "/home/kessler/.cache/bazel/_bazel_kessler/6ba317d7828f21aa2067abd006e869d3/execroot/bark_project/bazel-out/k8-fastbuild/bin/docs/tutorials/run.runfiles/bark_project/bark/runtime/viewer/matplotlib_viewer.py:49: MatplotlibDeprecationWarning: Case-insensitive properties were deprecated in 3.3 and support will be removed two minor releases later\n",
      "  linewidth=linewidth)\n",
      "/home/kessler/.cache/bazel/_bazel_kessler/6ba317d7828f21aa2067abd006e869d3/execroot/bark_project/bazel-out/k8-fastbuild/bin/docs/tutorials/run.runfiles/bark_project/bark/runtime/viewer/matplotlib_viewer.py:49: MatplotlibDeprecationWarning: Case-insensitive properties were deprecated in 3.3 and support will be removed two minor releases later\n",
      "  linewidth=linewidth)\n",
      "/home/kessler/.cache/bazel/_bazel_kessler/6ba317d7828f21aa2067abd006e869d3/execroot/bark_project/bazel-out/k8-fastbuild/bin/docs/tutorials/run.runfiles/bark_project/bark/runtime/viewer/matplotlib_viewer.py:49: MatplotlibDeprecationWarning: Case-insensitive properties were deprecated in 3.3 and support will be removed two minor releases later\n",
      "  linewidth=linewidth)\n",
      "/home/kessler/.cache/bazel/_bazel_kessler/6ba317d7828f21aa2067abd006e869d3/execroot/bark_project/bazel-out/k8-fastbuild/bin/docs/tutorials/run.runfiles/bark_project/bark/runtime/viewer/matplotlib_viewer.py:49: MatplotlibDeprecationWarning: Case-insensitive properties were deprecated in 3.3 and support will be removed two minor releases later\n",
      "  linewidth=linewidth)\n",
      "/home/kessler/.cache/bazel/_bazel_kessler/6ba317d7828f21aa2067abd006e869d3/execroot/bark_project/bazel-out/k8-fastbuild/bin/docs/tutorials/run.runfiles/bark_project/bark/runtime/viewer/matplotlib_viewer.py:49: MatplotlibDeprecationWarning: Case-insensitive properties were deprecated in 3.3 and support will be removed two minor releases later\n",
      "  linewidth=linewidth)\n",
      "/home/kessler/.cache/bazel/_bazel_kessler/6ba317d7828f21aa2067abd006e869d3/execroot/bark_project/bazel-out/k8-fastbuild/bin/docs/tutorials/run.runfiles/bark_project/bark/runtime/viewer/matplotlib_viewer.py:49: MatplotlibDeprecationWarning: Case-insensitive properties were deprecated in 3.3 and support will be removed two minor releases later\n",
      "  linewidth=linewidth)\n",
      "/home/kessler/.cache/bazel/_bazel_kessler/6ba317d7828f21aa2067abd006e869d3/execroot/bark_project/bazel-out/k8-fastbuild/bin/docs/tutorials/run.runfiles/bark_project/bark/runtime/viewer/matplotlib_viewer.py:49: MatplotlibDeprecationWarning: Case-insensitive properties were deprecated in 3.3 and support will be removed two minor releases later\n",
      "  linewidth=linewidth)\n",
      "/home/kessler/.cache/bazel/_bazel_kessler/6ba317d7828f21aa2067abd006e869d3/execroot/bark_project/bazel-out/k8-fastbuild/bin/docs/tutorials/run.runfiles/bark_project/bark/runtime/viewer/matplotlib_viewer.py:49: MatplotlibDeprecationWarning: Case-insensitive properties were deprecated in 3.3 and support will be removed two minor releases later\n",
      "  linewidth=linewidth)\n",
      "/home/kessler/.cache/bazel/_bazel_kessler/6ba317d7828f21aa2067abd006e869d3/execroot/bark_project/bazel-out/k8-fastbuild/bin/docs/tutorials/run.runfiles/bark_project/bark/runtime/viewer/matplotlib_viewer.py:49: MatplotlibDeprecationWarning: Case-insensitive properties were deprecated in 3.3 and support will be removed two minor releases later\n",
      "  linewidth=linewidth)\n"
     ]
    },
    {
     "data": {
      "text/plain": [
       "<Figure size 432x288 with 0 Axes>"
      ]
     },
     "metadata": {},
     "output_type": "display_data"
    },
    {
     "data": {
      "text/plain": [
       "<Figure size 432x288 with 0 Axes>"
      ]
     },
     "metadata": {},
     "output_type": "display_data"
    },
    {
     "name": "stderr",
     "output_type": "stream",
     "text": [
      "/home/kessler/.cache/bazel/_bazel_kessler/6ba317d7828f21aa2067abd006e869d3/execroot/bark_project/bazel-out/k8-fastbuild/bin/docs/tutorials/run.runfiles/bark_project/bark/runtime/viewer/matplotlib_viewer.py:49: MatplotlibDeprecationWarning: Case-insensitive properties were deprecated in 3.3 and support will be removed two minor releases later\n",
      "  linewidth=linewidth)\n",
      "/home/kessler/.cache/bazel/_bazel_kessler/6ba317d7828f21aa2067abd006e869d3/execroot/bark_project/bazel-out/k8-fastbuild/bin/docs/tutorials/run.runfiles/bark_project/bark/runtime/viewer/matplotlib_viewer.py:49: MatplotlibDeprecationWarning: Case-insensitive properties were deprecated in 3.3 and support will be removed two minor releases later\n",
      "  linewidth=linewidth)\n",
      "/home/kessler/.cache/bazel/_bazel_kessler/6ba317d7828f21aa2067abd006e869d3/execroot/bark_project/bazel-out/k8-fastbuild/bin/docs/tutorials/run.runfiles/bark_project/bark/runtime/viewer/matplotlib_viewer.py:49: MatplotlibDeprecationWarning: Case-insensitive properties were deprecated in 3.3 and support will be removed two minor releases later\n",
      "  linewidth=linewidth)\n",
      "/home/kessler/.cache/bazel/_bazel_kessler/6ba317d7828f21aa2067abd006e869d3/execroot/bark_project/bazel-out/k8-fastbuild/bin/docs/tutorials/run.runfiles/bark_project/bark/runtime/viewer/matplotlib_viewer.py:49: MatplotlibDeprecationWarning: Case-insensitive properties were deprecated in 3.3 and support will be removed two minor releases later\n",
      "  linewidth=linewidth)\n",
      "/home/kessler/.cache/bazel/_bazel_kessler/6ba317d7828f21aa2067abd006e869d3/execroot/bark_project/bazel-out/k8-fastbuild/bin/docs/tutorials/run.runfiles/bark_project/bark/runtime/viewer/matplotlib_viewer.py:49: MatplotlibDeprecationWarning: Case-insensitive properties were deprecated in 3.3 and support will be removed two minor releases later\n",
      "  linewidth=linewidth)\n",
      "/home/kessler/.cache/bazel/_bazel_kessler/6ba317d7828f21aa2067abd006e869d3/execroot/bark_project/bazel-out/k8-fastbuild/bin/docs/tutorials/run.runfiles/bark_project/bark/runtime/viewer/matplotlib_viewer.py:49: MatplotlibDeprecationWarning: Case-insensitive properties were deprecated in 3.3 and support will be removed two minor releases later\n",
      "  linewidth=linewidth)\n",
      "/home/kessler/.cache/bazel/_bazel_kessler/6ba317d7828f21aa2067abd006e869d3/execroot/bark_project/bazel-out/k8-fastbuild/bin/docs/tutorials/run.runfiles/bark_project/bark/runtime/viewer/matplotlib_viewer.py:49: MatplotlibDeprecationWarning: Case-insensitive properties were deprecated in 3.3 and support will be removed two minor releases later\n",
      "  linewidth=linewidth)\n",
      "/home/kessler/.cache/bazel/_bazel_kessler/6ba317d7828f21aa2067abd006e869d3/execroot/bark_project/bazel-out/k8-fastbuild/bin/docs/tutorials/run.runfiles/bark_project/bark/runtime/viewer/matplotlib_viewer.py:49: MatplotlibDeprecationWarning: Case-insensitive properties were deprecated in 3.3 and support will be removed two minor releases later\n",
      "  linewidth=linewidth)\n",
      "/home/kessler/.cache/bazel/_bazel_kessler/6ba317d7828f21aa2067abd006e869d3/execroot/bark_project/bazel-out/k8-fastbuild/bin/docs/tutorials/run.runfiles/bark_project/bark/runtime/viewer/matplotlib_viewer.py:49: MatplotlibDeprecationWarning: Case-insensitive properties were deprecated in 3.3 and support will be removed two minor releases later\n",
      "  linewidth=linewidth)\n"
     ]
    },
    {
     "data": {
      "text/plain": [
       "<Figure size 432x288 with 0 Axes>"
      ]
     },
     "metadata": {},
     "output_type": "display_data"
    },
    {
     "data": {
      "text/plain": [
       "<Figure size 432x288 with 0 Axes>"
      ]
     },
     "metadata": {},
     "output_type": "display_data"
    },
    {
     "name": "stderr",
     "output_type": "stream",
     "text": [
      "/home/kessler/.cache/bazel/_bazel_kessler/6ba317d7828f21aa2067abd006e869d3/execroot/bark_project/bazel-out/k8-fastbuild/bin/docs/tutorials/run.runfiles/bark_project/bark/runtime/viewer/matplotlib_viewer.py:49: MatplotlibDeprecationWarning: Case-insensitive properties were deprecated in 3.3 and support will be removed two minor releases later\n",
      "  linewidth=linewidth)\n",
      "/home/kessler/.cache/bazel/_bazel_kessler/6ba317d7828f21aa2067abd006e869d3/execroot/bark_project/bazel-out/k8-fastbuild/bin/docs/tutorials/run.runfiles/bark_project/bark/runtime/viewer/matplotlib_viewer.py:49: MatplotlibDeprecationWarning: Case-insensitive properties were deprecated in 3.3 and support will be removed two minor releases later\n",
      "  linewidth=linewidth)\n",
      "/home/kessler/.cache/bazel/_bazel_kessler/6ba317d7828f21aa2067abd006e869d3/execroot/bark_project/bazel-out/k8-fastbuild/bin/docs/tutorials/run.runfiles/bark_project/bark/runtime/viewer/matplotlib_viewer.py:49: MatplotlibDeprecationWarning: Case-insensitive properties were deprecated in 3.3 and support will be removed two minor releases later\n",
      "  linewidth=linewidth)\n",
      "/home/kessler/.cache/bazel/_bazel_kessler/6ba317d7828f21aa2067abd006e869d3/execroot/bark_project/bazel-out/k8-fastbuild/bin/docs/tutorials/run.runfiles/bark_project/bark/runtime/viewer/matplotlib_viewer.py:49: MatplotlibDeprecationWarning: Case-insensitive properties were deprecated in 3.3 and support will be removed two minor releases later\n",
      "  linewidth=linewidth)\n",
      "/home/kessler/.cache/bazel/_bazel_kessler/6ba317d7828f21aa2067abd006e869d3/execroot/bark_project/bazel-out/k8-fastbuild/bin/docs/tutorials/run.runfiles/bark_project/bark/runtime/viewer/matplotlib_viewer.py:49: MatplotlibDeprecationWarning: Case-insensitive properties were deprecated in 3.3 and support will be removed two minor releases later\n",
      "  linewidth=linewidth)\n",
      "/home/kessler/.cache/bazel/_bazel_kessler/6ba317d7828f21aa2067abd006e869d3/execroot/bark_project/bazel-out/k8-fastbuild/bin/docs/tutorials/run.runfiles/bark_project/bark/runtime/viewer/matplotlib_viewer.py:49: MatplotlibDeprecationWarning: Case-insensitive properties were deprecated in 3.3 and support will be removed two minor releases later\n",
      "  linewidth=linewidth)\n",
      "/home/kessler/.cache/bazel/_bazel_kessler/6ba317d7828f21aa2067abd006e869d3/execroot/bark_project/bazel-out/k8-fastbuild/bin/docs/tutorials/run.runfiles/bark_project/bark/runtime/viewer/matplotlib_viewer.py:49: MatplotlibDeprecationWarning: Case-insensitive properties were deprecated in 3.3 and support will be removed two minor releases later\n",
      "  linewidth=linewidth)\n",
      "/home/kessler/.cache/bazel/_bazel_kessler/6ba317d7828f21aa2067abd006e869d3/execroot/bark_project/bazel-out/k8-fastbuild/bin/docs/tutorials/run.runfiles/bark_project/bark/runtime/viewer/matplotlib_viewer.py:49: MatplotlibDeprecationWarning: Case-insensitive properties were deprecated in 3.3 and support will be removed two minor releases later\n",
      "  linewidth=linewidth)\n",
      "/home/kessler/.cache/bazel/_bazel_kessler/6ba317d7828f21aa2067abd006e869d3/execroot/bark_project/bazel-out/k8-fastbuild/bin/docs/tutorials/run.runfiles/bark_project/bark/runtime/viewer/matplotlib_viewer.py:49: MatplotlibDeprecationWarning: Case-insensitive properties were deprecated in 3.3 and support will be removed two minor releases later\n",
      "  linewidth=linewidth)\n"
     ]
    },
    {
     "data": {
      "text/plain": [
       "<Figure size 432x288 with 0 Axes>"
      ]
     },
     "metadata": {},
     "output_type": "display_data"
    },
    {
     "data": {
      "text/plain": [
       "<Figure size 432x288 with 0 Axes>"
      ]
     },
     "metadata": {},
     "output_type": "display_data"
    },
    {
     "name": "stderr",
     "output_type": "stream",
     "text": [
      "/home/kessler/.cache/bazel/_bazel_kessler/6ba317d7828f21aa2067abd006e869d3/execroot/bark_project/bazel-out/k8-fastbuild/bin/docs/tutorials/run.runfiles/bark_project/bark/runtime/viewer/matplotlib_viewer.py:49: MatplotlibDeprecationWarning: Case-insensitive properties were deprecated in 3.3 and support will be removed two minor releases later\n",
      "  linewidth=linewidth)\n",
      "/home/kessler/.cache/bazel/_bazel_kessler/6ba317d7828f21aa2067abd006e869d3/execroot/bark_project/bazel-out/k8-fastbuild/bin/docs/tutorials/run.runfiles/bark_project/bark/runtime/viewer/matplotlib_viewer.py:49: MatplotlibDeprecationWarning: Case-insensitive properties were deprecated in 3.3 and support will be removed two minor releases later\n",
      "  linewidth=linewidth)\n",
      "/home/kessler/.cache/bazel/_bazel_kessler/6ba317d7828f21aa2067abd006e869d3/execroot/bark_project/bazel-out/k8-fastbuild/bin/docs/tutorials/run.runfiles/bark_project/bark/runtime/viewer/matplotlib_viewer.py:49: MatplotlibDeprecationWarning: Case-insensitive properties were deprecated in 3.3 and support will be removed two minor releases later\n",
      "  linewidth=linewidth)\n",
      "/home/kessler/.cache/bazel/_bazel_kessler/6ba317d7828f21aa2067abd006e869d3/execroot/bark_project/bazel-out/k8-fastbuild/bin/docs/tutorials/run.runfiles/bark_project/bark/runtime/viewer/matplotlib_viewer.py:49: MatplotlibDeprecationWarning: Case-insensitive properties were deprecated in 3.3 and support will be removed two minor releases later\n",
      "  linewidth=linewidth)\n",
      "/home/kessler/.cache/bazel/_bazel_kessler/6ba317d7828f21aa2067abd006e869d3/execroot/bark_project/bazel-out/k8-fastbuild/bin/docs/tutorials/run.runfiles/bark_project/bark/runtime/viewer/matplotlib_viewer.py:49: MatplotlibDeprecationWarning: Case-insensitive properties were deprecated in 3.3 and support will be removed two minor releases later\n",
      "  linewidth=linewidth)\n",
      "/home/kessler/.cache/bazel/_bazel_kessler/6ba317d7828f21aa2067abd006e869d3/execroot/bark_project/bazel-out/k8-fastbuild/bin/docs/tutorials/run.runfiles/bark_project/bark/runtime/viewer/matplotlib_viewer.py:49: MatplotlibDeprecationWarning: Case-insensitive properties were deprecated in 3.3 and support will be removed two minor releases later\n",
      "  linewidth=linewidth)\n",
      "/home/kessler/.cache/bazel/_bazel_kessler/6ba317d7828f21aa2067abd006e869d3/execroot/bark_project/bazel-out/k8-fastbuild/bin/docs/tutorials/run.runfiles/bark_project/bark/runtime/viewer/matplotlib_viewer.py:49: MatplotlibDeprecationWarning: Case-insensitive properties were deprecated in 3.3 and support will be removed two minor releases later\n",
      "  linewidth=linewidth)\n",
      "/home/kessler/.cache/bazel/_bazel_kessler/6ba317d7828f21aa2067abd006e869d3/execroot/bark_project/bazel-out/k8-fastbuild/bin/docs/tutorials/run.runfiles/bark_project/bark/runtime/viewer/matplotlib_viewer.py:49: MatplotlibDeprecationWarning: Case-insensitive properties were deprecated in 3.3 and support will be removed two minor releases later\n",
      "  linewidth=linewidth)\n",
      "/home/kessler/.cache/bazel/_bazel_kessler/6ba317d7828f21aa2067abd006e869d3/execroot/bark_project/bazel-out/k8-fastbuild/bin/docs/tutorials/run.runfiles/bark_project/bark/runtime/viewer/matplotlib_viewer.py:49: MatplotlibDeprecationWarning: Case-insensitive properties were deprecated in 3.3 and support will be removed two minor releases later\n",
      "  linewidth=linewidth)\n"
     ]
    },
    {
     "data": {
      "text/plain": [
       "<Figure size 432x288 with 0 Axes>"
      ]
     },
     "metadata": {},
     "output_type": "display_data"
    },
    {
     "data": {
      "text/plain": [
       "<Figure size 432x288 with 0 Axes>"
      ]
     },
     "metadata": {},
     "output_type": "display_data"
    },
    {
     "name": "stderr",
     "output_type": "stream",
     "text": [
      "/home/kessler/.cache/bazel/_bazel_kessler/6ba317d7828f21aa2067abd006e869d3/execroot/bark_project/bazel-out/k8-fastbuild/bin/docs/tutorials/run.runfiles/bark_project/bark/runtime/viewer/matplotlib_viewer.py:49: MatplotlibDeprecationWarning: Case-insensitive properties were deprecated in 3.3 and support will be removed two minor releases later\n",
      "  linewidth=linewidth)\n",
      "/home/kessler/.cache/bazel/_bazel_kessler/6ba317d7828f21aa2067abd006e869d3/execroot/bark_project/bazel-out/k8-fastbuild/bin/docs/tutorials/run.runfiles/bark_project/bark/runtime/viewer/matplotlib_viewer.py:49: MatplotlibDeprecationWarning: Case-insensitive properties were deprecated in 3.3 and support will be removed two minor releases later\n",
      "  linewidth=linewidth)\n",
      "/home/kessler/.cache/bazel/_bazel_kessler/6ba317d7828f21aa2067abd006e869d3/execroot/bark_project/bazel-out/k8-fastbuild/bin/docs/tutorials/run.runfiles/bark_project/bark/runtime/viewer/matplotlib_viewer.py:49: MatplotlibDeprecationWarning: Case-insensitive properties were deprecated in 3.3 and support will be removed two minor releases later\n",
      "  linewidth=linewidth)\n",
      "/home/kessler/.cache/bazel/_bazel_kessler/6ba317d7828f21aa2067abd006e869d3/execroot/bark_project/bazel-out/k8-fastbuild/bin/docs/tutorials/run.runfiles/bark_project/bark/runtime/viewer/matplotlib_viewer.py:49: MatplotlibDeprecationWarning: Case-insensitive properties were deprecated in 3.3 and support will be removed two minor releases later\n",
      "  linewidth=linewidth)\n",
      "/home/kessler/.cache/bazel/_bazel_kessler/6ba317d7828f21aa2067abd006e869d3/execroot/bark_project/bazel-out/k8-fastbuild/bin/docs/tutorials/run.runfiles/bark_project/bark/runtime/viewer/matplotlib_viewer.py:49: MatplotlibDeprecationWarning: Case-insensitive properties were deprecated in 3.3 and support will be removed two minor releases later\n",
      "  linewidth=linewidth)\n",
      "/home/kessler/.cache/bazel/_bazel_kessler/6ba317d7828f21aa2067abd006e869d3/execroot/bark_project/bazel-out/k8-fastbuild/bin/docs/tutorials/run.runfiles/bark_project/bark/runtime/viewer/matplotlib_viewer.py:49: MatplotlibDeprecationWarning: Case-insensitive properties were deprecated in 3.3 and support will be removed two minor releases later\n",
      "  linewidth=linewidth)\n",
      "/home/kessler/.cache/bazel/_bazel_kessler/6ba317d7828f21aa2067abd006e869d3/execroot/bark_project/bazel-out/k8-fastbuild/bin/docs/tutorials/run.runfiles/bark_project/bark/runtime/viewer/matplotlib_viewer.py:49: MatplotlibDeprecationWarning: Case-insensitive properties were deprecated in 3.3 and support will be removed two minor releases later\n",
      "  linewidth=linewidth)\n",
      "/home/kessler/.cache/bazel/_bazel_kessler/6ba317d7828f21aa2067abd006e869d3/execroot/bark_project/bazel-out/k8-fastbuild/bin/docs/tutorials/run.runfiles/bark_project/bark/runtime/viewer/matplotlib_viewer.py:49: MatplotlibDeprecationWarning: Case-insensitive properties were deprecated in 3.3 and support will be removed two minor releases later\n",
      "  linewidth=linewidth)\n",
      "/home/kessler/.cache/bazel/_bazel_kessler/6ba317d7828f21aa2067abd006e869d3/execroot/bark_project/bazel-out/k8-fastbuild/bin/docs/tutorials/run.runfiles/bark_project/bark/runtime/viewer/matplotlib_viewer.py:49: MatplotlibDeprecationWarning: Case-insensitive properties were deprecated in 3.3 and support will be removed two minor releases later\n",
      "  linewidth=linewidth)\n"
     ]
    },
    {
     "data": {
      "text/plain": [
       "<Figure size 432x288 with 0 Axes>"
      ]
     },
     "metadata": {},
     "output_type": "display_data"
    },
    {
     "data": {
      "text/plain": [
       "<Figure size 432x288 with 0 Axes>"
      ]
     },
     "metadata": {},
     "output_type": "display_data"
    },
    {
     "name": "stderr",
     "output_type": "stream",
     "text": [
      "/home/kessler/.cache/bazel/_bazel_kessler/6ba317d7828f21aa2067abd006e869d3/execroot/bark_project/bazel-out/k8-fastbuild/bin/docs/tutorials/run.runfiles/bark_project/bark/runtime/viewer/matplotlib_viewer.py:49: MatplotlibDeprecationWarning: Case-insensitive properties were deprecated in 3.3 and support will be removed two minor releases later\n",
      "  linewidth=linewidth)\n",
      "/home/kessler/.cache/bazel/_bazel_kessler/6ba317d7828f21aa2067abd006e869d3/execroot/bark_project/bazel-out/k8-fastbuild/bin/docs/tutorials/run.runfiles/bark_project/bark/runtime/viewer/matplotlib_viewer.py:49: MatplotlibDeprecationWarning: Case-insensitive properties were deprecated in 3.3 and support will be removed two minor releases later\n",
      "  linewidth=linewidth)\n",
      "/home/kessler/.cache/bazel/_bazel_kessler/6ba317d7828f21aa2067abd006e869d3/execroot/bark_project/bazel-out/k8-fastbuild/bin/docs/tutorials/run.runfiles/bark_project/bark/runtime/viewer/matplotlib_viewer.py:49: MatplotlibDeprecationWarning: Case-insensitive properties were deprecated in 3.3 and support will be removed two minor releases later\n",
      "  linewidth=linewidth)\n",
      "/home/kessler/.cache/bazel/_bazel_kessler/6ba317d7828f21aa2067abd006e869d3/execroot/bark_project/bazel-out/k8-fastbuild/bin/docs/tutorials/run.runfiles/bark_project/bark/runtime/viewer/matplotlib_viewer.py:49: MatplotlibDeprecationWarning: Case-insensitive properties were deprecated in 3.3 and support will be removed two minor releases later\n",
      "  linewidth=linewidth)\n",
      "/home/kessler/.cache/bazel/_bazel_kessler/6ba317d7828f21aa2067abd006e869d3/execroot/bark_project/bazel-out/k8-fastbuild/bin/docs/tutorials/run.runfiles/bark_project/bark/runtime/viewer/matplotlib_viewer.py:49: MatplotlibDeprecationWarning: Case-insensitive properties were deprecated in 3.3 and support will be removed two minor releases later\n",
      "  linewidth=linewidth)\n",
      "/home/kessler/.cache/bazel/_bazel_kessler/6ba317d7828f21aa2067abd006e869d3/execroot/bark_project/bazel-out/k8-fastbuild/bin/docs/tutorials/run.runfiles/bark_project/bark/runtime/viewer/matplotlib_viewer.py:49: MatplotlibDeprecationWarning: Case-insensitive properties were deprecated in 3.3 and support will be removed two minor releases later\n",
      "  linewidth=linewidth)\n",
      "/home/kessler/.cache/bazel/_bazel_kessler/6ba317d7828f21aa2067abd006e869d3/execroot/bark_project/bazel-out/k8-fastbuild/bin/docs/tutorials/run.runfiles/bark_project/bark/runtime/viewer/matplotlib_viewer.py:49: MatplotlibDeprecationWarning: Case-insensitive properties were deprecated in 3.3 and support will be removed two minor releases later\n",
      "  linewidth=linewidth)\n",
      "/home/kessler/.cache/bazel/_bazel_kessler/6ba317d7828f21aa2067abd006e869d3/execroot/bark_project/bazel-out/k8-fastbuild/bin/docs/tutorials/run.runfiles/bark_project/bark/runtime/viewer/matplotlib_viewer.py:49: MatplotlibDeprecationWarning: Case-insensitive properties were deprecated in 3.3 and support will be removed two minor releases later\n",
      "  linewidth=linewidth)\n",
      "/home/kessler/.cache/bazel/_bazel_kessler/6ba317d7828f21aa2067abd006e869d3/execroot/bark_project/bazel-out/k8-fastbuild/bin/docs/tutorials/run.runfiles/bark_project/bark/runtime/viewer/matplotlib_viewer.py:49: MatplotlibDeprecationWarning: Case-insensitive properties were deprecated in 3.3 and support will be removed two minor releases later\n",
      "  linewidth=linewidth)\n"
     ]
    },
    {
     "data": {
      "text/plain": [
       "<Figure size 432x288 with 0 Axes>"
      ]
     },
     "metadata": {},
     "output_type": "display_data"
    },
    {
     "data": {
      "text/plain": [
       "<Figure size 432x288 with 0 Axes>"
      ]
     },
     "metadata": {},
     "output_type": "display_data"
    },
    {
     "name": "stderr",
     "output_type": "stream",
     "text": [
      "/home/kessler/.cache/bazel/_bazel_kessler/6ba317d7828f21aa2067abd006e869d3/execroot/bark_project/bazel-out/k8-fastbuild/bin/docs/tutorials/run.runfiles/bark_project/bark/runtime/viewer/matplotlib_viewer.py:49: MatplotlibDeprecationWarning: Case-insensitive properties were deprecated in 3.3 and support will be removed two minor releases later\n",
      "  linewidth=linewidth)\n",
      "/home/kessler/.cache/bazel/_bazel_kessler/6ba317d7828f21aa2067abd006e869d3/execroot/bark_project/bazel-out/k8-fastbuild/bin/docs/tutorials/run.runfiles/bark_project/bark/runtime/viewer/matplotlib_viewer.py:49: MatplotlibDeprecationWarning: Case-insensitive properties were deprecated in 3.3 and support will be removed two minor releases later\n",
      "  linewidth=linewidth)\n",
      "/home/kessler/.cache/bazel/_bazel_kessler/6ba317d7828f21aa2067abd006e869d3/execroot/bark_project/bazel-out/k8-fastbuild/bin/docs/tutorials/run.runfiles/bark_project/bark/runtime/viewer/matplotlib_viewer.py:49: MatplotlibDeprecationWarning: Case-insensitive properties were deprecated in 3.3 and support will be removed two minor releases later\n",
      "  linewidth=linewidth)\n",
      "/home/kessler/.cache/bazel/_bazel_kessler/6ba317d7828f21aa2067abd006e869d3/execroot/bark_project/bazel-out/k8-fastbuild/bin/docs/tutorials/run.runfiles/bark_project/bark/runtime/viewer/matplotlib_viewer.py:49: MatplotlibDeprecationWarning: Case-insensitive properties were deprecated in 3.3 and support will be removed two minor releases later\n",
      "  linewidth=linewidth)\n",
      "/home/kessler/.cache/bazel/_bazel_kessler/6ba317d7828f21aa2067abd006e869d3/execroot/bark_project/bazel-out/k8-fastbuild/bin/docs/tutorials/run.runfiles/bark_project/bark/runtime/viewer/matplotlib_viewer.py:49: MatplotlibDeprecationWarning: Case-insensitive properties were deprecated in 3.3 and support will be removed two minor releases later\n",
      "  linewidth=linewidth)\n",
      "/home/kessler/.cache/bazel/_bazel_kessler/6ba317d7828f21aa2067abd006e869d3/execroot/bark_project/bazel-out/k8-fastbuild/bin/docs/tutorials/run.runfiles/bark_project/bark/runtime/viewer/matplotlib_viewer.py:49: MatplotlibDeprecationWarning: Case-insensitive properties were deprecated in 3.3 and support will be removed two minor releases later\n",
      "  linewidth=linewidth)\n",
      "/home/kessler/.cache/bazel/_bazel_kessler/6ba317d7828f21aa2067abd006e869d3/execroot/bark_project/bazel-out/k8-fastbuild/bin/docs/tutorials/run.runfiles/bark_project/bark/runtime/viewer/matplotlib_viewer.py:49: MatplotlibDeprecationWarning: Case-insensitive properties were deprecated in 3.3 and support will be removed two minor releases later\n",
      "  linewidth=linewidth)\n",
      "/home/kessler/.cache/bazel/_bazel_kessler/6ba317d7828f21aa2067abd006e869d3/execroot/bark_project/bazel-out/k8-fastbuild/bin/docs/tutorials/run.runfiles/bark_project/bark/runtime/viewer/matplotlib_viewer.py:49: MatplotlibDeprecationWarning: Case-insensitive properties were deprecated in 3.3 and support will be removed two minor releases later\n",
      "  linewidth=linewidth)\n",
      "/home/kessler/.cache/bazel/_bazel_kessler/6ba317d7828f21aa2067abd006e869d3/execroot/bark_project/bazel-out/k8-fastbuild/bin/docs/tutorials/run.runfiles/bark_project/bark/runtime/viewer/matplotlib_viewer.py:49: MatplotlibDeprecationWarning: Case-insensitive properties were deprecated in 3.3 and support will be removed two minor releases later\n",
      "  linewidth=linewidth)\n"
     ]
    },
    {
     "data": {
      "text/plain": [
       "<Figure size 432x288 with 0 Axes>"
      ]
     },
     "metadata": {},
     "output_type": "display_data"
    },
    {
     "data": {
      "text/plain": [
       "<Figure size 432x288 with 0 Axes>"
      ]
     },
     "metadata": {},
     "output_type": "display_data"
    },
    {
     "name": "stderr",
     "output_type": "stream",
     "text": [
      "/home/kessler/.cache/bazel/_bazel_kessler/6ba317d7828f21aa2067abd006e869d3/execroot/bark_project/bazel-out/k8-fastbuild/bin/docs/tutorials/run.runfiles/bark_project/bark/runtime/viewer/matplotlib_viewer.py:49: MatplotlibDeprecationWarning: Case-insensitive properties were deprecated in 3.3 and support will be removed two minor releases later\n",
      "  linewidth=linewidth)\n",
      "/home/kessler/.cache/bazel/_bazel_kessler/6ba317d7828f21aa2067abd006e869d3/execroot/bark_project/bazel-out/k8-fastbuild/bin/docs/tutorials/run.runfiles/bark_project/bark/runtime/viewer/matplotlib_viewer.py:49: MatplotlibDeprecationWarning: Case-insensitive properties were deprecated in 3.3 and support will be removed two minor releases later\n",
      "  linewidth=linewidth)\n",
      "/home/kessler/.cache/bazel/_bazel_kessler/6ba317d7828f21aa2067abd006e869d3/execroot/bark_project/bazel-out/k8-fastbuild/bin/docs/tutorials/run.runfiles/bark_project/bark/runtime/viewer/matplotlib_viewer.py:49: MatplotlibDeprecationWarning: Case-insensitive properties were deprecated in 3.3 and support will be removed two minor releases later\n",
      "  linewidth=linewidth)\n",
      "/home/kessler/.cache/bazel/_bazel_kessler/6ba317d7828f21aa2067abd006e869d3/execroot/bark_project/bazel-out/k8-fastbuild/bin/docs/tutorials/run.runfiles/bark_project/bark/runtime/viewer/matplotlib_viewer.py:49: MatplotlibDeprecationWarning: Case-insensitive properties were deprecated in 3.3 and support will be removed two minor releases later\n",
      "  linewidth=linewidth)\n",
      "/home/kessler/.cache/bazel/_bazel_kessler/6ba317d7828f21aa2067abd006e869d3/execroot/bark_project/bazel-out/k8-fastbuild/bin/docs/tutorials/run.runfiles/bark_project/bark/runtime/viewer/matplotlib_viewer.py:49: MatplotlibDeprecationWarning: Case-insensitive properties were deprecated in 3.3 and support will be removed two minor releases later\n",
      "  linewidth=linewidth)\n",
      "/home/kessler/.cache/bazel/_bazel_kessler/6ba317d7828f21aa2067abd006e869d3/execroot/bark_project/bazel-out/k8-fastbuild/bin/docs/tutorials/run.runfiles/bark_project/bark/runtime/viewer/matplotlib_viewer.py:49: MatplotlibDeprecationWarning: Case-insensitive properties were deprecated in 3.3 and support will be removed two minor releases later\n",
      "  linewidth=linewidth)\n",
      "/home/kessler/.cache/bazel/_bazel_kessler/6ba317d7828f21aa2067abd006e869d3/execroot/bark_project/bazel-out/k8-fastbuild/bin/docs/tutorials/run.runfiles/bark_project/bark/runtime/viewer/matplotlib_viewer.py:49: MatplotlibDeprecationWarning: Case-insensitive properties were deprecated in 3.3 and support will be removed two minor releases later\n",
      "  linewidth=linewidth)\n",
      "/home/kessler/.cache/bazel/_bazel_kessler/6ba317d7828f21aa2067abd006e869d3/execroot/bark_project/bazel-out/k8-fastbuild/bin/docs/tutorials/run.runfiles/bark_project/bark/runtime/viewer/matplotlib_viewer.py:49: MatplotlibDeprecationWarning: Case-insensitive properties were deprecated in 3.3 and support will be removed two minor releases later\n",
      "  linewidth=linewidth)\n",
      "/home/kessler/.cache/bazel/_bazel_kessler/6ba317d7828f21aa2067abd006e869d3/execroot/bark_project/bazel-out/k8-fastbuild/bin/docs/tutorials/run.runfiles/bark_project/bark/runtime/viewer/matplotlib_viewer.py:49: MatplotlibDeprecationWarning: Case-insensitive properties were deprecated in 3.3 and support will be removed two minor releases later\n",
      "  linewidth=linewidth)\n"
     ]
    },
    {
     "data": {
      "text/plain": [
       "<Figure size 432x288 with 0 Axes>"
      ]
     },
     "metadata": {},
     "output_type": "display_data"
    },
    {
     "data": {
      "text/plain": [
       "<Figure size 432x288 with 0 Axes>"
      ]
     },
     "metadata": {},
     "output_type": "display_data"
    },
    {
     "name": "stderr",
     "output_type": "stream",
     "text": [
      "/home/kessler/.cache/bazel/_bazel_kessler/6ba317d7828f21aa2067abd006e869d3/execroot/bark_project/bazel-out/k8-fastbuild/bin/docs/tutorials/run.runfiles/bark_project/bark/runtime/viewer/matplotlib_viewer.py:49: MatplotlibDeprecationWarning: Case-insensitive properties were deprecated in 3.3 and support will be removed two minor releases later\n",
      "  linewidth=linewidth)\n",
      "/home/kessler/.cache/bazel/_bazel_kessler/6ba317d7828f21aa2067abd006e869d3/execroot/bark_project/bazel-out/k8-fastbuild/bin/docs/tutorials/run.runfiles/bark_project/bark/runtime/viewer/matplotlib_viewer.py:49: MatplotlibDeprecationWarning: Case-insensitive properties were deprecated in 3.3 and support will be removed two minor releases later\n",
      "  linewidth=linewidth)\n",
      "/home/kessler/.cache/bazel/_bazel_kessler/6ba317d7828f21aa2067abd006e869d3/execroot/bark_project/bazel-out/k8-fastbuild/bin/docs/tutorials/run.runfiles/bark_project/bark/runtime/viewer/matplotlib_viewer.py:49: MatplotlibDeprecationWarning: Case-insensitive properties were deprecated in 3.3 and support will be removed two minor releases later\n",
      "  linewidth=linewidth)\n",
      "/home/kessler/.cache/bazel/_bazel_kessler/6ba317d7828f21aa2067abd006e869d3/execroot/bark_project/bazel-out/k8-fastbuild/bin/docs/tutorials/run.runfiles/bark_project/bark/runtime/viewer/matplotlib_viewer.py:49: MatplotlibDeprecationWarning: Case-insensitive properties were deprecated in 3.3 and support will be removed two minor releases later\n",
      "  linewidth=linewidth)\n",
      "/home/kessler/.cache/bazel/_bazel_kessler/6ba317d7828f21aa2067abd006e869d3/execroot/bark_project/bazel-out/k8-fastbuild/bin/docs/tutorials/run.runfiles/bark_project/bark/runtime/viewer/matplotlib_viewer.py:49: MatplotlibDeprecationWarning: Case-insensitive properties were deprecated in 3.3 and support will be removed two minor releases later\n",
      "  linewidth=linewidth)\n",
      "/home/kessler/.cache/bazel/_bazel_kessler/6ba317d7828f21aa2067abd006e869d3/execroot/bark_project/bazel-out/k8-fastbuild/bin/docs/tutorials/run.runfiles/bark_project/bark/runtime/viewer/matplotlib_viewer.py:49: MatplotlibDeprecationWarning: Case-insensitive properties were deprecated in 3.3 and support will be removed two minor releases later\n",
      "  linewidth=linewidth)\n",
      "/home/kessler/.cache/bazel/_bazel_kessler/6ba317d7828f21aa2067abd006e869d3/execroot/bark_project/bazel-out/k8-fastbuild/bin/docs/tutorials/run.runfiles/bark_project/bark/runtime/viewer/matplotlib_viewer.py:49: MatplotlibDeprecationWarning: Case-insensitive properties were deprecated in 3.3 and support will be removed two minor releases later\n",
      "  linewidth=linewidth)\n",
      "/home/kessler/.cache/bazel/_bazel_kessler/6ba317d7828f21aa2067abd006e869d3/execroot/bark_project/bazel-out/k8-fastbuild/bin/docs/tutorials/run.runfiles/bark_project/bark/runtime/viewer/matplotlib_viewer.py:49: MatplotlibDeprecationWarning: Case-insensitive properties were deprecated in 3.3 and support will be removed two minor releases later\n",
      "  linewidth=linewidth)\n",
      "/home/kessler/.cache/bazel/_bazel_kessler/6ba317d7828f21aa2067abd006e869d3/execroot/bark_project/bazel-out/k8-fastbuild/bin/docs/tutorials/run.runfiles/bark_project/bark/runtime/viewer/matplotlib_viewer.py:49: MatplotlibDeprecationWarning: Case-insensitive properties were deprecated in 3.3 and support will be removed two minor releases later\n",
      "  linewidth=linewidth)\n"
     ]
    },
    {
     "data": {
      "text/plain": [
       "<Figure size 432x288 with 0 Axes>"
      ]
     },
     "metadata": {},
     "output_type": "display_data"
    },
    {
     "data": {
      "text/plain": [
       "<Figure size 432x288 with 0 Axes>"
      ]
     },
     "metadata": {},
     "output_type": "display_data"
    }
   ],
   "source": [
    "# Define how long the scenario shall run:\n",
    "param_server_idm[\"simulation\"][\"sim_time_steps\"] = 30\n",
    "\n",
    "# Init viewer\n",
    "viewer = MPViewer(params=param_server_idm, use_world_bounds=True)\n",
    "\n",
    "# Run the scenario\n",
    "world_state = scenario_idm.GetWorldState()\n",
    "for _ in range(0, param_server_idm[\"simulation\"][\"sim_time_steps\"]):\n",
    "    world_state.Step(param_server_idm[\"simulation\"][\"step_time\"])\n",
    "    viewer.drawWorld(world_state, scenario_idm._eval_agent_ids)\n",
    "    viewer.show(block=False)\n"
   ]
  },
  {
   "cell_type": "markdown",
   "metadata": {},
   "source": [
    "That's it. We now have replayed one slice of the interaction dataset in bark and inserted an IDM agent, that is abel to follow the given traffic."
   ]
  },
  {
   "cell_type": "code",
   "execution_count": null,
   "metadata": {},
   "outputs": [],
   "source": []
  }
 ],
 "metadata": {
  "kernelspec": {
   "display_name": "Python 3",
   "language": "python",
   "name": "python3"
  },
  "language_info": {
   "codemirror_mode": {
    "name": "ipython",
    "version": 3
   },
   "file_extension": ".py",
   "mimetype": "text/x-python",
   "name": "python",
   "nbconvert_exporter": "python",
   "pygments_lexer": "ipython3",
   "version": "3.7.9"
  }
 },
 "nbformat": 4,
 "nbformat_minor": 4
}
